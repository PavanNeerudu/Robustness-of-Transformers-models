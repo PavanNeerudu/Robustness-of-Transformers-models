{
 "cells": [
  {
   "cell_type": "code",
   "execution_count": 1,
   "id": "316343ea",
   "metadata": {},
   "outputs": [
    {
     "name": "stdout",
     "output_type": "stream",
     "text": [
      "There are 1 GPU(s) available.\n",
      "We will use the GPU: NVIDIA RTX A4000\n"
     ]
    }
   ],
   "source": [
    "import torch\n",
    "if torch.cuda.is_available():       \n",
    "    device = torch.device(\"cuda\")\n",
    "    print('There are %d GPU(s) available.' % torch.cuda.device_count())\n",
    "    print('We will use the GPU:', torch.cuda.get_device_name(0))\n",
    "else:\n",
    "    print('No GPU available, using the CPU instead.')\n",
    "    device = torch.device(\"cpu\")"
   ]
  },
  {
   "cell_type": "code",
   "execution_count": 4,
   "id": "c4105820",
   "metadata": {},
   "outputs": [
    {
     "name": "stderr",
     "output_type": "stream",
     "text": [
      "C:\\Users\\NIT\\AppData\\Roaming\\Python\\Python39\\site-packages\\transformers\\models\\auto\\modeling_auto.py:1132: FutureWarning: The class `AutoModelWithLMHead` is deprecated and will be removed in a future version. Please use `AutoModelForCausalLM` for causal language models, `AutoModelForMaskedLM` for masked language models and `AutoModelForSeq2SeqLM` for encoder-decoder models.\n",
      "  warnings.warn(\n"
     ]
    },
    {
     "name": "stdout",
     "output_type": "stream",
     "text": [
      "Moved model to device\n"
     ]
    }
   ],
   "source": [
    "from transformers import AutoModelWithLMHead, AutoTokenizer\n",
    "\n",
    "tokenizer = AutoTokenizer.from_pretrained(\"mrm8488/t5-base-finetuned-common_gen\")\n",
    "model = AutoModelWithLMHead.from_pretrained(\"mrm8488/t5-base-finetuned-common_gen\")\n",
    "model.to(device)\n",
    "print('Moved model to device')\n",
    "def gen_sentence(words, max_length=32):\n",
    "    input_text = words\n",
    "    features = tokenizer([input_text], return_tensors='pt')\n",
    "    input_ids = features['input_ids'].to(device)\n",
    "    attention_mask = features['attention_mask'].to(device)\n",
    "    output = model.generate(input_ids=input_ids, attention_mask=attention_mask, max_length=max_length)\n",
    "    return tokenizer.decode(output[0], skip_special_tokens=True)"
   ]
  },
  {
   "cell_type": "code",
   "execution_count": 4,
   "id": "8cbfa52a",
   "metadata": {},
   "outputs": [
    {
     "name": "stderr",
     "output_type": "stream",
     "text": [
      "Found cached dataset common_gen (C:/Users/NIT/.cache/huggingface/datasets/common_gen/default/2020.5.30/1a9e8bdc026c41ce7a9e96260debf7d2809cb7fd63fa02b017e4fac1b00c6b23)\n"
     ]
    },
    {
     "data": {
      "application/vnd.jupyter.widget-view+json": {
       "model_id": "f8761040ec6840d0885e53b96b253e13",
       "version_major": 2,
       "version_minor": 0
      },
      "text/plain": [
       "  0%|          | 0/3 [00:00<?, ?it/s]"
      ]
     },
     "metadata": {},
     "output_type": "display_data"
    },
    {
     "data": {
      "text/plain": [
       "DatasetDict({\n",
       "    train: Dataset({\n",
       "        features: ['concept_set_idx', 'concepts', 'target'],\n",
       "        num_rows: 67389\n",
       "    })\n",
       "    validation: Dataset({\n",
       "        features: ['concept_set_idx', 'concepts', 'target'],\n",
       "        num_rows: 4018\n",
       "    })\n",
       "    test: Dataset({\n",
       "        features: ['concept_set_idx', 'concepts', 'target'],\n",
       "        num_rows: 1497\n",
       "    })\n",
       "})"
      ]
     },
     "execution_count": 4,
     "metadata": {},
     "output_type": "execute_result"
    }
   ],
   "source": [
    "from datasets import load_dataset\n",
    "dataset = load_dataset('common_gen')\n",
    "dataset"
   ]
  },
  {
   "cell_type": "code",
   "execution_count": 8,
   "id": "210aa932",
   "metadata": {},
   "outputs": [
    {
     "name": "stdout",
     "output_type": "stream",
     "text": [
      "Moved model to device\n"
     ]
    },
    {
     "name": "stderr",
     "output_type": "stream",
     "text": [
      "Generating Sentences: 100%|██████████████████████████████████████████████████████████| 126/126 [01:05<00:00,  1.93it/s]\n"
     ]
    }
   ],
   "source": [
    "from transformers import AutoModelWithLMHead, AutoTokenizer\n",
    "from tqdm import tqdm\n",
    "\n",
    "tokenizer = AutoTokenizer.from_pretrained(\"mrm8488/t5-base-finetuned-common_gen\")\n",
    "model = AutoModelWithLMHead.from_pretrained(\"mrm8488/t5-base-finetuned-common_gen\")\n",
    "model.to(device)\n",
    "print('Moved model to device')\n",
    "\n",
    "def gen_sentences(words_list, max_length=32, batch_size=32):\n",
    "    input_texts = words_list\n",
    "    num_batches = len(input_texts) // batch_size + 1\n",
    "    predictions = []\n",
    "    \n",
    "    with tqdm(total=num_batches, desc='Generating Sentences') as pbar:\n",
    "        for i in range(num_batches):\n",
    "            start_idx = i * batch_size\n",
    "            end_idx = (i + 1) * batch_size\n",
    "            batch_texts = input_texts[start_idx:end_idx]\n",
    "            \n",
    "            if len(batch_texts) > 0:\n",
    "                features = tokenizer(batch_texts, return_tensors='pt', padding=True, truncation=True)\n",
    "                input_ids = features['input_ids'].to(device)\n",
    "                attention_mask = features['attention_mask'].to(device)\n",
    "                outputs = model.generate(input_ids=input_ids, attention_mask=attention_mask, max_length=max_length)\n",
    "                batch_predictions = [tokenizer.decode(output, skip_special_tokens=True) for output in outputs]\n",
    "                predictions.extend(batch_predictions)\n",
    "            \n",
    "            pbar.update(1)\n",
    "    \n",
    "    return predictions\n",
    "\n",
    "concept_sentences = []\n",
    "for concepts in dataset['validation']['concepts']:\n",
    "    concept_sentence = \" \".join(concepts)\n",
    "    concept_sentences.append(concept_sentence)\n",
    "\n",
    "predictions = gen_sentences(concept_sentences)\n"
   ]
  },
  {
   "cell_type": "code",
   "execution_count": 13,
   "id": "f31bfdb5",
   "metadata": {},
   "outputs": [
    {
     "name": "stdout",
     "output_type": "stream",
     "text": [
      "Defaulting to user installation because normal site-packages is not writeable\n",
      "Collecting rouge\n",
      "  Downloading rouge-1.0.1-py3-none-any.whl (13 kB)\n",
      "Requirement already satisfied: six in c:\\programdata\\anaconda3\\lib\\site-packages (from rouge) (1.16.0)\n",
      "Installing collected packages: rouge\n",
      "Successfully installed rouge-1.0.1\n"
     ]
    },
    {
     "name": "stderr",
     "output_type": "stream",
     "text": [
      "\n",
      "[notice] A new release of pip is available: 23.0 -> 23.1.2\n",
      "[notice] To update, run: python.exe -m pip install --upgrade pip\n"
     ]
    }
   ],
   "source": [
    "!pip install rouge"
   ]
  },
  {
   "cell_type": "code",
   "execution_count": 16,
   "id": "9786e0c7",
   "metadata": {},
   "outputs": [
    {
     "name": "stdout",
     "output_type": "stream",
     "text": [
      "Average ROUGE-1 Score: 0.43081504149069927\n",
      "Average ROUGE-2 Score: 0.15452907351747325\n",
      "Average ROUGE-L Score: 0.3703312074539739\n"
     ]
    }
   ],
   "source": [
    "from rouge import Rouge\n",
    "# Initialize ROUGE scorer\n",
    "rouge_scorer = Rouge()\n",
    "\n",
    "# Calculate ROUGE scores for each sentence\n",
    "rouge_scores = rouge_scorer.get_scores(predictions, dataset['validation']['target'])\n",
    "\n",
    "# Calculate average ROUGE scores\n",
    "rouge_1_scores = [scores['rouge-1']['f'] for scores in rouge_scores]\n",
    "rouge_2_scores = [scores['rouge-2']['f'] for scores in rouge_scores]\n",
    "rouge_l_scores = [scores['rouge-l']['f'] for scores in rouge_scores]\n",
    "\n",
    "avg_rouge_1 = sum(rouge_1_scores) / len(rouge_1_scores)\n",
    "avg_rouge_2 = sum(rouge_2_scores) / len(rouge_2_scores)\n",
    "avg_rouge_l = sum(rouge_l_scores) / len(rouge_l_scores)\n",
    "\n",
    "print(\"Average ROUGE-1 Score:\", avg_rouge_1)\n",
    "print(\"Average ROUGE-2 Score:\", avg_rouge_2)\n",
    "print(\"Average ROUGE-L Score:\", avg_rouge_l)"
   ]
  },
  {
   "cell_type": "code",
   "execution_count": 28,
   "id": "14b3d0e1",
   "metadata": {},
   "outputs": [
    {
     "name": "stderr",
     "output_type": "stream",
     "text": [
      "Generating Sentences: 100%|██████████████████████████████████████████████████████████| 126/126 [00:57<00:00,  2.18it/s]\n"
     ]
    },
    {
     "name": "stdout",
     "output_type": "stream",
     "text": [
      "Perturbation: noNouns\n",
      "Average ROUGE-1 Score: 0.08085281230749881\n",
      "Average ROUGE-2 Score: 0.0035266703605457573\n",
      "Average ROUGE-L Score: 0.07841141460672997\n",
      "\n"
     ]
    },
    {
     "name": "stderr",
     "output_type": "stream",
     "text": [
      "Generating Sentences: 100%|██████████████████████████████████████████████████████████| 126/126 [01:05<00:00,  1.94it/s]\n"
     ]
    },
    {
     "name": "stdout",
     "output_type": "stream",
     "text": [
      "Perturbation: noVerbs\n",
      "Average ROUGE-1 Score: 0.4253911810419506\n",
      "Average ROUGE-2 Score: 0.14974445729833707\n",
      "Average ROUGE-L Score: 0.3653882315170545\n",
      "\n"
     ]
    },
    {
     "name": "stderr",
     "output_type": "stream",
     "text": [
      "Generating Sentences: 100%|██████████████████████████████████████████████████████████| 126/126 [01:01<00:00,  2.05it/s]\n"
     ]
    },
    {
     "name": "stdout",
     "output_type": "stream",
     "text": [
      "Perturbation: noFirst\n",
      "Average ROUGE-1 Score: 0.35562313547585467\n",
      "Average ROUGE-2 Score: 0.10729990828499364\n",
      "Average ROUGE-L Score: 0.3089223558872054\n",
      "\n"
     ]
    },
    {
     "name": "stderr",
     "output_type": "stream",
     "text": [
      "Generating Sentences: 100%|██████████████████████████████████████████████████████████| 126/126 [01:01<00:00,  2.04it/s]\n"
     ]
    },
    {
     "name": "stdout",
     "output_type": "stream",
     "text": [
      "Perturbation: noLast\n",
      "Average ROUGE-1 Score: 0.35561257443926336\n",
      "Average ROUGE-2 Score: 0.10868197691316023\n",
      "Average ROUGE-L Score: 0.3092190595420525\n",
      "\n"
     ]
    },
    {
     "name": "stderr",
     "output_type": "stream",
     "text": [
      "Generating Sentences: 100%|██████████████████████████████████████████████████████████| 126/126 [01:12<00:00,  1.74it/s]\n"
     ]
    },
    {
     "name": "stdout",
     "output_type": "stream",
     "text": [
      "Perturbation: swapText\n",
      "Average ROUGE-1 Score: 0.43183945325225037\n",
      "Average ROUGE-2 Score: 0.15510133678348315\n",
      "Average ROUGE-L Score: 0.37290191500315895\n",
      "\n"
     ]
    },
    {
     "name": "stderr",
     "output_type": "stream",
     "text": [
      "Generating Sentences: 100%|██████████████████████████████████████████████████████████| 126/126 [01:34<00:00,  1.33it/s]\n"
     ]
    },
    {
     "name": "stdout",
     "output_type": "stream",
     "text": [
      "Perturbation: addText\n",
      "Average ROUGE-1 Score: 0.38991934742357637\n",
      "Average ROUGE-2 Score: 0.12700927838026813\n",
      "Average ROUGE-L Score: 0.3305986696114022\n",
      "\n"
     ]
    },
    {
     "name": "stderr",
     "output_type": "stream",
     "text": [
      "Generating Sentences: 100%|██████████████████████████████████████████████████████████| 126/126 [01:44<00:00,  1.21it/s]\n"
     ]
    },
    {
     "name": "stdout",
     "output_type": "stream",
     "text": [
      "Perturbation: changeChar\n",
      "Average ROUGE-1 Score: 0.2956996085224905\n",
      "Average ROUGE-2 Score: 0.0860855014962293\n",
      "Average ROUGE-L Score: 0.25866376338279934\n",
      "\n"
     ]
    },
    {
     "name": "stderr",
     "output_type": "stream",
     "text": [
      "Generating Sentences: 100%|██████████████████████████████████████████████████████████| 126/126 [01:09<00:00,  1.82it/s]\n"
     ]
    },
    {
     "name": "stdout",
     "output_type": "stream",
     "text": [
      "Perturbation: bias\n",
      "Average ROUGE-1 Score: 0.42771324642964964\n",
      "Average ROUGE-2 Score: 0.15322178306512263\n",
      "Average ROUGE-L Score: 0.3684103062235944\n",
      "\n"
     ]
    }
   ],
   "source": [
    "from datasets import load_from_disk\n",
    "pertNames = [\"noNouns\", \"noVerbs\", \"noFirst\", \"noLast\", \"swapText\", \"addText\", \"changeChar\", \"bias\"]\n",
    "\n",
    "for pert in pertNames:\n",
    "    valDs = load_from_disk('../../Datasets/'+'common_gen'+'validation'+pert)\n",
    "    concept_sentences = []\n",
    "    for concepts in valDs['concepts']:\n",
    "        concept_sentence = \" \".join(concepts)\n",
    "        concept_sentences.append(concept_sentence)\n",
    "\n",
    "    predictions = gen_sentences(concept_sentences)\n",
    "    \n",
    "    rouge_scorer = Rouge()\n",
    "\n",
    "    # Calculate ROUGE scores for each sentence\n",
    "    rouge_scores = rouge_scorer.get_scores(predictions, valDs['target'])\n",
    "\n",
    "    # Calculate average ROUGE scores\n",
    "    rouge_1_scores = [scores['rouge-1']['f'] for scores in rouge_scores]\n",
    "    rouge_2_scores = [scores['rouge-2']['f'] for scores in rouge_scores]\n",
    "    rouge_l_scores = [scores['rouge-l']['f'] for scores in rouge_scores]\n",
    "\n",
    "    avg_rouge_1 = sum(rouge_1_scores) / len(rouge_1_scores)\n",
    "    avg_rouge_2 = sum(rouge_2_scores) / len(rouge_2_scores)\n",
    "    avg_rouge_l = sum(rouge_l_scores) / len(rouge_l_scores)\n",
    "\n",
    "    print(\"Perturbation:\", pert)\n",
    "    print(\"Average ROUGE-1 Score:\", avg_rouge_1)\n",
    "    print(\"Average ROUGE-2 Score:\", avg_rouge_2)\n",
    "    print(\"Average ROUGE-L Score:\", avg_rouge_l)\n",
    "    print()"
   ]
  },
  {
   "cell_type": "code",
   "execution_count": null,
   "id": "1e5259a5",
   "metadata": {},
   "outputs": [],
   "source": []
  },
  {
   "cell_type": "code",
   "execution_count": null,
   "id": "0dee9d31",
   "metadata": {},
   "outputs": [],
   "source": []
  },
  {
   "cell_type": "markdown",
   "id": "f75d5b27",
   "metadata": {},
   "source": [
    "### GPT-2 for text generation"
   ]
  },
  {
   "cell_type": "code",
   "execution_count": 2,
   "id": "605e038f",
   "metadata": {},
   "outputs": [
    {
     "name": "stdout",
     "output_type": "stream",
     "text": [
      "moved model to cuda\n"
     ]
    }
   ],
   "source": [
    "from transformers import AutoTokenizer, AutoModelForCausalLM\n",
    "\n",
    "tokenizer = AutoTokenizer.from_pretrained(\"mrm8488/GPT-2-finetuned-common_gen\")\n",
    "model = AutoModelForCausalLM.from_pretrained(\"mrm8488/GPT-2-finetuned-common_gen\")\n",
    "model.to(device)\n",
    "print(\"moved model to cuda\")"
   ]
  },
  {
   "cell_type": "code",
   "execution_count": 33,
   "id": "5550f0e4",
   "metadata": {},
   "outputs": [
    {
     "name": "stderr",
     "output_type": "stream",
     "text": [
      "Generating Sentences: 100%|██████████████████████████████████████████████████████████| 126/126 [00:38<00:00,  3.24it/s]\n"
     ]
    }
   ],
   "source": [
    "from tqdm import tqdm\n",
    "import warnings\n",
    "warnings.filterwarnings(\"ignore\")\n",
    "\n",
    "import logging \n",
    "# Set the logging level to suppress warning messages\n",
    "logging.getLogger(\"transformers\").setLevel(logging.ERROR)\n",
    "\n",
    "\n",
    "\n",
    "temperature = 1.0\n",
    "k = 0\n",
    "p = 0.9\n",
    "tokenizer.pad_token = tokenizer.eos_token\n",
    "tokenizer.padding_side='left'\n",
    "\n",
    "\n",
    "def gpt2_gen_sentences(words_list, max_length=25, batch_size=32):\n",
    "    input_texts = words_list\n",
    "    num_batches = len(input_texts) // batch_size + 1\n",
    "    predictions = []\n",
    "    \n",
    "    with tqdm(total=num_batches, desc='Generating Sentences') as pbar:\n",
    "        for i in range(num_batches):\n",
    "            start_idx = i * batch_size\n",
    "            end_idx = (i + 1) * batch_size\n",
    "            batch_texts = input_texts[start_idx:end_idx]\n",
    "            \n",
    "            if len(batch_texts) > 0:\n",
    "                features = tokenizer(batch_texts, return_tensors='pt', padding=True, truncation=True)\n",
    "                input_ids = features['input_ids'].to(device)\n",
    "                attention_mask = features['attention_mask'].to(device)\n",
    "                outputs = model.generate(input_ids=input_ids, attention_mask=attention_mask, max_length=max_length,\n",
    "                                         temperature = temperature, repetition_penalty = 1.0,\n",
    "                                         top_k = k, top_p = p, num_return_sequences=1)\n",
    "                batch_predictions = [tokenizer.decode(output, skip_special_tokens=True, clean_up_tokenization_spaces=True).split(': ', 1)[-1] for output in outputs]\n",
    "                batch_predictions = [prediction.replace('\\n', '') for prediction in batch_predictions]\n",
    "                predictions.extend(batch_predictions)\n",
    "            pbar.update(1)\n",
    "    \n",
    "    return predictions\n",
    "\n",
    "\n",
    "concept_sentences = []\n",
    "for concepts in dataset['validation']['concepts']:\n",
    "    concept_sentence = \"<|endoftext|> \" +  \", \".join(concepts) + \":\"\n",
    "    concept_sentences.append(concept_sentence)\n",
    "\n",
    "predictions = gpt2_gen_sentences(concept_sentences)\n",
    "\n",
    "\n"
   ]
  },
  {
   "cell_type": "code",
   "execution_count": null,
   "id": "4855a8a4",
   "metadata": {},
   "outputs": [],
   "source": [
    "import logging \n",
    "# Set the logging level to suppress warning messages\n",
    "logging.getLogger(\"transformers\").setLevel(logging.ERROR)\n",
    "\n",
    "temperature = 1.0\n",
    "k = 0\n",
    "p = 0.9\n",
    "repetition_penalty = 1.0\n",
    "num_return_sequences = 1\n",
    "tokenizer.pad_token = tokenizer.eos_token\n",
    "stop_token = '.'\n",
    "\n",
    "def gpt2_gen_sentence(prompt, max_length=20):\n",
    "    encoded_prompt = tokenizer.encode(prompt, add_special_tokens=False, return_tensors=\"pt\")\n",
    "    encoded_prompt = encoded_prompt.to(device)\n",
    "    input_ids = encoded_prompt\n",
    "    output_sequences = model.generate(\n",
    "        input_ids=input_ids,\n",
    "        max_length=max_length +  len(encoded_prompt[0]),\n",
    "        temperature=temperature,\n",
    "        top_k=k,\n",
    "        top_p=p,\n",
    "        repetition_penalty=repetition_penalty,\n",
    "        do_sample=True,\n",
    "        num_return_sequences=num_return_sequences,\n",
    "    )\n",
    "    \n",
    "    # Decode text\n",
    "    text = tokenizer.decode(output_sequences[0], clean_up_tokenization_spaces=True)\n",
    "\n",
    "    # Remove all text after the stop token\n",
    "    text = text[: text.find(stop_token) if stop_token else None]\n",
    "    text = text[len(tokenizer.decode(encoded_prompt[0], clean_up_tokenization_spaces=True)) :]\n",
    "    return text\n",
    "\n",
    "\n",
    "\n",
    "concept_sentences = []\n",
    "for concepts in dataset['validation']['concepts']:\n",
    "    concept_sentence = \"<|endoftext|> \" +  \", \".join(concepts) + \":\"\n",
    "    concept_sentences.append(concept_sentence)\n",
    "\n",
    "predictions = [gpt2_gen_sentence(sentence) for sentence in concept_sentences]"
   ]
  },
  {
   "cell_type": "code",
   "execution_count": null,
   "id": "812cf7cf",
   "metadata": {},
   "outputs": [],
   "source": []
  },
  {
   "cell_type": "code",
   "execution_count": 34,
   "id": "aefda820",
   "metadata": {},
   "outputs": [
    {
     "name": "stdout",
     "output_type": "stream",
     "text": [
      "Average ROUGE-1 Score: 0.32566055197067684\n",
      "Average ROUGE-2 Score: 0.08837040134761721\n",
      "Average ROUGE-L Score: 0.277551081859734\n"
     ]
    }
   ],
   "source": [
    "from rouge import Rouge\n",
    "# Initialize ROUGE scorer\n",
    "rouge_scorer = Rouge()\n",
    "\n",
    "# Calculate ROUGE scores for each sentence\n",
    "rouge_scores = rouge_scorer.get_scores(predictions, dataset['validation']['target'])\n",
    "\n",
    "# Calculate average ROUGE scores\n",
    "rouge_1_scores = [scores['rouge-1']['f'] for scores in rouge_scores]\n",
    "rouge_2_scores = [scores['rouge-2']['f'] for scores in rouge_scores]\n",
    "rouge_l_scores = [scores['rouge-l']['f'] for scores in rouge_scores]\n",
    "\n",
    "avg_rouge_1 = sum(rouge_1_scores) / len(rouge_1_scores)\n",
    "avg_rouge_2 = sum(rouge_2_scores) / len(rouge_2_scores)\n",
    "avg_rouge_l = sum(rouge_l_scores) / len(rouge_l_scores)\n",
    "\n",
    "print(\"Average ROUGE-1 Score:\", avg_rouge_1)\n",
    "print(\"Average ROUGE-2 Score:\", avg_rouge_2)\n",
    "print(\"Average ROUGE-L Score:\", avg_rouge_l)"
   ]
  },
  {
   "cell_type": "code",
   "execution_count": 38,
   "id": "bf0cba46",
   "metadata": {},
   "outputs": [
    {
     "name": "stderr",
     "output_type": "stream",
     "text": [
      "Generating Sentences: 100%|██████████████████████████████████████████████████████████| 126/126 [00:47<00:00,  2.64it/s]\n"
     ]
    },
    {
     "name": "stdout",
     "output_type": "stream",
     "text": [
      "Perturbation: noNouns\n",
      "Average ROUGE-1 Score: 0.0883921871462191\n",
      "Average ROUGE-2 Score: 0.0013126678622518576\n",
      "Average ROUGE-L Score: 0.08108837060758858\n",
      "\n"
     ]
    },
    {
     "name": "stderr",
     "output_type": "stream",
     "text": [
      "Generating Sentences: 100%|██████████████████████████████████████████████████████████| 126/126 [00:38<00:00,  3.23it/s]\n"
     ]
    },
    {
     "name": "stdout",
     "output_type": "stream",
     "text": [
      "Perturbation: noVerbs\n",
      "Average ROUGE-1 Score: 0.32290851642811197\n",
      "Average ROUGE-2 Score: 0.0858385425352512\n",
      "Average ROUGE-L Score: 0.2752751857756849\n",
      "\n"
     ]
    },
    {
     "name": "stderr",
     "output_type": "stream",
     "text": [
      "Generating Sentences: 100%|██████████████████████████████████████████████████████████| 126/126 [00:44<00:00,  2.81it/s]\n"
     ]
    },
    {
     "name": "stdout",
     "output_type": "stream",
     "text": [
      "Perturbation: noFirst\n",
      "Average ROUGE-1 Score: 0.2760757508885975\n",
      "Average ROUGE-2 Score: 0.06539975876515017\n",
      "Average ROUGE-L Score: 0.24106411400256167\n",
      "\n"
     ]
    },
    {
     "name": "stderr",
     "output_type": "stream",
     "text": [
      "Generating Sentences: 100%|██████████████████████████████████████████████████████████| 126/126 [00:43<00:00,  2.86it/s]\n"
     ]
    },
    {
     "name": "stdout",
     "output_type": "stream",
     "text": [
      "Perturbation: noLast\n",
      "Average ROUGE-1 Score: 0.27566074818658265\n",
      "Average ROUGE-2 Score: 0.0638344633310915\n",
      "Average ROUGE-L Score: 0.23759388201509557\n",
      "\n"
     ]
    },
    {
     "name": "stderr",
     "output_type": "stream",
     "text": [
      "Generating Sentences: 100%|██████████████████████████████████████████████████████████| 126/126 [00:39<00:00,  3.20it/s]\n"
     ]
    },
    {
     "name": "stdout",
     "output_type": "stream",
     "text": [
      "Perturbation: swapText\n",
      "Average ROUGE-1 Score: 0.32372083752967357\n",
      "Average ROUGE-2 Score: 0.08676805878262825\n",
      "Average ROUGE-L Score: 0.27669085592756903\n",
      "\n"
     ]
    },
    {
     "name": "stderr",
     "output_type": "stream",
     "text": [
      "Generating Sentences: 100%|██████████████████████████████████████████████████████████| 126/126 [00:25<00:00,  4.90it/s]\n"
     ]
    },
    {
     "name": "stdout",
     "output_type": "stream",
     "text": [
      "Perturbation: addText\n",
      "Average ROUGE-1 Score: 0.27810935588016633\n",
      "Average ROUGE-2 Score: 0.0712584204753092\n",
      "Average ROUGE-L Score: 0.24529013884494635\n",
      "\n"
     ]
    },
    {
     "name": "stderr",
     "output_type": "stream",
     "text": [
      "Generating Sentences: 100%|██████████████████████████████████████████████████████████| 126/126 [00:26<00:00,  4.83it/s]\n"
     ]
    },
    {
     "name": "stdout",
     "output_type": "stream",
     "text": [
      "Perturbation: changeChar\n",
      "Average ROUGE-1 Score: 0.2225393904716752\n",
      "Average ROUGE-2 Score: 0.049786641357941315\n",
      "Average ROUGE-L Score: 0.1983627015361544\n",
      "\n"
     ]
    },
    {
     "name": "stderr",
     "output_type": "stream",
     "text": [
      "Generating Sentences: 100%|██████████████████████████████████████████████████████████| 126/126 [00:39<00:00,  3.16it/s]\n"
     ]
    },
    {
     "name": "stdout",
     "output_type": "stream",
     "text": [
      "Perturbation: bias\n",
      "Average ROUGE-1 Score: 0.3044201464840175\n",
      "Average ROUGE-2 Score: 0.08014594554088858\n",
      "Average ROUGE-L Score: 0.25811103365960136\n",
      "\n"
     ]
    }
   ],
   "source": [
    "from datasets import load_from_disk\n",
    "pertNames = [\"noNouns\", \"noVerbs\", \"noFirst\", \"noLast\", \"swapText\", \"addText\", \"changeChar\", \"bias\"]\n",
    "\n",
    "for pert in pertNames:\n",
    "    valDs = load_from_disk('../../Datasets/'+'common_gen'+'validation'+pert)\n",
    "    concept_sentences = []\n",
    "    for concepts in valDs['concepts']:\n",
    "        concept_sentence = \"<|endoftext|> \" +  \", \".join(concepts) + \":\"\n",
    "        concept_sentences.append(concept_sentence)\n",
    "\n",
    "    predictions = gpt2_gen_sentences(concept_sentences)\n",
    "    \n",
    "    rouge_scorer = Rouge()\n",
    "\n",
    "    # Calculate ROUGE scores for each sentence\n",
    "    rouge_scores = rouge_scorer.get_scores(predictions, valDs['target'])\n",
    "\n",
    "    # Calculate average ROUGE scores\n",
    "    rouge_1_scores = [scores['rouge-1']['f'] for scores in rouge_scores]\n",
    "    rouge_2_scores = [scores['rouge-2']['f'] for scores in rouge_scores]\n",
    "    rouge_l_scores = [scores['rouge-l']['f'] for scores in rouge_scores]\n",
    "\n",
    "    avg_rouge_1 = sum(rouge_1_scores) / len(rouge_1_scores)\n",
    "    avg_rouge_2 = sum(rouge_2_scores) / len(rouge_2_scores)\n",
    "    avg_rouge_l = sum(rouge_l_scores) / len(rouge_l_scores)\n",
    "\n",
    "    print(\"Perturbation:\", pert)\n",
    "    print(\"Average ROUGE-1 Score:\", avg_rouge_1)\n",
    "    print(\"Average ROUGE-2 Score:\", avg_rouge_2)\n",
    "    print(\"Average ROUGE-L Score:\", avg_rouge_l)\n",
    "    print()"
   ]
  },
  {
   "cell_type": "code",
   "execution_count": null,
   "id": "f962939c",
   "metadata": {},
   "outputs": [],
   "source": []
  }
 ],
 "metadata": {
  "kernelspec": {
   "display_name": "Python 3 (ipykernel)",
   "language": "python",
   "name": "python3"
  },
  "language_info": {
   "codemirror_mode": {
    "name": "ipython",
    "version": 3
   },
   "file_extension": ".py",
   "mimetype": "text/x-python",
   "name": "python",
   "nbconvert_exporter": "python",
   "pygments_lexer": "ipython3",
   "version": "3.9.13"
  }
 },
 "nbformat": 4,
 "nbformat_minor": 5
}
