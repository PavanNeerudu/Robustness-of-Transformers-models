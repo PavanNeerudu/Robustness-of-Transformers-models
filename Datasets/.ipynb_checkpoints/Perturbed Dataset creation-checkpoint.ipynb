{
 "cells": [
  {
   "cell_type": "code",
   "execution_count": null,
   "id": "1d3b67cc",
   "metadata": {},
   "outputs": [],
   "source": []
  },
  {
   "cell_type": "code",
   "execution_count": 11,
   "id": "37472810",
   "metadata": {},
   "outputs": [],
   "source": [
    "import random\n",
    "import string\n",
    "import nltk\n",
    "from nltk import pos_tag\n",
    "from nltk.tokenize import word_tokenize\n",
    "from faker import Faker\n",
    "from typing import List\n",
    "from nltk.corpus import words\n",
    "\n",
    "class Perturbations:\n",
    "    def __init__ (self):\n",
    "        self.task_to_keys = {\n",
    "            \"cola\": (\"sentence\", None),\n",
    "            \"mnli\": (\"premise\", \"hypothesis\"),\n",
    "            \"mnli-mm\": (\"premise\", \"hypothesis\"),\n",
    "            \"ax\": (\"premise\", \"hypothesis\"),\n",
    "            \"mrpc\": (\"sentence1\", \"sentence2\"),\n",
    "            \"qnli\": (\"question\", \"sentence\"),\n",
    "            \"qqp\": (\"question1\", \"question2\"),\n",
    "            \"rte\": (\"sentence1\", \"sentence2\"),\n",
    "            \"sst2\": (\"sentence\", None),\n",
    "            \"stsb\": (\"sentence1\", \"sentence2\"),\n",
    "            \"wnli\": (\"sentence1\", \"sentence2\"),\n",
    "        }\n",
    "        self.word_list = words.words()\n",
    "\n",
    "    def removeNouns(self, sentence):\n",
    "        words = nltk.word_tokenize(sentence)\n",
    "        tagged_words = pos_tag(words)\n",
    "        filtered_sentence = [word for word, pos in tagged_words if pos != 'NN' and pos != 'NNP' and pos != 'NNS']\n",
    "        return ' '.join(filtered_sentence)\n",
    "\n",
    "    def removeVerbs(self, sentence):\n",
    "        words = nltk.word_tokenize(sentence)\n",
    "        tagged_words = pos_tag(words)\n",
    "        filtered_sentence = [word for word, pos in tagged_words if pos != 'VB' and pos != 'VBD' and pos != 'VBG' and pos != 'VBN' and pos != 'VBP' and pos != 'VBZ']\n",
    "        return ' '.join(filtered_sentence)\n",
    "\n",
    "    def random_swap_words(self, sentence):\n",
    "        words = word_tokenize(sentence)\n",
    "        if len(words) >= 2:\n",
    "            i, j = random.sample(range(len(words)), 2)\n",
    "            words[i], words[j] = words[j], words[i]\n",
    "            return \" \".join(words)\n",
    "        else:\n",
    "            return sentence\n",
    "        \n",
    "    \n",
    "    def add_random_words(self, sentence):\n",
    "        words = sentence.split()\n",
    "        num_words_to_add = int(len(words) / 10)\n",
    "        for i in range(num_words_to_add):\n",
    "            insert_index = random.randint(0, len(words) - 1)\n",
    "            words.insert(insert_index, random.choice(self.word_list))\n",
    "        return \" \".join(words)\n",
    "    \n",
    "    \n",
    "    def replace_characters(self, sentence, probability=0.10):\n",
    "        new_sentence = \"\"\n",
    "        for char in sentence:\n",
    "            if random.random() < probability:\n",
    "                char = random.choice(string.ascii_letters)\n",
    "            new_sentence += char\n",
    "        return new_sentence\n",
    "\n",
    "    def changeGender(self, str):\n",
    "        dictionary = {\n",
    "        \"batman\": \"batwoman\", \"batwoman\": \"batman\",\n",
    "        \"boy\": \"girl\", \"girl\": \"boy\",\n",
    "        \"boyfriend\": \"girlfriend\", \"girlfriend\": \"boyfriend\",\n",
    "        \"father\": \"mother\", \"mother\": \"father\",\n",
    "        \"husband\": \"wife\", \"wife\": \"husband\",\n",
    "        \"he\": \"she\", \"she\": \"he\", \"He\":\"She\", \"She\":\"He\",\n",
    "        \"his\": \"her\", \"her\": \"his\", \"His\":\"Her\", \"Her\":\"His\",\n",
    "        \"male\": \"female\", \"female\": \"male\",\"him\":\"her\",\"her\":\"him\",\n",
    "        \"man\": \"woman\", \"woman\": \"man\",\n",
    "        \"Mr\": \"Ms\", \"Mr\": \"Ms\",\n",
    "        \"sir\": \"madam\", \"madam\": \"sir\",\n",
    "        \"son\": \"daughter\", \"daughter\": \"son\",\n",
    "        \"uncle\": \"aunt\", \"aunt\": \"uncle\",\n",
    "        \"brother\": \"sister\", \"sister\": \"brother\",\n",
    "        \"king\": \"queen\", \"queen\": \"king\",\n",
    "        \"prince\": \"princess\", \"princess\": \"prince\",\n",
    "        \"male\": \"female\", \"female\": \"male\",\n",
    "        \"grandfather\": \"grandmother\", \"grandmother\": \"grandfather\",\n",
    "        \"nephew\": \"niece\", \"niece\": \"nephew\",\n",
    "        \"father-in-law\": \"mother-in-law\", \"mother-in-law\": \"father-in-law\",\n",
    "        \"son-in-law\": \"daughter-in-law\", \"daughter-in-law\": \"son-in-law\",\n",
    "        \"stepfather\": \"stepmother\", \"stepmother\": \"stepfather\",\n",
    "        \"godfather\": \"godmother\", \"godmother\": \"godfather\",\n",
    "        }\n",
    "\n",
    "        str = str + ' ' # Append a space at the en\n",
    "        temp = \"\"\n",
    "        ans = \"\"\n",
    "\n",
    "        for i in range(len(str)):\n",
    "            if str[i] != ' ':\n",
    "                temp += str[i]\n",
    "            else:\n",
    "                if temp in dictionary:\n",
    "                    temp = dictionary[temp]\n",
    "\n",
    "                ans = ans + temp + ' '\n",
    "                temp = \"\"\n",
    "        return ans\n",
    "\n",
    "\n",
    "\n",
    "    def noNouns(self, task, dataset):\n",
    "        sentence1Id, sentence2Id = self.task_to_keys[task]\n",
    "        if sentence2Id is None:\n",
    "            return [self.removeNouns(sentence)  for sentence in dataset[sentence1Id]], None\n",
    "        else:\n",
    "            sentences1 = [self.removeNouns(sentence) for sentence in dataset[sentence1Id]]\n",
    "            sentences2 = [self.removeNouns(sentence) for sentence in dataset[sentence2Id]]\n",
    "            return sentences1, sentences2\n",
    "\n",
    "\n",
    "    def noVerbs(self, task, dataset):\n",
    "        sentence1Id, sentence2Id = self.task_to_keys[task]\n",
    "        if sentence2Id is None:\n",
    "            return [self.removeVerbs(sentence)  for sentence in dataset[sentence1Id]], None\n",
    "        else:\n",
    "            sentences1 = [self.removeVerbs(sentence) for sentence in dataset[sentence1Id]]\n",
    "            sentences2 = [self.removeVerbs(sentence) for sentence in dataset[sentence2Id]]\n",
    "            return sentences1, sentences2\n",
    "    \n",
    "\n",
    "    def noFirst(self, task, dataset):\n",
    "        sentence1Id, sentence2Id = self.task_to_keys[task]\n",
    "        if sentence2Id is None:\n",
    "            return [sentence.split(\" \", 1)[1] if \" \" in sentence else sentence for sentence in dataset[sentence1Id]], None\n",
    "        else:\n",
    "            sentences1 = [sentence.split(\" \", 1)[1] if \" \" in sentence else sentence for sentence in dataset[sentence1Id]]\n",
    "            sentences2 = [sentence.split(\" \", 1)[1] if \" \" in sentence else sentence for sentence in dataset[sentence2Id]]\n",
    "            return sentences1, sentences2\n",
    "        \n",
    "\n",
    "    def noLast(self, task, dataset):\n",
    "        sentence1Id, sentence2Id = self.task_to_keys[task]\n",
    "        if sentence2Id is None:\n",
    "            return [sentence.rsplit(\" \", 1)[0] + sentence[-1] for sentence in dataset[sentence1Id]], None\n",
    "        else: \n",
    "            sentences1 = [sentence.rsplit(\" \", 1)[0] + sentence[-1] for sentence in dataset[sentence1Id]]\n",
    "            sentences2 = [sentence.rsplit(\" \", 1)[0] + sentence[-1] for sentence in dataset[sentence2Id]]\n",
    "            return sentences1, sentences2\n",
    "\n",
    "\n",
    "    def swapText(self, task, dataset):\n",
    "        sentence1Id, sentence2Id = self.task_to_keys[task]\n",
    "        if sentence2Id is None:\n",
    "            return [self.random_swap_words(sentence)  for sentence in dataset[sentence1Id]], None\n",
    "        else:\n",
    "            sentences1 = [self.random_swap_words(sentence) for sentence in dataset[sentence1Id]]\n",
    "            sentences2 = [self.random_swap_words(sentence) for sentence in dataset[sentence2Id]]\n",
    "            return sentences1, sentences2\n",
    "        \n",
    "    \n",
    "    def addText(self, task, dataset):\n",
    "        sentence1Id, sentence2Id = self.task_to_keys[task]\n",
    "        if sentence2Id is None:\n",
    "            return [self.add_random_words(sentence)  for sentence in dataset[sentence1Id]], None\n",
    "        else:\n",
    "            sentences1 = [self.add_random_words(sentence) for sentence in dataset[sentence1Id]]\n",
    "            sentences2 = [self.add_random_words(sentence) for sentence in dataset[sentence2Id]]\n",
    "            return sentences1, sentences2\n",
    "        \n",
    "        \n",
    "    def changeChar(self, task, dataset):\n",
    "        sentence1Id, sentence2Id = self.task_to_keys[task]\n",
    "        if sentence2Id is None:\n",
    "            return [self.replace_characters(sentence)  for sentence in dataset[sentence1Id]], None\n",
    "        else:\n",
    "            sentences1 = [self.replace_characters(sentence) for sentence in dataset[sentence1Id]]\n",
    "            sentences2 = [self.replace_characters(sentence) for sentence in dataset[sentence2Id]]\n",
    "            return sentences1, sentences2\n",
    "        \n",
    "\n",
    "    def bias(self, task, dataset):\n",
    "        sentence1Id, sentence2Id = self.task_to_keys[task]\n",
    "        if sentence2Id is None:\n",
    "            return [self.changeGender(sentence)  for sentence in dataset[sentence1Id]], None\n",
    "        else:\n",
    "            sentences1 = [self.changeGender(sentence) for sentence in dataset[sentence1Id]]\n",
    "            sentences2 = [self.changeGender(sentence) for sentence in dataset[sentence2Id]]\n",
    "            return sentences1, sentences2\n"
   ]
  },
  {
   "cell_type": "code",
   "execution_count": 12,
   "id": "065a42aa",
   "metadata": {},
   "outputs": [],
   "source": [
    "from datasets import Dataset\n",
    "\n",
    "class DatasetClass:\n",
    "    def __init__ (self):\n",
    "        pass\n",
    "    def getDataset(self,task,  sentences1, sentences2, labels):\n",
    "        task_to_keys = {\n",
    "            \"cola\": (\"sentence\", None),\n",
    "            \"mnli\": (\"premise\", \"hypothesis\"),\n",
    "            \"mnli-mm\": (\"premise\", \"hypothesis\"),\n",
    "            \"ax\":(\"premise\", \"hypothesis\"),\n",
    "            \"mrpc\": (\"sentence1\", \"sentence2\"),\n",
    "            \"qnli\": (\"question\", \"sentence\"),\n",
    "            \"qqp\": (\"question1\", \"question2\"),\n",
    "            \"rte\": (\"sentence1\", \"sentence2\"),\n",
    "            \"sst2\": (\"sentence\", None),\n",
    "            \"stsb\": (\"sentence1\", \"sentence2\"),\n",
    "            \"wnli\": (\"sentence1\", \"sentence2\"),\n",
    "        }\n",
    "        sentence1Id, sentence2Id = task_to_keys[task]\n",
    "        if sentence2Id is None:\n",
    "            return Dataset.from_dict({sentence1Id:sentences1, 'label':labels})\n",
    "        else:\n",
    "            return Dataset.from_dict({sentence1Id:sentences1, sentence2Id:sentences2, 'label':labels})\n",
    "\n"
   ]
  },
  {
   "cell_type": "code",
   "execution_count": null,
   "id": "4ad13986",
   "metadata": {},
   "outputs": [],
   "source": [
    "from datasets import load_dataset\n",
    "tasks = [  'cola', 'sst2', 'mrpc', 'stsb', 'qqp','mnli', 'qnli', 'rte', 'wnli']\n",
    "pertNames = [\"noNouns\", \"noVerbs\", \"noFirst\", \"noLast\", \"swapText\", \"addText\", \"changeChar\", \"bias\"]\n",
    "pertClass = Perturbations()\n",
    "\n",
    "datasetClass = DatasetClass()\n",
    "for task in tasks:\n",
    "    dataset = load_dataset('glue', task)\n",
    "    for pert in pertNames:\n",
    "        if task==\"mnli\":\n",
    "            trainS1, trainS2 = getattr(pertClass, pert)(task, dataset['train'])\n",
    "            validationmS1, validationmS2 = getattr(pertClass, pert)(task, dataset['validation_matched'])\n",
    "            validationmmS1, validationmmS2 = getattr(pertClass, pert)(task, dataset['validation_mismatched'])\n",
    "            testmS1, testmS2 = getattr(pertClass, pert)(task, dataset['test_matched'])\n",
    "            testmmS1, testmmS2 = getattr(pertClass, pert)(task, dataset['test_mismatched'])\n",
    "            trainDs =  datasetClass.getDataset(task, trainS1, trainS2, dataset['train']['label'])\n",
    "            validationmDs =  datasetClass.getDataset(task, validationmS1, validationmS2, dataset['validation_matched']['label'])\n",
    "            validationmmDs =  datasetClass.getDataset(task, validationmmS1, validationmmS2, dataset['validation_mismatched']['label'])\n",
    "            testmDs =  datasetClass.getDataset(task, testmS1, testmS2, dataset['test_matched']['label'])\n",
    "            testmmDs =  datasetClass.getDataset(task, testmmS1, testmmS2, dataset['test_mismatched']['label'])\n",
    "            trainDs.save_to_disk(task+'train'+pert)\n",
    "            validationmDs.save_to_disk(task+'validationm'+pert)\n",
    "            validationmmDs.save_to_disk(task+'validationmm'+pert)\n",
    "            testmDs.save_to_disk(task+'testm'+pert)\n",
    "            testmmDs.save_to_disk(task+'testmm'+pert)\n",
    "        else:\n",
    "            trainS1, trainS2 = getattr(pertClass, pert)(task, dataset['train'])\n",
    "            validationS1, validationS2 = getattr(pertClass, pert)(task, dataset['validation'])\n",
    "            testS1, testS2 = getattr(pertClass, pert)(task, dataset['test'])\n",
    "            trainDs = datasetClass.getDataset(task, trainS1, trainS2, dataset['train']['label'])\n",
    "            validationDs = datasetClass.getDataset(task, validationS1, validationS2 , dataset['validation']['label'])\n",
    "            testDs =  datasetClass.getDataset(task, testS1, testS2, dataset['test']['label'])\n",
    "            trainDs.save_to_disk(task+'train' + pert)\n",
    "            validationDs.save_to_disk(task+'validation'+pert)\n",
    "            testDs.save_to_disk(task+'test'+pert)\n",
    "    "
   ]
  },
  {
   "cell_type": "code",
   "execution_count": 13,
   "id": "8cadbcf6",
   "metadata": {},
   "outputs": [
    {
     "name": "stderr",
     "output_type": "stream",
     "text": [
      "Found cached dataset glue (C:/Users/NIT/.cache/huggingface/datasets/glue/ax/1.0.0/dacbe3125aa31d7f70367a07a8a9e72a5a0bfeb5fc42e75c9db75b96da6053ad)\n"
     ]
    },
    {
     "data": {
      "application/vnd.jupyter.widget-view+json": {
       "model_id": "4ba5df04395249989c4d3ece9d4e1421",
       "version_major": 2,
       "version_minor": 0
      },
      "text/plain": [
       "  0%|          | 0/1 [00:00<?, ?it/s]"
      ]
     },
     "metadata": {},
     "output_type": "display_data"
    },
    {
     "data": {
      "application/vnd.jupyter.widget-view+json": {
       "model_id": "6f4f88c1d4384d68991c37ba5c532b48",
       "version_major": 2,
       "version_minor": 0
      },
      "text/plain": [
       "Saving the dataset (0/1 shards):   0%|          | 0/1104 [00:00<?, ? examples/s]"
      ]
     },
     "metadata": {},
     "output_type": "display_data"
    },
    {
     "data": {
      "application/vnd.jupyter.widget-view+json": {
       "model_id": "0ca5b79a0f2147ee99aa8a8b675c7165",
       "version_major": 2,
       "version_minor": 0
      },
      "text/plain": [
       "Saving the dataset (0/1 shards):   0%|          | 0/1104 [00:00<?, ? examples/s]"
      ]
     },
     "metadata": {},
     "output_type": "display_data"
    },
    {
     "data": {
      "application/vnd.jupyter.widget-view+json": {
       "model_id": "17193cf8a80b4d0e8007eebe1dd09e93",
       "version_major": 2,
       "version_minor": 0
      },
      "text/plain": [
       "Saving the dataset (0/1 shards):   0%|          | 0/1104 [00:00<?, ? examples/s]"
      ]
     },
     "metadata": {},
     "output_type": "display_data"
    },
    {
     "data": {
      "application/vnd.jupyter.widget-view+json": {
       "model_id": "",
       "version_major": 2,
       "version_minor": 0
      },
      "text/plain": [
       "Saving the dataset (0/1 shards):   0%|          | 0/1104 [00:00<?, ? examples/s]"
      ]
     },
     "metadata": {},
     "output_type": "display_data"
    },
    {
     "data": {
      "application/vnd.jupyter.widget-view+json": {
       "model_id": "5c85c07f9b6c456d9a5a8a17147164c0",
       "version_major": 2,
       "version_minor": 0
      },
      "text/plain": [
       "Saving the dataset (0/1 shards):   0%|          | 0/1104 [00:00<?, ? examples/s]"
      ]
     },
     "metadata": {},
     "output_type": "display_data"
    },
    {
     "data": {
      "application/vnd.jupyter.widget-view+json": {
       "model_id": "",
       "version_major": 2,
       "version_minor": 0
      },
      "text/plain": [
       "Saving the dataset (0/1 shards):   0%|          | 0/1104 [00:00<?, ? examples/s]"
      ]
     },
     "metadata": {},
     "output_type": "display_data"
    },
    {
     "data": {
      "application/vnd.jupyter.widget-view+json": {
       "model_id": "f227d6f67d8e4d69a7f5bff358a16290",
       "version_major": 2,
       "version_minor": 0
      },
      "text/plain": [
       "Saving the dataset (0/1 shards):   0%|          | 0/1104 [00:00<?, ? examples/s]"
      ]
     },
     "metadata": {},
     "output_type": "display_data"
    },
    {
     "data": {
      "application/vnd.jupyter.widget-view+json": {
       "model_id": "ec498c722b7d4a2ca9bdeacf3d3677d7",
       "version_major": 2,
       "version_minor": 0
      },
      "text/plain": [
       "Saving the dataset (0/1 shards):   0%|          | 0/1104 [00:00<?, ? examples/s]"
      ]
     },
     "metadata": {},
     "output_type": "display_data"
    }
   ],
   "source": [
    "from datasets import load_dataset\n",
    "tasks = [ 'ax']\n",
    "pertNames = [\"noNouns\", \"noVerbs\", \"noFirst\", \"noLast\", \"swapText\", \"addText\", \"changeChar\", \"bias\"]\n",
    "pertClass = Perturbations()\n",
    "\n",
    "datasetClass = DatasetClass()\n",
    "for task in tasks:\n",
    "    dataset = load_dataset('glue', task)\n",
    "    for pert in pertNames:\n",
    "        testS1, testS2 = getattr(pertClass, pert)(task, dataset['test'])\n",
    "        testDs =  datasetClass.getDataset(task, testS1, testS2, dataset['test']['label'])\n",
    "        testDs.save_to_disk(task+'test'+pert)\n",
    "        "
   ]
  },
  {
   "cell_type": "code",
   "execution_count": null,
   "id": "da2fc58d",
   "metadata": {},
   "outputs": [],
   "source": []
  }
 ],
 "metadata": {
  "kernelspec": {
   "display_name": "Python 3 (ipykernel)",
   "language": "python",
   "name": "python3"
  },
  "language_info": {
   "codemirror_mode": {
    "name": "ipython",
    "version": 3
   },
   "file_extension": ".py",
   "mimetype": "text/x-python",
   "name": "python",
   "nbconvert_exporter": "python",
   "pygments_lexer": "ipython3",
   "version": "3.9.13"
  }
 },
 "nbformat": 4,
 "nbformat_minor": 5
}
