{
 "cells": [
  {
   "cell_type": "markdown",
   "id": "f0a12441",
   "metadata": {},
   "source": [
    "## CoLA - Corpus of Linguistic Acceptability : Is the sentence gramatically correct?"
   ]
  },
  {
   "cell_type": "markdown",
   "id": "681dc4aa",
   "metadata": {},
   "source": [
    "### Importing the libraries"
   ]
  },
  {
   "cell_type": "code",
   "execution_count": 2,
   "id": "0bba37cc",
   "metadata": {},
   "outputs": [],
   "source": [
    "import pickle\n",
    "import torch\n",
    "import numpy as np\n",
    "import pandas as pd\n",
    "from datasets import load_dataset\n",
    "from torch.utils.data import TensorDataset, random_split\n",
    "from torch.utils.data import DataLoader, SequentialSampler\n",
    "from transformers import AutoTokenizer\n",
    "from transformers import AutoModelForSequenceClassification\n",
    "from sklearn.preprocessing import StandardScaler\n",
    "from sklearn.linear_model import LogisticRegression\n",
    "import matplotlib.pyplot as plt"
   ]
  },
  {
   "cell_type": "markdown",
   "id": "e21150c4",
   "metadata": {},
   "source": [
    "### Checking if cuda device is available"
   ]
  },
  {
   "cell_type": "code",
   "execution_count": 3,
   "id": "5f88d053",
   "metadata": {},
   "outputs": [
    {
     "name": "stdout",
     "output_type": "stream",
     "text": [
      "There are 1 GPU(s) available.\n",
      "We will use the GPU: NVIDIA RTX A4000\n"
     ]
    }
   ],
   "source": [
    "if torch.cuda.is_available():       \n",
    "    device = torch.device(\"cuda\")\n",
    "    print('There are %d GPU(s) available.' % torch.cuda.device_count())\n",
    "    print('We will use the GPU:', torch.cuda.get_device_name(0))\n",
    "else:\n",
    "    print('No GPU available, using the CPU instead.')\n",
    "    device = torch.device(\"cpu\")"
   ]
  },
  {
   "cell_type": "markdown",
   "id": "48906ac8",
   "metadata": {},
   "source": [
    "### Loading the dataset"
   ]
  },
  {
   "cell_type": "code",
   "execution_count": 4,
   "id": "718d1161",
   "metadata": {},
   "outputs": [
    {
     "name": "stderr",
     "output_type": "stream",
     "text": [
      "Found cached dataset glue (C:/Users/NIT/.cache/huggingface/datasets/glue/cola/1.0.0/dacbe3125aa31d7f70367a07a8a9e72a5a0bfeb5fc42e75c9db75b96da6053ad)\n"
     ]
    },
    {
     "data": {
      "application/vnd.jupyter.widget-view+json": {
       "model_id": "954c552294444cc7b114dcdb81097c10",
       "version_major": 2,
       "version_minor": 0
      },
      "text/plain": [
       "  0%|          | 0/3 [00:00<?, ?it/s]"
      ]
     },
     "metadata": {},
     "output_type": "display_data"
    },
    {
     "data": {
      "text/plain": [
       "DatasetDict({\n",
       "    train: Dataset({\n",
       "        features: ['sentence', 'label', 'idx'],\n",
       "        num_rows: 8551\n",
       "    })\n",
       "    validation: Dataset({\n",
       "        features: ['sentence', 'label', 'idx'],\n",
       "        num_rows: 1043\n",
       "    })\n",
       "    test: Dataset({\n",
       "        features: ['sentence', 'label', 'idx'],\n",
       "        num_rows: 1063\n",
       "    })\n",
       "})"
      ]
     },
     "execution_count": 4,
     "metadata": {},
     "output_type": "execute_result"
    }
   ],
   "source": [
    "dataset = load_dataset('glue', 'cola')\n",
    "dataset"
   ]
  },
  {
   "cell_type": "markdown",
   "id": "49926310",
   "metadata": {},
   "source": [
    "### Using the tokenizer from huggingface"
   ]
  },
  {
   "cell_type": "code",
   "execution_count": 5,
   "id": "bed31e45",
   "metadata": {},
   "outputs": [],
   "source": [
    "tokenizer = AutoTokenizer.from_pretrained(\"gchhablani/bert-base-cased-finetuned-cola\")"
   ]
  },
  {
   "cell_type": "markdown",
   "id": "6a46a78b",
   "metadata": {},
   "source": [
    "### Loading the pre-trained and fine-tuned models from huggingface and moving them to device"
   ]
  },
  {
   "cell_type": "code",
   "execution_count": 6,
   "id": "eb5abdb7",
   "metadata": {},
   "outputs": [
    {
     "name": "stderr",
     "output_type": "stream",
     "text": [
      "Some weights of the model checkpoint at bert-base-cased were not used when initializing BertForSequenceClassification: ['cls.predictions.transform.LayerNorm.bias', 'cls.seq_relationship.bias', 'cls.predictions.transform.dense.weight', 'cls.predictions.decoder.weight', 'cls.seq_relationship.weight', 'cls.predictions.bias', 'cls.predictions.transform.dense.bias', 'cls.predictions.transform.LayerNorm.weight']\n",
      "- This IS expected if you are initializing BertForSequenceClassification from the checkpoint of a model trained on another task or with another architecture (e.g. initializing a BertForSequenceClassification model from a BertForPreTraining model).\n",
      "- This IS NOT expected if you are initializing BertForSequenceClassification from the checkpoint of a model that you expect to be exactly identical (initializing a BertForSequenceClassification model from a BertForSequenceClassification model).\n",
      "Some weights of BertForSequenceClassification were not initialized from the model checkpoint at bert-base-cased and are newly initialized: ['classifier.bias', 'classifier.weight']\n",
      "You should probably TRAIN this model on a down-stream task to be able to use it for predictions and inference.\n"
     ]
    },
    {
     "data": {
      "text/plain": [
       "BertForSequenceClassification(\n",
       "  (bert): BertModel(\n",
       "    (embeddings): BertEmbeddings(\n",
       "      (word_embeddings): Embedding(28996, 768, padding_idx=0)\n",
       "      (position_embeddings): Embedding(512, 768)\n",
       "      (token_type_embeddings): Embedding(2, 768)\n",
       "      (LayerNorm): LayerNorm((768,), eps=1e-12, elementwise_affine=True)\n",
       "      (dropout): Dropout(p=0.1, inplace=False)\n",
       "    )\n",
       "    (encoder): BertEncoder(\n",
       "      (layer): ModuleList(\n",
       "        (0): BertLayer(\n",
       "          (attention): BertAttention(\n",
       "            (self): BertSelfAttention(\n",
       "              (query): Linear(in_features=768, out_features=768, bias=True)\n",
       "              (key): Linear(in_features=768, out_features=768, bias=True)\n",
       "              (value): Linear(in_features=768, out_features=768, bias=True)\n",
       "              (dropout): Dropout(p=0.1, inplace=False)\n",
       "            )\n",
       "            (output): BertSelfOutput(\n",
       "              (dense): Linear(in_features=768, out_features=768, bias=True)\n",
       "              (LayerNorm): LayerNorm((768,), eps=1e-12, elementwise_affine=True)\n",
       "              (dropout): Dropout(p=0.1, inplace=False)\n",
       "            )\n",
       "          )\n",
       "          (intermediate): BertIntermediate(\n",
       "            (dense): Linear(in_features=768, out_features=3072, bias=True)\n",
       "            (intermediate_act_fn): GELUActivation()\n",
       "          )\n",
       "          (output): BertOutput(\n",
       "            (dense): Linear(in_features=3072, out_features=768, bias=True)\n",
       "            (LayerNorm): LayerNorm((768,), eps=1e-12, elementwise_affine=True)\n",
       "            (dropout): Dropout(p=0.1, inplace=False)\n",
       "          )\n",
       "        )\n",
       "        (1): BertLayer(\n",
       "          (attention): BertAttention(\n",
       "            (self): BertSelfAttention(\n",
       "              (query): Linear(in_features=768, out_features=768, bias=True)\n",
       "              (key): Linear(in_features=768, out_features=768, bias=True)\n",
       "              (value): Linear(in_features=768, out_features=768, bias=True)\n",
       "              (dropout): Dropout(p=0.1, inplace=False)\n",
       "            )\n",
       "            (output): BertSelfOutput(\n",
       "              (dense): Linear(in_features=768, out_features=768, bias=True)\n",
       "              (LayerNorm): LayerNorm((768,), eps=1e-12, elementwise_affine=True)\n",
       "              (dropout): Dropout(p=0.1, inplace=False)\n",
       "            )\n",
       "          )\n",
       "          (intermediate): BertIntermediate(\n",
       "            (dense): Linear(in_features=768, out_features=3072, bias=True)\n",
       "            (intermediate_act_fn): GELUActivation()\n",
       "          )\n",
       "          (output): BertOutput(\n",
       "            (dense): Linear(in_features=3072, out_features=768, bias=True)\n",
       "            (LayerNorm): LayerNorm((768,), eps=1e-12, elementwise_affine=True)\n",
       "            (dropout): Dropout(p=0.1, inplace=False)\n",
       "          )\n",
       "        )\n",
       "        (2): BertLayer(\n",
       "          (attention): BertAttention(\n",
       "            (self): BertSelfAttention(\n",
       "              (query): Linear(in_features=768, out_features=768, bias=True)\n",
       "              (key): Linear(in_features=768, out_features=768, bias=True)\n",
       "              (value): Linear(in_features=768, out_features=768, bias=True)\n",
       "              (dropout): Dropout(p=0.1, inplace=False)\n",
       "            )\n",
       "            (output): BertSelfOutput(\n",
       "              (dense): Linear(in_features=768, out_features=768, bias=True)\n",
       "              (LayerNorm): LayerNorm((768,), eps=1e-12, elementwise_affine=True)\n",
       "              (dropout): Dropout(p=0.1, inplace=False)\n",
       "            )\n",
       "          )\n",
       "          (intermediate): BertIntermediate(\n",
       "            (dense): Linear(in_features=768, out_features=3072, bias=True)\n",
       "            (intermediate_act_fn): GELUActivation()\n",
       "          )\n",
       "          (output): BertOutput(\n",
       "            (dense): Linear(in_features=3072, out_features=768, bias=True)\n",
       "            (LayerNorm): LayerNorm((768,), eps=1e-12, elementwise_affine=True)\n",
       "            (dropout): Dropout(p=0.1, inplace=False)\n",
       "          )\n",
       "        )\n",
       "        (3): BertLayer(\n",
       "          (attention): BertAttention(\n",
       "            (self): BertSelfAttention(\n",
       "              (query): Linear(in_features=768, out_features=768, bias=True)\n",
       "              (key): Linear(in_features=768, out_features=768, bias=True)\n",
       "              (value): Linear(in_features=768, out_features=768, bias=True)\n",
       "              (dropout): Dropout(p=0.1, inplace=False)\n",
       "            )\n",
       "            (output): BertSelfOutput(\n",
       "              (dense): Linear(in_features=768, out_features=768, bias=True)\n",
       "              (LayerNorm): LayerNorm((768,), eps=1e-12, elementwise_affine=True)\n",
       "              (dropout): Dropout(p=0.1, inplace=False)\n",
       "            )\n",
       "          )\n",
       "          (intermediate): BertIntermediate(\n",
       "            (dense): Linear(in_features=768, out_features=3072, bias=True)\n",
       "            (intermediate_act_fn): GELUActivation()\n",
       "          )\n",
       "          (output): BertOutput(\n",
       "            (dense): Linear(in_features=3072, out_features=768, bias=True)\n",
       "            (LayerNorm): LayerNorm((768,), eps=1e-12, elementwise_affine=True)\n",
       "            (dropout): Dropout(p=0.1, inplace=False)\n",
       "          )\n",
       "        )\n",
       "        (4): BertLayer(\n",
       "          (attention): BertAttention(\n",
       "            (self): BertSelfAttention(\n",
       "              (query): Linear(in_features=768, out_features=768, bias=True)\n",
       "              (key): Linear(in_features=768, out_features=768, bias=True)\n",
       "              (value): Linear(in_features=768, out_features=768, bias=True)\n",
       "              (dropout): Dropout(p=0.1, inplace=False)\n",
       "            )\n",
       "            (output): BertSelfOutput(\n",
       "              (dense): Linear(in_features=768, out_features=768, bias=True)\n",
       "              (LayerNorm): LayerNorm((768,), eps=1e-12, elementwise_affine=True)\n",
       "              (dropout): Dropout(p=0.1, inplace=False)\n",
       "            )\n",
       "          )\n",
       "          (intermediate): BertIntermediate(\n",
       "            (dense): Linear(in_features=768, out_features=3072, bias=True)\n",
       "            (intermediate_act_fn): GELUActivation()\n",
       "          )\n",
       "          (output): BertOutput(\n",
       "            (dense): Linear(in_features=3072, out_features=768, bias=True)\n",
       "            (LayerNorm): LayerNorm((768,), eps=1e-12, elementwise_affine=True)\n",
       "            (dropout): Dropout(p=0.1, inplace=False)\n",
       "          )\n",
       "        )\n",
       "        (5): BertLayer(\n",
       "          (attention): BertAttention(\n",
       "            (self): BertSelfAttention(\n",
       "              (query): Linear(in_features=768, out_features=768, bias=True)\n",
       "              (key): Linear(in_features=768, out_features=768, bias=True)\n",
       "              (value): Linear(in_features=768, out_features=768, bias=True)\n",
       "              (dropout): Dropout(p=0.1, inplace=False)\n",
       "            )\n",
       "            (output): BertSelfOutput(\n",
       "              (dense): Linear(in_features=768, out_features=768, bias=True)\n",
       "              (LayerNorm): LayerNorm((768,), eps=1e-12, elementwise_affine=True)\n",
       "              (dropout): Dropout(p=0.1, inplace=False)\n",
       "            )\n",
       "          )\n",
       "          (intermediate): BertIntermediate(\n",
       "            (dense): Linear(in_features=768, out_features=3072, bias=True)\n",
       "            (intermediate_act_fn): GELUActivation()\n",
       "          )\n",
       "          (output): BertOutput(\n",
       "            (dense): Linear(in_features=3072, out_features=768, bias=True)\n",
       "            (LayerNorm): LayerNorm((768,), eps=1e-12, elementwise_affine=True)\n",
       "            (dropout): Dropout(p=0.1, inplace=False)\n",
       "          )\n",
       "        )\n",
       "        (6): BertLayer(\n",
       "          (attention): BertAttention(\n",
       "            (self): BertSelfAttention(\n",
       "              (query): Linear(in_features=768, out_features=768, bias=True)\n",
       "              (key): Linear(in_features=768, out_features=768, bias=True)\n",
       "              (value): Linear(in_features=768, out_features=768, bias=True)\n",
       "              (dropout): Dropout(p=0.1, inplace=False)\n",
       "            )\n",
       "            (output): BertSelfOutput(\n",
       "              (dense): Linear(in_features=768, out_features=768, bias=True)\n",
       "              (LayerNorm): LayerNorm((768,), eps=1e-12, elementwise_affine=True)\n",
       "              (dropout): Dropout(p=0.1, inplace=False)\n",
       "            )\n",
       "          )\n",
       "          (intermediate): BertIntermediate(\n",
       "            (dense): Linear(in_features=768, out_features=3072, bias=True)\n",
       "            (intermediate_act_fn): GELUActivation()\n",
       "          )\n",
       "          (output): BertOutput(\n",
       "            (dense): Linear(in_features=3072, out_features=768, bias=True)\n",
       "            (LayerNorm): LayerNorm((768,), eps=1e-12, elementwise_affine=True)\n",
       "            (dropout): Dropout(p=0.1, inplace=False)\n",
       "          )\n",
       "        )\n",
       "        (7): BertLayer(\n",
       "          (attention): BertAttention(\n",
       "            (self): BertSelfAttention(\n",
       "              (query): Linear(in_features=768, out_features=768, bias=True)\n",
       "              (key): Linear(in_features=768, out_features=768, bias=True)\n",
       "              (value): Linear(in_features=768, out_features=768, bias=True)\n",
       "              (dropout): Dropout(p=0.1, inplace=False)\n",
       "            )\n",
       "            (output): BertSelfOutput(\n",
       "              (dense): Linear(in_features=768, out_features=768, bias=True)\n",
       "              (LayerNorm): LayerNorm((768,), eps=1e-12, elementwise_affine=True)\n",
       "              (dropout): Dropout(p=0.1, inplace=False)\n",
       "            )\n",
       "          )\n",
       "          (intermediate): BertIntermediate(\n",
       "            (dense): Linear(in_features=768, out_features=3072, bias=True)\n",
       "            (intermediate_act_fn): GELUActivation()\n",
       "          )\n",
       "          (output): BertOutput(\n",
       "            (dense): Linear(in_features=3072, out_features=768, bias=True)\n",
       "            (LayerNorm): LayerNorm((768,), eps=1e-12, elementwise_affine=True)\n",
       "            (dropout): Dropout(p=0.1, inplace=False)\n",
       "          )\n",
       "        )\n",
       "        (8): BertLayer(\n",
       "          (attention): BertAttention(\n",
       "            (self): BertSelfAttention(\n",
       "              (query): Linear(in_features=768, out_features=768, bias=True)\n",
       "              (key): Linear(in_features=768, out_features=768, bias=True)\n",
       "              (value): Linear(in_features=768, out_features=768, bias=True)\n",
       "              (dropout): Dropout(p=0.1, inplace=False)\n",
       "            )\n",
       "            (output): BertSelfOutput(\n",
       "              (dense): Linear(in_features=768, out_features=768, bias=True)\n",
       "              (LayerNorm): LayerNorm((768,), eps=1e-12, elementwise_affine=True)\n",
       "              (dropout): Dropout(p=0.1, inplace=False)\n",
       "            )\n",
       "          )\n",
       "          (intermediate): BertIntermediate(\n",
       "            (dense): Linear(in_features=768, out_features=3072, bias=True)\n",
       "            (intermediate_act_fn): GELUActivation()\n",
       "          )\n",
       "          (output): BertOutput(\n",
       "            (dense): Linear(in_features=3072, out_features=768, bias=True)\n",
       "            (LayerNorm): LayerNorm((768,), eps=1e-12, elementwise_affine=True)\n",
       "            (dropout): Dropout(p=0.1, inplace=False)\n",
       "          )\n",
       "        )\n",
       "        (9): BertLayer(\n",
       "          (attention): BertAttention(\n",
       "            (self): BertSelfAttention(\n",
       "              (query): Linear(in_features=768, out_features=768, bias=True)\n",
       "              (key): Linear(in_features=768, out_features=768, bias=True)\n",
       "              (value): Linear(in_features=768, out_features=768, bias=True)\n",
       "              (dropout): Dropout(p=0.1, inplace=False)\n",
       "            )\n",
       "            (output): BertSelfOutput(\n",
       "              (dense): Linear(in_features=768, out_features=768, bias=True)\n",
       "              (LayerNorm): LayerNorm((768,), eps=1e-12, elementwise_affine=True)\n",
       "              (dropout): Dropout(p=0.1, inplace=False)\n",
       "            )\n",
       "          )\n",
       "          (intermediate): BertIntermediate(\n",
       "            (dense): Linear(in_features=768, out_features=3072, bias=True)\n",
       "            (intermediate_act_fn): GELUActivation()\n",
       "          )\n",
       "          (output): BertOutput(\n",
       "            (dense): Linear(in_features=3072, out_features=768, bias=True)\n",
       "            (LayerNorm): LayerNorm((768,), eps=1e-12, elementwise_affine=True)\n",
       "            (dropout): Dropout(p=0.1, inplace=False)\n",
       "          )\n",
       "        )\n",
       "        (10): BertLayer(\n",
       "          (attention): BertAttention(\n",
       "            (self): BertSelfAttention(\n",
       "              (query): Linear(in_features=768, out_features=768, bias=True)\n",
       "              (key): Linear(in_features=768, out_features=768, bias=True)\n",
       "              (value): Linear(in_features=768, out_features=768, bias=True)\n",
       "              (dropout): Dropout(p=0.1, inplace=False)\n",
       "            )\n",
       "            (output): BertSelfOutput(\n",
       "              (dense): Linear(in_features=768, out_features=768, bias=True)\n",
       "              (LayerNorm): LayerNorm((768,), eps=1e-12, elementwise_affine=True)\n",
       "              (dropout): Dropout(p=0.1, inplace=False)\n",
       "            )\n",
       "          )\n",
       "          (intermediate): BertIntermediate(\n",
       "            (dense): Linear(in_features=768, out_features=3072, bias=True)\n",
       "            (intermediate_act_fn): GELUActivation()\n",
       "          )\n",
       "          (output): BertOutput(\n",
       "            (dense): Linear(in_features=3072, out_features=768, bias=True)\n",
       "            (LayerNorm): LayerNorm((768,), eps=1e-12, elementwise_affine=True)\n",
       "            (dropout): Dropout(p=0.1, inplace=False)\n",
       "          )\n",
       "        )\n",
       "        (11): BertLayer(\n",
       "          (attention): BertAttention(\n",
       "            (self): BertSelfAttention(\n",
       "              (query): Linear(in_features=768, out_features=768, bias=True)\n",
       "              (key): Linear(in_features=768, out_features=768, bias=True)\n",
       "              (value): Linear(in_features=768, out_features=768, bias=True)\n",
       "              (dropout): Dropout(p=0.1, inplace=False)\n",
       "            )\n",
       "            (output): BertSelfOutput(\n",
       "              (dense): Linear(in_features=768, out_features=768, bias=True)\n",
       "              (LayerNorm): LayerNorm((768,), eps=1e-12, elementwise_affine=True)\n",
       "              (dropout): Dropout(p=0.1, inplace=False)\n",
       "            )\n",
       "          )\n",
       "          (intermediate): BertIntermediate(\n",
       "            (dense): Linear(in_features=768, out_features=3072, bias=True)\n",
       "            (intermediate_act_fn): GELUActivation()\n",
       "          )\n",
       "          (output): BertOutput(\n",
       "            (dense): Linear(in_features=3072, out_features=768, bias=True)\n",
       "            (LayerNorm): LayerNorm((768,), eps=1e-12, elementwise_affine=True)\n",
       "            (dropout): Dropout(p=0.1, inplace=False)\n",
       "          )\n",
       "        )\n",
       "      )\n",
       "    )\n",
       "    (pooler): BertPooler(\n",
       "      (dense): Linear(in_features=768, out_features=768, bias=True)\n",
       "      (activation): Tanh()\n",
       "    )\n",
       "  )\n",
       "  (dropout): Dropout(p=0.1, inplace=False)\n",
       "  (classifier): Linear(in_features=768, out_features=2, bias=True)\n",
       ")"
      ]
     },
     "execution_count": 6,
     "metadata": {},
     "output_type": "execute_result"
    }
   ],
   "source": [
    "preTrainedModel = AutoModelForSequenceClassification.from_pretrained(\"bert-base-cased\",\n",
    "                                                      num_labels = 2,\n",
    "                                                      output_attentions = True,\n",
    "                                                      output_hidden_states = True,)\n",
    "preTrainedModel.cuda()"
   ]
  },
  {
   "cell_type": "code",
   "execution_count": 6,
   "id": "74989858",
   "metadata": {
    "collapsed": true
   },
   "outputs": [
    {
     "data": {
      "text/plain": [
       "BertForSequenceClassification(\n",
       "  (bert): BertModel(\n",
       "    (embeddings): BertEmbeddings(\n",
       "      (word_embeddings): Embedding(28996, 768, padding_idx=0)\n",
       "      (position_embeddings): Embedding(512, 768)\n",
       "      (token_type_embeddings): Embedding(2, 768)\n",
       "      (LayerNorm): LayerNorm((768,), eps=1e-12, elementwise_affine=True)\n",
       "      (dropout): Dropout(p=0.1, inplace=False)\n",
       "    )\n",
       "    (encoder): BertEncoder(\n",
       "      (layer): ModuleList(\n",
       "        (0): BertLayer(\n",
       "          (attention): BertAttention(\n",
       "            (self): BertSelfAttention(\n",
       "              (query): Linear(in_features=768, out_features=768, bias=True)\n",
       "              (key): Linear(in_features=768, out_features=768, bias=True)\n",
       "              (value): Linear(in_features=768, out_features=768, bias=True)\n",
       "              (dropout): Dropout(p=0.1, inplace=False)\n",
       "            )\n",
       "            (output): BertSelfOutput(\n",
       "              (dense): Linear(in_features=768, out_features=768, bias=True)\n",
       "              (LayerNorm): LayerNorm((768,), eps=1e-12, elementwise_affine=True)\n",
       "              (dropout): Dropout(p=0.1, inplace=False)\n",
       "            )\n",
       "          )\n",
       "          (intermediate): BertIntermediate(\n",
       "            (dense): Linear(in_features=768, out_features=3072, bias=True)\n",
       "            (intermediate_act_fn): GELUActivation()\n",
       "          )\n",
       "          (output): BertOutput(\n",
       "            (dense): Linear(in_features=3072, out_features=768, bias=True)\n",
       "            (LayerNorm): LayerNorm((768,), eps=1e-12, elementwise_affine=True)\n",
       "            (dropout): Dropout(p=0.1, inplace=False)\n",
       "          )\n",
       "        )\n",
       "        (1): BertLayer(\n",
       "          (attention): BertAttention(\n",
       "            (self): BertSelfAttention(\n",
       "              (query): Linear(in_features=768, out_features=768, bias=True)\n",
       "              (key): Linear(in_features=768, out_features=768, bias=True)\n",
       "              (value): Linear(in_features=768, out_features=768, bias=True)\n",
       "              (dropout): Dropout(p=0.1, inplace=False)\n",
       "            )\n",
       "            (output): BertSelfOutput(\n",
       "              (dense): Linear(in_features=768, out_features=768, bias=True)\n",
       "              (LayerNorm): LayerNorm((768,), eps=1e-12, elementwise_affine=True)\n",
       "              (dropout): Dropout(p=0.1, inplace=False)\n",
       "            )\n",
       "          )\n",
       "          (intermediate): BertIntermediate(\n",
       "            (dense): Linear(in_features=768, out_features=3072, bias=True)\n",
       "            (intermediate_act_fn): GELUActivation()\n",
       "          )\n",
       "          (output): BertOutput(\n",
       "            (dense): Linear(in_features=3072, out_features=768, bias=True)\n",
       "            (LayerNorm): LayerNorm((768,), eps=1e-12, elementwise_affine=True)\n",
       "            (dropout): Dropout(p=0.1, inplace=False)\n",
       "          )\n",
       "        )\n",
       "        (2): BertLayer(\n",
       "          (attention): BertAttention(\n",
       "            (self): BertSelfAttention(\n",
       "              (query): Linear(in_features=768, out_features=768, bias=True)\n",
       "              (key): Linear(in_features=768, out_features=768, bias=True)\n",
       "              (value): Linear(in_features=768, out_features=768, bias=True)\n",
       "              (dropout): Dropout(p=0.1, inplace=False)\n",
       "            )\n",
       "            (output): BertSelfOutput(\n",
       "              (dense): Linear(in_features=768, out_features=768, bias=True)\n",
       "              (LayerNorm): LayerNorm((768,), eps=1e-12, elementwise_affine=True)\n",
       "              (dropout): Dropout(p=0.1, inplace=False)\n",
       "            )\n",
       "          )\n",
       "          (intermediate): BertIntermediate(\n",
       "            (dense): Linear(in_features=768, out_features=3072, bias=True)\n",
       "            (intermediate_act_fn): GELUActivation()\n",
       "          )\n",
       "          (output): BertOutput(\n",
       "            (dense): Linear(in_features=3072, out_features=768, bias=True)\n",
       "            (LayerNorm): LayerNorm((768,), eps=1e-12, elementwise_affine=True)\n",
       "            (dropout): Dropout(p=0.1, inplace=False)\n",
       "          )\n",
       "        )\n",
       "        (3): BertLayer(\n",
       "          (attention): BertAttention(\n",
       "            (self): BertSelfAttention(\n",
       "              (query): Linear(in_features=768, out_features=768, bias=True)\n",
       "              (key): Linear(in_features=768, out_features=768, bias=True)\n",
       "              (value): Linear(in_features=768, out_features=768, bias=True)\n",
       "              (dropout): Dropout(p=0.1, inplace=False)\n",
       "            )\n",
       "            (output): BertSelfOutput(\n",
       "              (dense): Linear(in_features=768, out_features=768, bias=True)\n",
       "              (LayerNorm): LayerNorm((768,), eps=1e-12, elementwise_affine=True)\n",
       "              (dropout): Dropout(p=0.1, inplace=False)\n",
       "            )\n",
       "          )\n",
       "          (intermediate): BertIntermediate(\n",
       "            (dense): Linear(in_features=768, out_features=3072, bias=True)\n",
       "            (intermediate_act_fn): GELUActivation()\n",
       "          )\n",
       "          (output): BertOutput(\n",
       "            (dense): Linear(in_features=3072, out_features=768, bias=True)\n",
       "            (LayerNorm): LayerNorm((768,), eps=1e-12, elementwise_affine=True)\n",
       "            (dropout): Dropout(p=0.1, inplace=False)\n",
       "          )\n",
       "        )\n",
       "        (4): BertLayer(\n",
       "          (attention): BertAttention(\n",
       "            (self): BertSelfAttention(\n",
       "              (query): Linear(in_features=768, out_features=768, bias=True)\n",
       "              (key): Linear(in_features=768, out_features=768, bias=True)\n",
       "              (value): Linear(in_features=768, out_features=768, bias=True)\n",
       "              (dropout): Dropout(p=0.1, inplace=False)\n",
       "            )\n",
       "            (output): BertSelfOutput(\n",
       "              (dense): Linear(in_features=768, out_features=768, bias=True)\n",
       "              (LayerNorm): LayerNorm((768,), eps=1e-12, elementwise_affine=True)\n",
       "              (dropout): Dropout(p=0.1, inplace=False)\n",
       "            )\n",
       "          )\n",
       "          (intermediate): BertIntermediate(\n",
       "            (dense): Linear(in_features=768, out_features=3072, bias=True)\n",
       "            (intermediate_act_fn): GELUActivation()\n",
       "          )\n",
       "          (output): BertOutput(\n",
       "            (dense): Linear(in_features=3072, out_features=768, bias=True)\n",
       "            (LayerNorm): LayerNorm((768,), eps=1e-12, elementwise_affine=True)\n",
       "            (dropout): Dropout(p=0.1, inplace=False)\n",
       "          )\n",
       "        )\n",
       "        (5): BertLayer(\n",
       "          (attention): BertAttention(\n",
       "            (self): BertSelfAttention(\n",
       "              (query): Linear(in_features=768, out_features=768, bias=True)\n",
       "              (key): Linear(in_features=768, out_features=768, bias=True)\n",
       "              (value): Linear(in_features=768, out_features=768, bias=True)\n",
       "              (dropout): Dropout(p=0.1, inplace=False)\n",
       "            )\n",
       "            (output): BertSelfOutput(\n",
       "              (dense): Linear(in_features=768, out_features=768, bias=True)\n",
       "              (LayerNorm): LayerNorm((768,), eps=1e-12, elementwise_affine=True)\n",
       "              (dropout): Dropout(p=0.1, inplace=False)\n",
       "            )\n",
       "          )\n",
       "          (intermediate): BertIntermediate(\n",
       "            (dense): Linear(in_features=768, out_features=3072, bias=True)\n",
       "            (intermediate_act_fn): GELUActivation()\n",
       "          )\n",
       "          (output): BertOutput(\n",
       "            (dense): Linear(in_features=3072, out_features=768, bias=True)\n",
       "            (LayerNorm): LayerNorm((768,), eps=1e-12, elementwise_affine=True)\n",
       "            (dropout): Dropout(p=0.1, inplace=False)\n",
       "          )\n",
       "        )\n",
       "        (6): BertLayer(\n",
       "          (attention): BertAttention(\n",
       "            (self): BertSelfAttention(\n",
       "              (query): Linear(in_features=768, out_features=768, bias=True)\n",
       "              (key): Linear(in_features=768, out_features=768, bias=True)\n",
       "              (value): Linear(in_features=768, out_features=768, bias=True)\n",
       "              (dropout): Dropout(p=0.1, inplace=False)\n",
       "            )\n",
       "            (output): BertSelfOutput(\n",
       "              (dense): Linear(in_features=768, out_features=768, bias=True)\n",
       "              (LayerNorm): LayerNorm((768,), eps=1e-12, elementwise_affine=True)\n",
       "              (dropout): Dropout(p=0.1, inplace=False)\n",
       "            )\n",
       "          )\n",
       "          (intermediate): BertIntermediate(\n",
       "            (dense): Linear(in_features=768, out_features=3072, bias=True)\n",
       "            (intermediate_act_fn): GELUActivation()\n",
       "          )\n",
       "          (output): BertOutput(\n",
       "            (dense): Linear(in_features=3072, out_features=768, bias=True)\n",
       "            (LayerNorm): LayerNorm((768,), eps=1e-12, elementwise_affine=True)\n",
       "            (dropout): Dropout(p=0.1, inplace=False)\n",
       "          )\n",
       "        )\n",
       "        (7): BertLayer(\n",
       "          (attention): BertAttention(\n",
       "            (self): BertSelfAttention(\n",
       "              (query): Linear(in_features=768, out_features=768, bias=True)\n",
       "              (key): Linear(in_features=768, out_features=768, bias=True)\n",
       "              (value): Linear(in_features=768, out_features=768, bias=True)\n",
       "              (dropout): Dropout(p=0.1, inplace=False)\n",
       "            )\n",
       "            (output): BertSelfOutput(\n",
       "              (dense): Linear(in_features=768, out_features=768, bias=True)\n",
       "              (LayerNorm): LayerNorm((768,), eps=1e-12, elementwise_affine=True)\n",
       "              (dropout): Dropout(p=0.1, inplace=False)\n",
       "            )\n",
       "          )\n",
       "          (intermediate): BertIntermediate(\n",
       "            (dense): Linear(in_features=768, out_features=3072, bias=True)\n",
       "            (intermediate_act_fn): GELUActivation()\n",
       "          )\n",
       "          (output): BertOutput(\n",
       "            (dense): Linear(in_features=3072, out_features=768, bias=True)\n",
       "            (LayerNorm): LayerNorm((768,), eps=1e-12, elementwise_affine=True)\n",
       "            (dropout): Dropout(p=0.1, inplace=False)\n",
       "          )\n",
       "        )\n",
       "        (8): BertLayer(\n",
       "          (attention): BertAttention(\n",
       "            (self): BertSelfAttention(\n",
       "              (query): Linear(in_features=768, out_features=768, bias=True)\n",
       "              (key): Linear(in_features=768, out_features=768, bias=True)\n",
       "              (value): Linear(in_features=768, out_features=768, bias=True)\n",
       "              (dropout): Dropout(p=0.1, inplace=False)\n",
       "            )\n",
       "            (output): BertSelfOutput(\n",
       "              (dense): Linear(in_features=768, out_features=768, bias=True)\n",
       "              (LayerNorm): LayerNorm((768,), eps=1e-12, elementwise_affine=True)\n",
       "              (dropout): Dropout(p=0.1, inplace=False)\n",
       "            )\n",
       "          )\n",
       "          (intermediate): BertIntermediate(\n",
       "            (dense): Linear(in_features=768, out_features=3072, bias=True)\n",
       "            (intermediate_act_fn): GELUActivation()\n",
       "          )\n",
       "          (output): BertOutput(\n",
       "            (dense): Linear(in_features=3072, out_features=768, bias=True)\n",
       "            (LayerNorm): LayerNorm((768,), eps=1e-12, elementwise_affine=True)\n",
       "            (dropout): Dropout(p=0.1, inplace=False)\n",
       "          )\n",
       "        )\n",
       "        (9): BertLayer(\n",
       "          (attention): BertAttention(\n",
       "            (self): BertSelfAttention(\n",
       "              (query): Linear(in_features=768, out_features=768, bias=True)\n",
       "              (key): Linear(in_features=768, out_features=768, bias=True)\n",
       "              (value): Linear(in_features=768, out_features=768, bias=True)\n",
       "              (dropout): Dropout(p=0.1, inplace=False)\n",
       "            )\n",
       "            (output): BertSelfOutput(\n",
       "              (dense): Linear(in_features=768, out_features=768, bias=True)\n",
       "              (LayerNorm): LayerNorm((768,), eps=1e-12, elementwise_affine=True)\n",
       "              (dropout): Dropout(p=0.1, inplace=False)\n",
       "            )\n",
       "          )\n",
       "          (intermediate): BertIntermediate(\n",
       "            (dense): Linear(in_features=768, out_features=3072, bias=True)\n",
       "            (intermediate_act_fn): GELUActivation()\n",
       "          )\n",
       "          (output): BertOutput(\n",
       "            (dense): Linear(in_features=3072, out_features=768, bias=True)\n",
       "            (LayerNorm): LayerNorm((768,), eps=1e-12, elementwise_affine=True)\n",
       "            (dropout): Dropout(p=0.1, inplace=False)\n",
       "          )\n",
       "        )\n",
       "        (10): BertLayer(\n",
       "          (attention): BertAttention(\n",
       "            (self): BertSelfAttention(\n",
       "              (query): Linear(in_features=768, out_features=768, bias=True)\n",
       "              (key): Linear(in_features=768, out_features=768, bias=True)\n",
       "              (value): Linear(in_features=768, out_features=768, bias=True)\n",
       "              (dropout): Dropout(p=0.1, inplace=False)\n",
       "            )\n",
       "            (output): BertSelfOutput(\n",
       "              (dense): Linear(in_features=768, out_features=768, bias=True)\n",
       "              (LayerNorm): LayerNorm((768,), eps=1e-12, elementwise_affine=True)\n",
       "              (dropout): Dropout(p=0.1, inplace=False)\n",
       "            )\n",
       "          )\n",
       "          (intermediate): BertIntermediate(\n",
       "            (dense): Linear(in_features=768, out_features=3072, bias=True)\n",
       "            (intermediate_act_fn): GELUActivation()\n",
       "          )\n",
       "          (output): BertOutput(\n",
       "            (dense): Linear(in_features=3072, out_features=768, bias=True)\n",
       "            (LayerNorm): LayerNorm((768,), eps=1e-12, elementwise_affine=True)\n",
       "            (dropout): Dropout(p=0.1, inplace=False)\n",
       "          )\n",
       "        )\n",
       "        (11): BertLayer(\n",
       "          (attention): BertAttention(\n",
       "            (self): BertSelfAttention(\n",
       "              (query): Linear(in_features=768, out_features=768, bias=True)\n",
       "              (key): Linear(in_features=768, out_features=768, bias=True)\n",
       "              (value): Linear(in_features=768, out_features=768, bias=True)\n",
       "              (dropout): Dropout(p=0.1, inplace=False)\n",
       "            )\n",
       "            (output): BertSelfOutput(\n",
       "              (dense): Linear(in_features=768, out_features=768, bias=True)\n",
       "              (LayerNorm): LayerNorm((768,), eps=1e-12, elementwise_affine=True)\n",
       "              (dropout): Dropout(p=0.1, inplace=False)\n",
       "            )\n",
       "          )\n",
       "          (intermediate): BertIntermediate(\n",
       "            (dense): Linear(in_features=768, out_features=3072, bias=True)\n",
       "            (intermediate_act_fn): GELUActivation()\n",
       "          )\n",
       "          (output): BertOutput(\n",
       "            (dense): Linear(in_features=3072, out_features=768, bias=True)\n",
       "            (LayerNorm): LayerNorm((768,), eps=1e-12, elementwise_affine=True)\n",
       "            (dropout): Dropout(p=0.1, inplace=False)\n",
       "          )\n",
       "        )\n",
       "      )\n",
       "    )\n",
       "    (pooler): BertPooler(\n",
       "      (dense): Linear(in_features=768, out_features=768, bias=True)\n",
       "      (activation): Tanh()\n",
       "    )\n",
       "  )\n",
       "  (dropout): Dropout(p=0.1, inplace=False)\n",
       "  (classifier): Linear(in_features=768, out_features=2, bias=True)\n",
       ")"
      ]
     },
     "execution_count": 6,
     "metadata": {},
     "output_type": "execute_result"
    }
   ],
   "source": [
    "fineTunedModel = AutoModelForSequenceClassification.from_pretrained(\"gchhablani/bert-base-cased-finetuned-cola\")\n",
    "fineTunedModel.cuda()"
   ]
  },
  {
   "cell_type": "markdown",
   "id": "3e6335db",
   "metadata": {},
   "source": [
    "### Creating dataloaders"
   ]
  },
  {
   "cell_type": "code",
   "execution_count": 20,
   "id": "0aed8544",
   "metadata": {},
   "outputs": [],
   "source": [
    "tokenised_dataset = tokenizer(dataset['train']['sentence'], truncation = True, padding=True, return_tensors='pt')\n",
    "input_ids = tokenised_dataset['input_ids']\n",
    "token_type_ids = tokenised_dataset['token_type_ids']\n",
    "attention_masks = tokenised_dataset['attention_mask']\n",
    "labels = torch.tensor(dataset['train']['label'])\n",
    "\n",
    "# Set the batch size.  \n",
    "batch_size = 16 \n",
    "\n",
    "# Create the DataLoader.\n",
    "train_data = TensorDataset(input_ids, token_type_ids, attention_masks, labels)\n",
    "train_sampler = SequentialSampler(train_data)\n",
    "train_dataloader = DataLoader(train_data, sampler=train_sampler, batch_size=batch_size)"
   ]
  },
  {
   "cell_type": "code",
   "execution_count": 7,
   "id": "cffa00bf",
   "metadata": {},
   "outputs": [],
   "source": [
    "tokenised_dataset = tokenizer(dataset['test']['sentence'], truncation = True, padding=True, return_tensors='pt')\n",
    "input_ids = tokenised_dataset['input_ids']\n",
    "token_type_ids = tokenised_dataset['token_type_ids']\n",
    "attention_masks = tokenised_dataset['attention_mask']\n",
    "labels = torch.tensor(dataset['test']['label'])\n",
    "\n",
    "# Set the batch size.  \n",
    "batch_size = 16 \n",
    "\n",
    "# Create the DataLoader.\n",
    "test_data = TensorDataset(input_ids, token_type_ids, attention_masks, labels)\n",
    "test_sampler = SequentialSampler(test_data)\n",
    "test_dataloader = DataLoader(test_data, sampler=test_sampler, batch_size=batch_size)"
   ]
  },
  {
   "cell_type": "code",
   "execution_count": null,
   "id": "14b3ba72",
   "metadata": {},
   "outputs": [],
   "source": []
  },
  {
   "cell_type": "code",
   "execution_count": 11,
   "id": "6c336aab",
   "metadata": {},
   "outputs": [],
   "source": [
    "def getCLSHiddenStates(model, prediction_dataloader):\n",
    "    model.eval()\n",
    "    totalHiddenStates = [0]*13\n",
    "    flag = True\n",
    "    \n",
    "    for batch in prediction_dataloader:\n",
    "        # Add batch to GPU\n",
    "        batch = tuple(t.to(device) for t in batch)\n",
    "  \n",
    "        # Unpack the inputs from our dataloader\n",
    "        b_input_ids, b_token_type_ids, b_input_mask, b_labels = batch\n",
    "  \n",
    "        with torch.no_grad():\n",
    "            result = model(b_input_ids,\n",
    "                           token_type_ids=None,\n",
    "                           attention_mask=b_input_mask,\n",
    "                           output_hidden_states = True,\n",
    "                           return_dict=True)\n",
    "            \n",
    "        hidden_states = result.hidden_states\n",
    "        if flag == True:\n",
    "            for i in range(len(hidden_states)):\n",
    "                totalHiddenStates[i] = hidden_states[i][:,0,:].to(\"cpu\")\n",
    "            flag = False\n",
    "        else:\n",
    "            for i in range(len(hidden_states)):\n",
    "                temp = hidden_states[i][:,0,:].to(\"cpu\")\n",
    "                totalHiddenStates[i] = torch.cat((totalHiddenStates[i], temp), 0)   \n",
    "    return totalHiddenStates"
   ]
  },
  {
   "cell_type": "code",
   "execution_count": null,
   "id": "cc08f7b5",
   "metadata": {},
   "outputs": [],
   "source": [
    "hiddenStates = getCLSHiddenStates(preTrainedModel, train_dataloader)\n",
    "preTrainedCLSHiddenStatesTrain = torch.stack(hiddenStates, dim = 0)\n",
    "preTrainedCLSHiddenStatesTrain.shape"
   ]
  },
  {
   "cell_type": "code",
   "execution_count": null,
   "id": "3e3b43d3",
   "metadata": {},
   "outputs": [],
   "source": [
    "hiddenStates = getCLSHiddenStates(fineTunedModel, train_dataloader)\n",
    "fineTunedCLSHiddenStatesTrain = torch.stack(hiddenStates, dim = 0)\n",
    "fineTunedCLSHiddenStatesTrain.shape"
   ]
  },
  {
   "cell_type": "code",
   "execution_count": 12,
   "id": "6677a2d5",
   "metadata": {},
   "outputs": [
    {
     "data": {
      "text/plain": [
       "torch.Size([13, 1063, 768])"
      ]
     },
     "execution_count": 12,
     "metadata": {},
     "output_type": "execute_result"
    }
   ],
   "source": [
    "hiddenStates = getCLSHiddenStates(preTrainedModel, test_dataloader)\n",
    "preTrainedCLSHiddenStatesTest = torch.stack(hiddenStates, dim = 0)\n",
    "preTrainedCLSHiddenStatesTest.shape"
   ]
  },
  {
   "cell_type": "code",
   "execution_count": null,
   "id": "5d56caff",
   "metadata": {},
   "outputs": [],
   "source": [
    "hiddenStates = getCLSHiddenStates(fineTunedModel, test_dataloader)\n",
    "fineTunedCLSHiddenStatesTest = torch.stack(hiddenStates, dim = 0)\n",
    "fineTunedCLSHiddenStatesTest.shape"
   ]
  },
  {
   "cell_type": "markdown",
   "id": "468313ab",
   "metadata": {},
   "source": [
    "### Forming logistic regression at all layers of the pre-trained model and fine-tuned model. We can use the classifier at last layer for the fine-tuned model"
   ]
  },
  {
   "cell_type": "code",
   "execution_count": 19,
   "id": "f0432e9f",
   "metadata": {},
   "outputs": [],
   "source": [
    "sc_x = StandardScaler()\n",
    "for i in range(13):\n",
    "    xtrain = sc_x.fit_transform(preTrainedCLSHiddenStatesTrain[i])\n",
    "    xtest = sc_x.fit_transform(preTrainedCLSHiddenStatesTest[i])\n",
    "    logreg = LogisticRegression(max_iter=1000)\n",
    "    logreg.fit(xtrain, dataset['train']['label']) \n",
    "    \n",
    "    preTrain_pred=logreg.predict(xtest)\n",
    "    filename = 'p{0}/CoLA.tsv'.format(i)\n",
    "    result = pd.DataFrame(preTrain_pred, columns=['prediction'])\n",
    "    result.insert(0, 'index', range(0, len(result)))\n",
    "    result.to_csv(filename, sep='\\t', index=False)\n",
    "    \n",
    "    \n",
    "    xtrain = sc_x.fit_transform(fineTunedCLSHiddenStatesTrain[i]) \n",
    "    xtest = sc_x.fit_transform(fineTunedCLSHiddenStatesTest[i])\n",
    "    logreg = LogisticRegression(max_iter=1000)\n",
    "    logreg.fit(xtrain, dataset['train']['label'])\n",
    "    \n",
    "    fineTuned_pred=logreg.predict(xtest)\n",
    "    filename = 'f{0}/CoLA.tsv'.format(i)\n",
    "    result = pd.DataFrame(fineTuned_pred, columns=['prediction'])\n",
    "    result.insert(0, 'index', range(0, len(result)))\n",
    "    result.to_csv(filename, sep='\\t', index=False)"
   ]
  },
  {
   "cell_type": "markdown",
   "id": "5582ead9",
   "metadata": {},
   "source": [
    "### Finding the last layer accuracy of the fine-tuned model"
   ]
  },
  {
   "cell_type": "code",
   "execution_count": 20,
   "id": "a2acbd16",
   "metadata": {},
   "outputs": [],
   "source": [
    "params = list(fineTunedModel.named_parameters())\n",
    "dense = torch.nn.Linear(768, 768,device=device, bias = True)\n",
    "activation = torch.nn.Tanh()\n",
    "dropout = torch.nn.Dropout(p=0.1)\n",
    "classifier = torch.nn.Linear(in_features=768, out_features=2,  bias = True)\n",
    "with torch.no_grad():\n",
    "    dense.weight = params[-4][1]\n",
    "    dense.bias = params[-3][1]\n",
    "    classifier.weight = params[-2][1]\n",
    "    classifier.bias = params[-1][1]\n",
    "\n",
    "pooled_output = activation(dense(fineTunedCLSHiddenStatesTest[-1,:,:].to('cuda:0')))\n",
    "dropout_op = dropout(pooled_output)\n",
    "logits = classifier(dropout_op)\n",
    "predictions = torch.argmax(logits, dim = 1)"
   ]
  },
  {
   "cell_type": "code",
   "execution_count": 21,
   "id": "4983ae96",
   "metadata": {},
   "outputs": [],
   "source": [
    "predictions = predictions.to('cpu')\n",
    "filename = 'CoLA.tsv'\n",
    "result = pd.DataFrame(predictions, columns=['prediction'])\n",
    "result.insert(0, 'index', range(0, len(result)))\n",
    "result.to_csv(filename, sep='\\t', index=False)"
   ]
  },
  {
   "cell_type": "code",
   "execution_count": null,
   "id": "630966b6",
   "metadata": {},
   "outputs": [],
   "source": []
  },
  {
   "cell_type": "code",
   "execution_count": 9,
   "id": "6fe4197d",
   "metadata": {},
   "outputs": [],
   "source": [
    "def getLabels(model, data_loader):\n",
    "    predictions = []\n",
    "    for batch in data_loader:\n",
    "        batch = tuple(t.to(device) for t in batch)\n",
    "        b_input_ids, b_token_type_ids, b_input_mask, b_labels = batch\n",
    "  \n",
    "        with torch.no_grad():\n",
    "            results = model(b_input_ids, token_type_ids=b_token_type_ids, attention_mask=b_input_mask, return_dict=True)\n",
    "            logits = results.logits\n",
    "            pred = torch.argmax(logits, dim = 1)\n",
    "            predictions.extend(pred.tolist())\n",
    "    return predictions"
   ]
  },
  {
   "cell_type": "code",
   "execution_count": 10,
   "id": "f3e6db58",
   "metadata": {},
   "outputs": [],
   "source": [
    "import numpy as np\n",
    "import pandas as pd\n",
    "predictions = getLabels(fineTunedModel, test_dataloader)\n",
    "filename = 'CoLA.tsv'\n",
    "result = pd.DataFrame(predictions, columns=['prediction'])\n",
    "result.insert(0, 'index', range(0, len(result)))\n",
    "result.to_csv(filename, sep='\\t', index=False)"
   ]
  },
  {
   "cell_type": "markdown",
   "id": "a8b4d801",
   "metadata": {},
   "source": [
    "### Getting hidden states averaged over the sequence length for calculating the CKA metric"
   ]
  },
  {
   "cell_type": "code",
   "execution_count": 8,
   "id": "eb317639",
   "metadata": {},
   "outputs": [],
   "source": [
    "def getHiddenStates(model, prediction_dataloader):\n",
    "    model.eval()\n",
    "    totalHiddenStates = [0]*13\n",
    "    flag = True\n",
    "    for batch in prediction_dataloader:\n",
    "        # Add batch to GPU\n",
    "        batch = tuple(t.to(device) for t in batch)\n",
    "  \n",
    "        # Unpack the inputs from our dataloader\n",
    "        b_input_ids, b_token_type_ids, b_input_mask, b_labels = batch\n",
    "  \n",
    "        with torch.no_grad():\n",
    "            result = model(b_input_ids,\n",
    "                           token_type_ids=None,\n",
    "                           attention_mask=b_input_mask,\n",
    "                           output_hidden_states = True,\n",
    "                           return_dict=True)\n",
    "            \n",
    "        hidden_states = result.hidden_states\n",
    "        if flag == True:\n",
    "            for i in range(len(hidden_states)):\n",
    "                totalHiddenStates[i] = hidden_states[i].to(\"cpu\").mean(dim = 1)\n",
    "            flag = False\n",
    "        else:\n",
    "            for i in range(len(hidden_states)):\n",
    "                temp = hidden_states[i].to(\"cpu\").mean(dim = 1)\n",
    "                totalHiddenStates[i] = torch.cat((totalHiddenStates[i], temp), 0)   \n",
    "    return totalHiddenStates     "
   ]
  },
  {
   "cell_type": "code",
   "execution_count": 13,
   "id": "1aab3215",
   "metadata": {},
   "outputs": [
    {
     "data": {
      "text/plain": [
       "torch.Size([13, 1063, 768])"
      ]
     },
     "execution_count": 13,
     "metadata": {},
     "output_type": "execute_result"
    }
   ],
   "source": [
    "hiddenStates = getHiddenStates(preTrainedModel, test_dataloader)\n",
    "preTrainedHiddenStates = torch.stack(hiddenStates, dim = 0)\n",
    "#torch.save(preTrainedHiddenStates, 'preTrainedHiddenStates_CoLA.pt')\n",
    "preTrainedHiddenStates.shape"
   ]
  },
  {
   "cell_type": "code",
   "execution_count": 14,
   "id": "9d9a1468",
   "metadata": {},
   "outputs": [
    {
     "data": {
      "text/plain": [
       "torch.Size([13, 1063, 768])"
      ]
     },
     "execution_count": 14,
     "metadata": {},
     "output_type": "execute_result"
    }
   ],
   "source": [
    "hiddenStates = getHiddenStates(fineTunedModel, test_dataloader)\n",
    "fineTunedHiddenStates = torch.stack(hiddenStates, dim = 0)\n",
    "#torch.save(fineTunedHiddenStates, 'fineTunedHiddenStates_CoLA.pt')\n",
    "fineTunedHiddenStates.shape"
   ]
  },
  {
   "cell_type": "markdown",
   "id": "77f09d51",
   "metadata": {},
   "source": [
    "### Finding Layer-wise CKA"
   ]
  },
  {
   "cell_type": "code",
   "execution_count": 15,
   "id": "ec0a6606",
   "metadata": {},
   "outputs": [],
   "source": [
    "from CKA import CKA, CudaCKA\n",
    "cuda_cka = CudaCKA(device)"
   ]
  },
  {
   "cell_type": "code",
   "execution_count": 16,
   "id": "e5fb2fd7",
   "metadata": {},
   "outputs": [],
   "source": [
    "cka_matrix = torch.empty((13, 13))\n",
    "for i in range(13):\n",
    "    for j in range(13):\n",
    "        X = preTrainedHiddenStates[i].to(device)\n",
    "        Y = fineTunedHiddenStates[j].to(device)\n",
    "        cka_matrix[i][j] = cuda_cka.linear_CKA(X, Y)\n",
    "#torch.save(cka_matrix, 'ckaMatrix.pt')\n",
    "cka_matrix = cka_matrix.numpy()"
   ]
  },
  {
   "cell_type": "code",
   "execution_count": null,
   "id": "4d2d2e76",
   "metadata": {},
   "outputs": [],
   "source": [
    "import matplotlib.pyplot as plt\n",
    "import numpy as np\n",
    "\n",
    "\n",
    "fig, ax = plt.subplots(figsize=(10, 8))\n",
    "im = ax.imshow(cka_matrix, cmap=\"inferno\", vmin=0.0, vmax=1.0)\n",
    "\n",
    "plt.xticks(np.arange(0,13), fontsize = 14)\n",
    "plt.yticks(np.arange(0,13), fontsize = 14)\n",
    "\n",
    "cka_matrix = np.round(cka_matrix, 2)\n",
    "for x in range(13):\n",
    "    for y in range(13):\n",
    "        plt.annotate(cka_matrix[x][y], xy=(y, x), horizontalalignment='center', verticalalignment='center', fontsize=13)\n",
    "\n",
    "plt.ylabel('Pre-trained BERT', fontsize = 17)\n",
    "plt.xlabel('Fine-tuned BERT', fontsize = 17)\n",
    "\n",
    "#fig.colorbar(im)\n",
    "\n",
    "plt.tight_layout()\n",
    "\n",
    "plt.show()"
   ]
  },
  {
   "cell_type": "code",
   "execution_count": null,
   "id": "f823d79b",
   "metadata": {},
   "outputs": [],
   "source": []
  },
  {
   "cell_type": "code",
   "execution_count": null,
   "id": "47afc0b8",
   "metadata": {},
   "outputs": [],
   "source": [
    "preTrained_cka_matrix = torch.empty((13, 13))\n",
    "for i in range(13):\n",
    "    for j in range(13):\n",
    "        X = preTrainedHiddenStates[i].to(device)\n",
    "        Y = preTrainedHiddenStates[j].to(device)\n",
    "        preTrained_cka_matrix[i][j] = cuda_cka.linear_CKA(X, Y)\n",
    "#torch.save(preTrained_cka_matrix, 'CoLA-preTrained_cka_matrix.pt')\n",
    "preTrained_cka_matrix = preTrained_cka_matrix.numpy()"
   ]
  },
  {
   "cell_type": "code",
   "execution_count": null,
   "id": "01e4c72f",
   "metadata": {},
   "outputs": [],
   "source": [
    "fineTuned_cka_matrix = torch.empty((13, 13))\n",
    "for i in range(13):\n",
    "    for j in range(13):\n",
    "        X = fineTunedHiddenStates[i].to(device)\n",
    "        Y = fineTunedHiddenStates[j].to(device)\n",
    "        fineTuned_cka_matrix[i][j] = cuda_cka.linear_CKA(X, Y)\n",
    "#torch.save(preTrained_cka_matrix, 'CoLA-fineTuned_cka_matrix.pt')\n",
    "fineTuned_cka_matrix = fineTuned_cka_matrix.numpy()"
   ]
  },
  {
   "cell_type": "code",
   "execution_count": null,
   "id": "03920f14",
   "metadata": {},
   "outputs": [],
   "source": [
    "plt.rcParams[\"figure.figsize\"] = [10,8]\n",
    "im = plt.imshow(preTrained_cka_matrix, cmap=\"inferno\")\n",
    "plt.colorbar(im)\n",
    "plt.xticks(np.arange(0,13), fontsize = 14)\n",
    "plt.yticks(np.arange(0,13), fontsize = 14)\n",
    "\n",
    "preTrained_cka_matrix = np.round(preTrained_cka_matrix, 2)\n",
    "for x in range(13):\n",
    "    for y in range(13):\n",
    "        plt.annotate(str(preTrained_cka_matrix[x][y]), xy=(y, x), horizontalalignment='center',verticalalignment='center')\n",
    "        \n",
    "plt.ylabel('Pre-trained BERT', fontsize = 16)\n",
    "plt.xlabel('Pre-trained BERT', fontsize = 16)\n",
    "#plt.show()\n",
    "plt.savefig('CoLA_preTrained_preTrained.pdf')\n",
    "plt.savefig('CoLA_preTrained_preTrained.jpg')"
   ]
  },
  {
   "cell_type": "code",
   "execution_count": null,
   "id": "d09d06ec",
   "metadata": {},
   "outputs": [],
   "source": [
    "plt.rcParams[\"figure.figsize\"] = [10,8]\n",
    "im = plt.imshow(fineTuned_cka_matrix, cmap=\"inferno\")\n",
    "plt.colorbar(im)\n",
    "plt.xticks(np.arange(0,13), fontsize = 14)\n",
    "plt.yticks(np.arange(0,13), fontsize = 14)\n",
    "\n",
    "fineTuned_cka_matrix = np.round(fineTuned_cka_matrix, 2)\n",
    "for x in range(13):\n",
    "    for y in range(13):\n",
    "        plt.annotate(str(fineTuned_cka_matrix[x][y]), xy=(y, x), horizontalalignment='center',verticalalignment='center')\n",
    "        \n",
    "plt.ylabel('Fine-tuned BERT', fontsize = 16)\n",
    "plt.xlabel('Fine-tuned BERT', fontsize = 16)\n",
    "#plt.show()\n",
    "plt.savefig('CoLA_fineTuned_fineTuned.pdf')\n",
    "plt.savefig('CoLA_fineTuned_fineTuned.jpg')"
   ]
  },
  {
   "cell_type": "code",
   "execution_count": 15,
   "id": "9a37d824",
   "metadata": {},
   "outputs": [],
   "source": [
    "fineTunedHiddenStates = fineTunedHiddenStates.to(device)\n",
    "preTrainedHiddenStates = preTrainedHiddenStates.to(device)"
   ]
  },
  {
   "cell_type": "markdown",
   "id": "2edf612a",
   "metadata": {},
   "source": [
    "### Calculating layerwise STIR"
   ]
  },
  {
   "cell_type": "code",
   "execution_count": 6,
   "id": "33d0371a",
   "metadata": {},
   "outputs": [
    {
     "name": "stdout",
     "output_type": "stream",
     "text": [
      "torch.Size([13, 1063, 768]) torch.Size([13, 1063, 768])\n"
     ]
    }
   ],
   "source": [
    "preTrainedHiddenStates = torch.load('./preTrainedHiddenStates_CoLA.pt').to(device)\n",
    "fineTunedHiddenStates  = torch.load('./fineTunedHiddenStates_CoLA.pt').to(device)\n",
    "print(preTrainedHiddenStates.shape,fineTunedHiddenStates.shape)"
   ]
  },
  {
   "cell_type": "code",
   "execution_count": 8,
   "id": "55bbdf5b",
   "metadata": {},
   "outputs": [],
   "source": [
    "distinm1 = []\n",
    "distinm2 = []\n",
    "for i in range(13):\n",
    "    distinm1.append(torch.cdist(preTrainedHiddenStates[i], preTrainedHiddenStates[i]))\n",
    "    distinm2.append(torch.cdist(fineTunedHiddenStates[i], fineTunedHiddenStates[i]))"
   ]
  },
  {
   "cell_type": "code",
   "execution_count": 9,
   "id": "458c6aa5",
   "metadata": {},
   "outputs": [],
   "source": [
    "for i in range(13):\n",
    "    for j in range(distinm1[0].shape[0]):\n",
    "        distinm1[i][j][j] = 100000.0\n",
    "        distinm2[i][j][j] = 100000.0"
   ]
  },
  {
   "cell_type": "code",
   "execution_count": 10,
   "id": "505903a6",
   "metadata": {},
   "outputs": [],
   "source": [
    "num_rows = preTrainedHiddenStates.shape[1]\n",
    "minDistIndForm1 = []\n",
    "for i in range(13):\n",
    "    temp = []\n",
    "    for j in range(num_rows):\n",
    "        temp.append(torch.argmin(distinm1[i][j]))\n",
    "    minDistIndForm1.append(temp)\n",
    "    \n",
    "minDistIndForm2 = []\n",
    "for i in range(13):\n",
    "    temp = []\n",
    "    for j in range(num_rows):\n",
    "        temp.append(torch.argmin(distinm2[i][j]))\n",
    "    minDistIndForm2.append(temp)"
   ]
  },
  {
   "cell_type": "code",
   "execution_count": 11,
   "id": "09400326",
   "metadata": {},
   "outputs": [],
   "source": [
    "from CKA import CKA, CudaCKA\n",
    "cuda_cka = CudaCKA(device)"
   ]
  },
  {
   "cell_type": "code",
   "execution_count": 12,
   "id": "099de1a6",
   "metadata": {},
   "outputs": [],
   "source": [
    "import random\n",
    "def calculate(noOfSamples, noOfTimes):\n",
    "    STIRm2m1 = []\n",
    "    STIRm1m2 = []\n",
    "    CKA = []\n",
    "    for i in range(13):\n",
    "        stirm2m1 = 0\n",
    "        stirm1m2 = 0\n",
    "        cka = 0\n",
    "        for j in range(noOfTimes):\n",
    "            num_list = random.sample(range(0, num_rows), noOfSamples)\n",
    "            X = []\n",
    "            X_ = []\n",
    "            Y = []\n",
    "            Y_ = []\n",
    "            for k in range(len(num_list)):\n",
    "                X.append(fineTunedHiddenStates[i][num_list[k]])\n",
    "                X_.append(fineTunedHiddenStates[i][minDistIndForm1[i][num_list[k]]])\n",
    "                Y.append(preTrainedHiddenStates[i][num_list[k]])\n",
    "                Y_.append(preTrainedHiddenStates[i][minDistIndForm2[i][num_list[k]]])\n",
    "                \n",
    "            X = torch.stack(X, dim = 0)\n",
    "            X_ = torch.stack(X_, dim = 0)\n",
    "            Y = torch.stack(Y, dim = 0)\n",
    "            Y_ = torch.stack(Y_, dim = 0)\n",
    "            \n",
    "            stirm2m1 = stirm2m1 + cuda_cka.linear_CKA(X, X_)\n",
    "            stirm1m2 = stirm1m2 + cuda_cka.linear_CKA(Y, Y_)\n",
    "            cka = cka + cuda_cka.linear_CKA(Y, X)\n",
    "        \n",
    "        STIRm2m1.append(stirm2m1/noOfTimes)\n",
    "        STIRm1m2.append(stirm1m2/noOfTimes)\n",
    "        CKA.append(cka/noOfTimes)\n",
    "    return STIRm2m1, STIRm1m2, CKA"
   ]
  },
  {
   "cell_type": "code",
   "execution_count": 13,
   "id": "95d09df6",
   "metadata": {
    "scrolled": true
   },
   "outputs": [],
   "source": [
    "STIRm2m1, STIRm1m2, CKA = calculate(num_rows//2, 20)"
   ]
  },
  {
   "cell_type": "code",
   "execution_count": 14,
   "id": "1f7d3213",
   "metadata": {},
   "outputs": [],
   "source": [
    "STIRm2m1 = torch.stack(STIRm2m1, dim = 0)\n",
    "STIRm1m2 = torch.stack(STIRm1m2,dim = 0)\n",
    "CKA = torch.stack(CKA, dim = 0)"
   ]
  },
  {
   "cell_type": "code",
   "execution_count": 15,
   "id": "3fd42058",
   "metadata": {},
   "outputs": [],
   "source": [
    "STIRm2m1 = STIRm2m1.to(\"cpu\")\n",
    "STIRm2m1 = STIRm2m1.numpy()\n",
    "STIRm1m2 = STIRm1m2.to(\"cpu\")\n",
    "STIRm1m2 = STIRm1m2.numpy()\n",
    "CKA = CKA .to(\"cpu\")\n",
    "CKA = CKA .numpy()"
   ]
  },
  {
   "cell_type": "code",
   "execution_count": 16,
   "id": "3b3270a5",
   "metadata": {},
   "outputs": [
    {
     "name": "stdout",
     "output_type": "stream",
     "text": [
      "STIRm2m1: [0.97162706 0.9002426  0.8551921  0.8108857  0.76160544 0.7219206\n",
      " 0.7194023  0.71629214 0.70217174 0.6799055  0.25305527 0.12996261\n",
      " 0.07835429]\n",
      "STIRm1m2: [0.97168106 0.9001976  0.8542921  0.8093025  0.74558455 0.70273286\n",
      " 0.68797266 0.6813809  0.6792315  0.66904587 0.62074107 0.58728826\n",
      " 0.5479833 ]\n",
      "CKA: [0.9999998  0.9993356  0.9860739  0.9824091  0.9432188  0.91374457\n",
      " 0.91174287 0.9161419  0.92472905 0.8991597  0.45346132 0.2610717\n",
      " 0.14807746]\n"
     ]
    }
   ],
   "source": [
    "print('STIRm2m1:', STIRm2m1)\n",
    "print('STIRm1m2:', STIRm1m2)\n",
    "print('CKA:', CKA)"
   ]
  },
  {
   "cell_type": "code",
   "execution_count": 6,
   "id": "019cf8f0",
   "metadata": {},
   "outputs": [
    {
     "data": {
      "image/png": "[encoded data removed]",
      "text/plain": [
       "<Figure size 1000x800 with 1 Axes>"
      ]
     },
     "metadata": {},
     "output_type": "display_data"
    }
   ],
   "source": [
    "import numpy as np\n",
    "import matplotlib.pyplot as plt\n",
    "\n",
    "xs = np.arange(13)\n",
    "plt.rcParams[\"figure.figsize\"] = [10,8]\n",
    "\n",
    "series = np.array(STIRm2m1)\n",
    "smask = np.isfinite(series)\n",
    "plt.plot(xs[smask], series[smask], linestyle='-', marker='s', markersize=10, color='green')\n",
    "\n",
    "series = np.array(STIRm1m2)\n",
    "smask = np.isfinite(series)\n",
    "plt.plot(xs[smask], series[smask], linestyle='-', marker='o', markersize=10, color='blue')\n",
    "\n",
    "series = np.array(CKA)\n",
    "smask = np.isfinite(series)\n",
    "plt.plot(xs[smask], series[smask], linestyle='-', marker='p', markersize=10, color='red')\n",
    "\n",
    "plt.legend(['STIR(Fine-tuned|Pre-trained)', 'STIR(Pre-trained|Fine-tuned)', 'CKA(Pre-trained, Fine-tuned)'], fontsize=18)\n",
    "plt.xlabel('Layer Depth', fontsize = 19, fontweight = 'bold')\n",
    "plt.ylabel('CKA/STIR', fontsize = 19, fontweight ='bold')\n",
    "\n",
    "plt.grid(True)\n",
    "plt.xticks(fontsize=17)\n",
    "plt.yticks(fontsize=17)\n",
    "#plt.tight_layout()\n",
    "#plt.show()\n",
    "plt.savefig('CoLA STIR.pdf', bbox_inches='tight')\n",
    "plt.savefig('CoLA STIR.jpg', bbox_inches='tight')\n",
    "\n"
   ]
  },
  {
   "cell_type": "code",
   "execution_count": null,
   "id": "77302013",
   "metadata": {},
   "outputs": [],
   "source": []
  },
  {
   "cell_type": "code",
   "execution_count": null,
   "id": "7322e296",
   "metadata": {},
   "outputs": [],
   "source": []
  },
  {
   "cell_type": "markdown",
   "id": "1a6dbd69",
   "metadata": {},
   "source": [
    "### Text perturbations"
   ]
  },
  {
   "cell_type": "code",
   "execution_count": 7,
   "id": "12334cb4",
   "metadata": {},
   "outputs": [
    {
     "data": {
      "text/plain": [
       "DatasetDict({\n",
       "    train: Dataset({\n",
       "        features: ['sentence', 'label', 'idx'],\n",
       "        num_rows: 8551\n",
       "    })\n",
       "    validation: Dataset({\n",
       "        features: ['sentence', 'label', 'idx'],\n",
       "        num_rows: 1043\n",
       "    })\n",
       "    test: Dataset({\n",
       "        features: ['sentence', 'label', 'idx'],\n",
       "        num_rows: 1063\n",
       "    })\n",
       "})"
      ]
     },
     "execution_count": 7,
     "metadata": {},
     "output_type": "execute_result"
    }
   ],
   "source": [
    "dataset"
   ]
  },
  {
   "cell_type": "markdown",
   "id": "9c575eb7",
   "metadata": {},
   "source": [
    "### Removing first word"
   ]
  },
  {
   "cell_type": "code",
   "execution_count": null,
   "id": "48e58eaf",
   "metadata": {},
   "outputs": [],
   "source": [
    "train_s = [sentence.split(\" \", 1)[1] if \" \" in sentence else sentence for sentence in dataset['train']['sentence']]\n",
    "test_s = [sentence.split(\" \", 1)[1] if \" \" in sentence else sentence for sentence in dataset['test']['sentence']]"
   ]
  },
  {
   "cell_type": "markdown",
   "id": "4211a38d",
   "metadata": {},
   "source": [
    "### Removing last word"
   ]
  },
  {
   "cell_type": "code",
   "execution_count": 31,
   "id": "ace1c748",
   "metadata": {},
   "outputs": [],
   "source": [
    "train_sentences = [sentence.rsplit(\" \", 1)[0] + sentence[-1] for sentence in dataset['train']['sentence']]\n",
    "test_sentences = [sentence.rsplit(\" \", 1)[0] + sentence[-1] for sentence in dataset['test']['sentence']]"
   ]
  },
  {
   "cell_type": "markdown",
   "id": "a66ed080",
   "metadata": {},
   "source": [
    "### Removing nouns and verbs"
   ]
  },
  {
   "cell_type": "code",
   "execution_count": 7,
   "id": "1bfcd058",
   "metadata": {},
   "outputs": [],
   "source": [
    "import nltk\n",
    "from nltk import pos_tag\n",
    "\n",
    "def remove_nouns(sentence):\n",
    "    words = nltk.word_tokenize(sentence)\n",
    "    tagged_words = pos_tag(words)\n",
    "    filtered_sentence = [word for word, pos in tagged_words if pos != 'NN' and pos != 'NNP' and pos != 'NNS']\n",
    "    return ' '.join(filtered_sentence)\n",
    "\n",
    "def remove_verbs(sentence):\n",
    "    words = nltk.word_tokenize(sentence)\n",
    "    tagged_words = pos_tag(words)\n",
    "    filtered_sentence = [word for word, pos in tagged_words if pos != 'VB' and pos != 'VBD' and pos != 'VBG' and pos != 'VBN' and pos != 'VBP' and pos != 'VBZ']\n",
    "    return ' '.join(filtered_sentence)"
   ]
  },
  {
   "cell_type": "markdown",
   "id": "897fa66a",
   "metadata": {},
   "source": [
    "### Swap text"
   ]
  },
  {
   "cell_type": "code",
   "execution_count": 14,
   "id": "c62f5fdf",
   "metadata": {},
   "outputs": [
    {
     "name": "stdout",
     "output_type": "stream",
     "text": [
      "Original Sentences:\n",
      "[\"Our friends won't buy this analysis, let alone the next one we propose.\", \"One more pseudo generalization and I'm giving up.\", \"One more pseudo generalization or I'm giving up.\", 'The more we study verbs, the crazier they get.', 'Day by day the facts are getting murkier.']\n",
      "\n",
      "Randomly Swapped Sentences:\n",
      "[\"Our let wo n't buy this analysis , friends alone the next one we propose .\", \"One more 'm generalization and I pseudo giving up .\", \"One more pseudo or generalization I 'm giving up .\", 'The more we study verbs , crazier the they get .', 'the by day Day facts are getting murkier .']\n"
     ]
    }
   ],
   "source": [
    "import nltk\n",
    "import random\n",
    "from nltk.tokenize import word_tokenize\n",
    "\n",
    "def random_swap_words(sentence):\n",
    "    words = word_tokenize(sentence)\n",
    "    if len(words) >= 2:\n",
    "        i, j = random.sample(range(len(words)), 2)\n",
    "        words[i], words[j] = words[j], words[i]\n",
    "        return \" \".join(words)\n",
    "    else:\n",
    "        return sentence\n",
    "\n",
    "\n",
    "\n",
    "train_s = [random_swap_words(sentence) for sentence in dataset['train']['sentence']]\n",
    "test_s = [random_swap_words(sentence) for sentence in dataset['test']['sentence']]\n",
    "\n",
    "print(\"Original Sentences:\")\n",
    "print(dataset['train']['sentence'][:5])\n",
    "print(\"\\nRandomly Swapped Sentences:\")\n",
    "print(train_s[:5])\n"
   ]
  },
  {
   "cell_type": "markdown",
   "id": "fff7bb79",
   "metadata": {},
   "source": [
    "### Add text"
   ]
  },
  {
   "cell_type": "code",
   "execution_count": 32,
   "id": "13e9fb31",
   "metadata": {},
   "outputs": [
    {
     "name": "stdout",
     "output_type": "stream",
     "text": [
      "Original Sentences:\n",
      "[\"Our friends won't buy this analysis, let alone the next one we propose.\", \"One more pseudo generalization and I'm giving up.\", \"One more pseudo generalization or I'm giving up.\", 'The more we study verbs, the crazier they get.', 'Day by day the facts are getting murkier.', \"I'll fix you a drink.\", 'Fred watered the plants flat.', 'Bill coughed his way out of the restaurant.', \"We're dancing the night away.\", 'Herman hammered the metal flat.']\n",
      "\n",
      "Randomly added Sentences:\n",
      "[\"Our friends won't buy this analysis, let alone stay the next one speech we propose.\", \"One more pseudo generalization and I'm capital giving up.\", \"One more pseudo generalization or major I'm giving up.\", 'The more we study your verbs, the crazier they get.', 'Day argue by day the facts are getting murkier.', \"I'll to fix you a drink.\", 'Fred shoulder watered the plants flat.', 'Bill travel coughed his way out of the restaurant.', \"choose We're dancing the night away.\", 'Herman hammered whatever the metal flat.']\n"
     ]
    }
   ],
   "source": [
    "import random\n",
    "from faker import Faker\n",
    "from typing import List\n",
    "\n",
    "def add_random_words(sentences: List[str]):\n",
    "    fake = Faker()\n",
    "    new_sentences = []\n",
    "    for sentence in sentences:\n",
    "        words = sentence.split()\n",
    "        num_words_to_add = int(len(words) / 5)\n",
    "        for i in range(num_words_to_add):\n",
    "            insert_index = random.randint(0, len(words) - 1)\n",
    "            words.insert(insert_index, fake.word())\n",
    "        new_sentences.append(\" \".join(words))\n",
    "    return new_sentences\n",
    "\n",
    "train_s = add_random_words(dataset['train']['sentence'])\n",
    "test_s = add_random_words(dataset['test']['sentence'])\n",
    "\n",
    "print(\"Original Sentences:\")\n",
    "print(dataset['train']['sentence'][:10])\n",
    "print(\"\\nRandomly added Sentences:\")\n",
    "print(train_s[:10])"
   ]
  },
  {
   "cell_type": "markdown",
   "id": "eb441677",
   "metadata": {},
   "source": [
    "### Change Char"
   ]
  },
  {
   "cell_type": "code",
   "execution_count": 5,
   "id": "cf7e5d97",
   "metadata": {
    "scrolled": true
   },
   "outputs": [
    {
     "name": "stdout",
     "output_type": "stream",
     "text": [
      "Original Sentences:\n",
      "[\"Our friends won't buy this analysis, let alone the next one we propose.\", \"One more pseudo generalization and I'm giving up.\", \"One more pseudo generalization or I'm giving up.\", 'The more we study verbs, the crazier they get.', 'Day by day the facts are getting murkier.']\n",
      "\n",
      "Randomly Swapped Sentences:\n",
      "[\"bur fxiWnds woR't buy tCis pnayysis, let alone thx next onetwe ppoposeA\", \"OneWmore pseudo generaliVation andxI'mdgiLing up.\", \"OPe mFre pseudo ganeralizatiox or I'm giving up.\", 'The more we stuOZ verbs, the crazier thBy get.', 'pay by day the bactt are hettinglmurkNer.']\n"
     ]
    }
   ],
   "source": [
    "import random\n",
    "import string\n",
    "\n",
    "def replace_characters(sentence, probability=0.10):\n",
    "    new_sentence = \"\"\n",
    "    for char in sentence:\n",
    "        if random.random() < probability:\n",
    "            char = random.choice(string.ascii_letters)\n",
    "        new_sentence += char\n",
    "    return new_sentence\n",
    "\n",
    "train_s = [replace_characters(sentence) for sentence in dataset['train']['sentence']]\n",
    "test_s = [replace_characters(sentence) for sentence in dataset['test']['sentence']]\n",
    "\n",
    "print(\"Original Sentences:\")\n",
    "print(dataset['train']['sentence'][:5])\n",
    "print(\"\\nRandomly Swapped Sentences:\")\n",
    "print(train_s[:5])\n"
   ]
  },
  {
   "cell_type": "markdown",
   "id": "f1eb0f1d",
   "metadata": {},
   "source": [
    "### Bias"
   ]
  },
  {
   "cell_type": "code",
   "execution_count": 10,
   "id": "a811a0c2",
   "metadata": {},
   "outputs": [
    {
     "name": "stdout",
     "output_type": "stream",
     "text": [
      "Original Sentences:\n",
      "[\"Our friends won't buy this analysis, let alone the next one we propose.\", \"One more pseudo generalization and I'm giving up.\", \"One more pseudo generalization or I'm giving up.\", 'The more we study verbs, the crazier they get.', 'Day by day the facts are getting murkier.', \"I'll fix you a drink.\", 'Fred watered the plants flat.', 'Bill coughed his way out of the restaurant.', \"We're dancing the night away.\", 'Herman hammered the metal flat.']\n",
      "\n",
      "Randomly Swapped Sentences:\n",
      "[\"Our friends won't buy this analysis, let alone the next one we propose. \", \"One more pseudo generalization and I'm giving up. \", \"One more pseudo generalization or I'm giving up. \", 'The more we study verbs, the crazier they get. ', 'Day by day the facts are getting murkier. ', \"I'll fix you a drink. \", 'Fred watered the plants flat. ', 'Bill coughed her way out of the restaurant. ', \"We're dancing the night away. \", 'Herman hammered the metal flat. ']\n"
     ]
    }
   ],
   "source": [
    "def changeGender(str):\n",
    "    dictionary = {\n",
    "    \"batman\": \"batwoman\", \"batwoman\": \"batman\",\n",
    "    \"boy\": \"girl\", \"girl\": \"boy\",\n",
    "    \"boyfriend\": \"girlfriend\", \"girlfriend\": \"boyfriend\",\n",
    "    \"father\": \"mother\", \"mother\": \"father\",\n",
    "    \"husband\": \"wife\", \"wife\": \"husband\",\n",
    "    \"he\": \"she\", \"she\": \"he\",\n",
    "    \"his\": \"her\", \"her\": \"his\",\n",
    "    \"male\": \"female\", \"female\": \"male\",\n",
    "    \"man\": \"woman\", \"woman\": \"man\",\n",
    "    \"Mr\": \"Ms\", \"Mr\": \"Ms\",\n",
    "    \"sir\": \"madam\", \"madam\": \"sir\",\n",
    "    \"son\": \"daughter\", \"daughter\": \"son\",\n",
    "    \"uncle\": \"aunt\", \"aunt\": \"uncle\",\n",
    "    }\n",
    "\n",
    "    str = str + ' ' # Append a space at the en\n",
    "    temp = \"\"\n",
    "    ans = \"\"\n",
    "\n",
    "    for i in range(len(str)):\n",
    "        if str[i] != ' ':\n",
    "            temp += str[i]\n",
    "        else:\n",
    "            if temp in dictionary:\n",
    "                temp = dictionary[temp]\n",
    "\n",
    "            ans = ans + temp + ' '\n",
    "            temp = \"\"\n",
    "\n",
    "    return ans\n",
    "\n",
    "train_s = [changeGender(sentence) for sentence in dataset['train']['sentence']]\n",
    "test_s = [changeGender(sentence) for sentence in dataset['test']['sentence']]\n",
    "\n",
    "print(\"Original Sentences:\")\n",
    "print(dataset['train']['sentence'][:10])\n",
    "print(\"\\nRandomly Swapped Sentences:\")\n",
    "print(train_s[:10])\n"
   ]
  },
  {
   "cell_type": "code",
   "execution_count": 69,
   "id": "3a563c62",
   "metadata": {},
   "outputs": [],
   "source": [
    "tokenised_dataset = tokenizer(train_s, padding=True, return_tensors='pt')\n",
    "input_ids = tokenised_dataset['input_ids']\n",
    "token_type_ids = tokenised_dataset['token_type_ids']\n",
    "attention_masks = tokenised_dataset['attention_mask']\n",
    "labels = torch.tensor(dataset['train']['label'])\n",
    "\n",
    "# Set the batch size.  \n",
    "batch_size = 16 \n",
    "\n",
    "# Create the DataLoader.\n",
    "train_data = TensorDataset(input_ids, token_type_ids, attention_masks, labels)\n",
    "train_sampler = SequentialSampler(train_data)\n",
    "train_dataloader = DataLoader(train_data, sampler=train_sampler, batch_size=batch_size)"
   ]
  },
  {
   "cell_type": "code",
   "execution_count": 9,
   "id": "7ef1b273",
   "metadata": {},
   "outputs": [],
   "source": [
    "tokenised_dataset = tokenizer(no_nouns_sentences, padding=True, return_tensors='pt')\n",
    "input_ids = tokenised_dataset['input_ids']\n",
    "token_type_ids = tokenised_dataset['token_type_ids']\n",
    "attention_masks = tokenised_dataset['attention_mask']\n",
    "labels = torch.tensor(dataset['test']['label'])\n",
    "\n",
    "# Set the batch size.  \n",
    "batch_size = 16 \n",
    "\n",
    "# Create the DataLoader.\n",
    "test_data = TensorDataset(input_ids, token_type_ids, attention_masks, labels)\n",
    "test_sampler = SequentialSampler(test_data)\n",
    "test_dataloader = DataLoader(test_data, sampler=test_sampler, batch_size=batch_size)"
   ]
  }
 ],
 "metadata": {
  "kernelspec": {
   "display_name": "Python 3 (ipykernel)",
   "language": "python",
   "name": "python3"
  },
  "language_info": {
   "codemirror_mode": {
    "name": "ipython",
    "version": 3
   },
   "file_extension": ".py",
   "mimetype": "text/x-python",
   "name": "python",
   "nbconvert_exporter": "python",
   "pygments_lexer": "ipython3",
   "version": "3.9.13"
  }
 },
 "nbformat": 4,
 "nbformat_minor": 5
}
