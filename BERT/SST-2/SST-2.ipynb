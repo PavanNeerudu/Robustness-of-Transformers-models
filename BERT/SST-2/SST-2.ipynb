{
 "cells": [
  {
   "cell_type": "markdown",
   "id": "34ecc147",
   "metadata": {},
   "source": [
    "## sst2 - The Stanford Sentiment Treebank: predict whether a movie review is positive or negative"
   ]
  },
  {
   "cell_type": "markdown",
   "id": "1b7c050e",
   "metadata": {},
   "source": [
    "### Importing the required libraries"
   ]
  },
  {
   "cell_type": "code",
   "execution_count": 1,
   "id": "39ca6749",
   "metadata": {},
   "outputs": [],
   "source": [
    "import pickle\n",
    "import torch\n",
    "import numpy as np\n",
    "import pandas as pd\n",
    "from datasets import load_dataset\n",
    "from torch.utils.data import TensorDataset, random_split\n",
    "from torch.utils.data import DataLoader, RandomSampler, SequentialSampler\n",
    "from transformers import AutoTokenizer\n",
    "from transformers import AutoModelForSequenceClassification\n",
    "from sklearn.preprocessing import StandardScaler\n",
    "from sklearn.linear_model import LogisticRegression\n",
    "import matplotlib.pyplot as plt"
   ]
  },
  {
   "cell_type": "markdown",
   "id": "ad368ef2",
   "metadata": {},
   "source": [
    "### Checking if gpu is available"
   ]
  },
  {
   "cell_type": "code",
   "execution_count": 2,
   "id": "5f88d053",
   "metadata": {},
   "outputs": [
    {
     "name": "stdout",
     "output_type": "stream",
     "text": [
      "There are 1 GPU(s) available.\n",
      "We will use the GPU: NVIDIA RTX A4000\n"
     ]
    }
   ],
   "source": [
    "if torch.cuda.is_available():       \n",
    "    device = torch.device(\"cuda\")\n",
    "    print('There are %d GPU(s) available.' % torch.cuda.device_count())\n",
    "    print('We will use the GPU:', torch.cuda.get_device_name(0))\n",
    "else:\n",
    "    print('No GPU available, using the CPU instead.')\n",
    "    device = torch.device(\"cpu\")"
   ]
  },
  {
   "cell_type": "markdown",
   "id": "1950a617",
   "metadata": {},
   "source": [
    "### Loading the dataset"
   ]
  },
  {
   "cell_type": "code",
   "execution_count": 3,
   "id": "718d1161",
   "metadata": {
    "scrolled": true
   },
   "outputs": [
    {
     "name": "stderr",
     "output_type": "stream",
     "text": [
      "Found cached dataset glue (C:/Users/NIT/.cache/huggingface/datasets/glue/sst2/1.0.0/dacbe3125aa31d7f70367a07a8a9e72a5a0bfeb5fc42e75c9db75b96da6053ad)\n"
     ]
    },
    {
     "data": {
      "application/vnd.jupyter.widget-view+json": {
       "model_id": "20c2e92325324209b2061b08f27d2ca3",
       "version_major": 2,
       "version_minor": 0
      },
      "text/plain": [
       "  0%|          | 0/3 [00:00<?, ?it/s]"
      ]
     },
     "metadata": {},
     "output_type": "display_data"
    },
    {
     "data": {
      "text/plain": [
       "DatasetDict({\n",
       "    train: Dataset({\n",
       "        features: ['sentence', 'label', 'idx'],\n",
       "        num_rows: 67349\n",
       "    })\n",
       "    validation: Dataset({\n",
       "        features: ['sentence', 'label', 'idx'],\n",
       "        num_rows: 872\n",
       "    })\n",
       "    test: Dataset({\n",
       "        features: ['sentence', 'label', 'idx'],\n",
       "        num_rows: 1821\n",
       "    })\n",
       "})"
      ]
     },
     "execution_count": 3,
     "metadata": {},
     "output_type": "execute_result"
    }
   ],
   "source": [
    "from datasets import load_dataset\n",
    "dataset = load_dataset('glue', 'sst2')\n",
    "dataset"
   ]
  },
  {
   "cell_type": "markdown",
   "id": "7f816f3a",
   "metadata": {},
   "source": [
    "### Using the tokenizer from huggingface"
   ]
  },
  {
   "cell_type": "code",
   "execution_count": 5,
   "id": "bed31e45",
   "metadata": {},
   "outputs": [],
   "source": [
    "from transformers import AutoTokenizer\n",
    "\n",
    "tokenizer = AutoTokenizer.from_pretrained(\"gchhablani/bert-base-cased-finetuned-sst2\")"
   ]
  },
  {
   "cell_type": "markdown",
   "id": "5d3e5c51",
   "metadata": {},
   "source": [
    "### Loading the pre-trained and fine-tuned models from huggingface and moving them to device"
   ]
  },
  {
   "cell_type": "code",
   "execution_count": 7,
   "id": "74989858",
   "metadata": {
    "collapsed": true
   },
   "outputs": [
    {
     "data": {
      "text/plain": [
       "BertForSequenceClassification(\n",
       "  (bert): BertModel(\n",
       "    (embeddings): BertEmbeddings(\n",
       "      (word_embeddings): Embedding(28996, 768, padding_idx=0)\n",
       "      (position_embeddings): Embedding(512, 768)\n",
       "      (token_type_embeddings): Embedding(2, 768)\n",
       "      (LayerNorm): LayerNorm((768,), eps=1e-12, elementwise_affine=True)\n",
       "      (dropout): Dropout(p=0.1, inplace=False)\n",
       "    )\n",
       "    (encoder): BertEncoder(\n",
       "      (layer): ModuleList(\n",
       "        (0): BertLayer(\n",
       "          (attention): BertAttention(\n",
       "            (self): BertSelfAttention(\n",
       "              (query): Linear(in_features=768, out_features=768, bias=True)\n",
       "              (key): Linear(in_features=768, out_features=768, bias=True)\n",
       "              (value): Linear(in_features=768, out_features=768, bias=True)\n",
       "              (dropout): Dropout(p=0.1, inplace=False)\n",
       "            )\n",
       "            (output): BertSelfOutput(\n",
       "              (dense): Linear(in_features=768, out_features=768, bias=True)\n",
       "              (LayerNorm): LayerNorm((768,), eps=1e-12, elementwise_affine=True)\n",
       "              (dropout): Dropout(p=0.1, inplace=False)\n",
       "            )\n",
       "          )\n",
       "          (intermediate): BertIntermediate(\n",
       "            (dense): Linear(in_features=768, out_features=3072, bias=True)\n",
       "            (intermediate_act_fn): GELUActivation()\n",
       "          )\n",
       "          (output): BertOutput(\n",
       "            (dense): Linear(in_features=3072, out_features=768, bias=True)\n",
       "            (LayerNorm): LayerNorm((768,), eps=1e-12, elementwise_affine=True)\n",
       "            (dropout): Dropout(p=0.1, inplace=False)\n",
       "          )\n",
       "        )\n",
       "        (1): BertLayer(\n",
       "          (attention): BertAttention(\n",
       "            (self): BertSelfAttention(\n",
       "              (query): Linear(in_features=768, out_features=768, bias=True)\n",
       "              (key): Linear(in_features=768, out_features=768, bias=True)\n",
       "              (value): Linear(in_features=768, out_features=768, bias=True)\n",
       "              (dropout): Dropout(p=0.1, inplace=False)\n",
       "            )\n",
       "            (output): BertSelfOutput(\n",
       "              (dense): Linear(in_features=768, out_features=768, bias=True)\n",
       "              (LayerNorm): LayerNorm((768,), eps=1e-12, elementwise_affine=True)\n",
       "              (dropout): Dropout(p=0.1, inplace=False)\n",
       "            )\n",
       "          )\n",
       "          (intermediate): BertIntermediate(\n",
       "            (dense): Linear(in_features=768, out_features=3072, bias=True)\n",
       "            (intermediate_act_fn): GELUActivation()\n",
       "          )\n",
       "          (output): BertOutput(\n",
       "            (dense): Linear(in_features=3072, out_features=768, bias=True)\n",
       "            (LayerNorm): LayerNorm((768,), eps=1e-12, elementwise_affine=True)\n",
       "            (dropout): Dropout(p=0.1, inplace=False)\n",
       "          )\n",
       "        )\n",
       "        (2): BertLayer(\n",
       "          (attention): BertAttention(\n",
       "            (self): BertSelfAttention(\n",
       "              (query): Linear(in_features=768, out_features=768, bias=True)\n",
       "              (key): Linear(in_features=768, out_features=768, bias=True)\n",
       "              (value): Linear(in_features=768, out_features=768, bias=True)\n",
       "              (dropout): Dropout(p=0.1, inplace=False)\n",
       "            )\n",
       "            (output): BertSelfOutput(\n",
       "              (dense): Linear(in_features=768, out_features=768, bias=True)\n",
       "              (LayerNorm): LayerNorm((768,), eps=1e-12, elementwise_affine=True)\n",
       "              (dropout): Dropout(p=0.1, inplace=False)\n",
       "            )\n",
       "          )\n",
       "          (intermediate): BertIntermediate(\n",
       "            (dense): Linear(in_features=768, out_features=3072, bias=True)\n",
       "            (intermediate_act_fn): GELUActivation()\n",
       "          )\n",
       "          (output): BertOutput(\n",
       "            (dense): Linear(in_features=3072, out_features=768, bias=True)\n",
       "            (LayerNorm): LayerNorm((768,), eps=1e-12, elementwise_affine=True)\n",
       "            (dropout): Dropout(p=0.1, inplace=False)\n",
       "          )\n",
       "        )\n",
       "        (3): BertLayer(\n",
       "          (attention): BertAttention(\n",
       "            (self): BertSelfAttention(\n",
       "              (query): Linear(in_features=768, out_features=768, bias=True)\n",
       "              (key): Linear(in_features=768, out_features=768, bias=True)\n",
       "              (value): Linear(in_features=768, out_features=768, bias=True)\n",
       "              (dropout): Dropout(p=0.1, inplace=False)\n",
       "            )\n",
       "            (output): BertSelfOutput(\n",
       "              (dense): Linear(in_features=768, out_features=768, bias=True)\n",
       "              (LayerNorm): LayerNorm((768,), eps=1e-12, elementwise_affine=True)\n",
       "              (dropout): Dropout(p=0.1, inplace=False)\n",
       "            )\n",
       "          )\n",
       "          (intermediate): BertIntermediate(\n",
       "            (dense): Linear(in_features=768, out_features=3072, bias=True)\n",
       "            (intermediate_act_fn): GELUActivation()\n",
       "          )\n",
       "          (output): BertOutput(\n",
       "            (dense): Linear(in_features=3072, out_features=768, bias=True)\n",
       "            (LayerNorm): LayerNorm((768,), eps=1e-12, elementwise_affine=True)\n",
       "            (dropout): Dropout(p=0.1, inplace=False)\n",
       "          )\n",
       "        )\n",
       "        (4): BertLayer(\n",
       "          (attention): BertAttention(\n",
       "            (self): BertSelfAttention(\n",
       "              (query): Linear(in_features=768, out_features=768, bias=True)\n",
       "              (key): Linear(in_features=768, out_features=768, bias=True)\n",
       "              (value): Linear(in_features=768, out_features=768, bias=True)\n",
       "              (dropout): Dropout(p=0.1, inplace=False)\n",
       "            )\n",
       "            (output): BertSelfOutput(\n",
       "              (dense): Linear(in_features=768, out_features=768, bias=True)\n",
       "              (LayerNorm): LayerNorm((768,), eps=1e-12, elementwise_affine=True)\n",
       "              (dropout): Dropout(p=0.1, inplace=False)\n",
       "            )\n",
       "          )\n",
       "          (intermediate): BertIntermediate(\n",
       "            (dense): Linear(in_features=768, out_features=3072, bias=True)\n",
       "            (intermediate_act_fn): GELUActivation()\n",
       "          )\n",
       "          (output): BertOutput(\n",
       "            (dense): Linear(in_features=3072, out_features=768, bias=True)\n",
       "            (LayerNorm): LayerNorm((768,), eps=1e-12, elementwise_affine=True)\n",
       "            (dropout): Dropout(p=0.1, inplace=False)\n",
       "          )\n",
       "        )\n",
       "        (5): BertLayer(\n",
       "          (attention): BertAttention(\n",
       "            (self): BertSelfAttention(\n",
       "              (query): Linear(in_features=768, out_features=768, bias=True)\n",
       "              (key): Linear(in_features=768, out_features=768, bias=True)\n",
       "              (value): Linear(in_features=768, out_features=768, bias=True)\n",
       "              (dropout): Dropout(p=0.1, inplace=False)\n",
       "            )\n",
       "            (output): BertSelfOutput(\n",
       "              (dense): Linear(in_features=768, out_features=768, bias=True)\n",
       "              (LayerNorm): LayerNorm((768,), eps=1e-12, elementwise_affine=True)\n",
       "              (dropout): Dropout(p=0.1, inplace=False)\n",
       "            )\n",
       "          )\n",
       "          (intermediate): BertIntermediate(\n",
       "            (dense): Linear(in_features=768, out_features=3072, bias=True)\n",
       "            (intermediate_act_fn): GELUActivation()\n",
       "          )\n",
       "          (output): BertOutput(\n",
       "            (dense): Linear(in_features=3072, out_features=768, bias=True)\n",
       "            (LayerNorm): LayerNorm((768,), eps=1e-12, elementwise_affine=True)\n",
       "            (dropout): Dropout(p=0.1, inplace=False)\n",
       "          )\n",
       "        )\n",
       "        (6): BertLayer(\n",
       "          (attention): BertAttention(\n",
       "            (self): BertSelfAttention(\n",
       "              (query): Linear(in_features=768, out_features=768, bias=True)\n",
       "              (key): Linear(in_features=768, out_features=768, bias=True)\n",
       "              (value): Linear(in_features=768, out_features=768, bias=True)\n",
       "              (dropout): Dropout(p=0.1, inplace=False)\n",
       "            )\n",
       "            (output): BertSelfOutput(\n",
       "              (dense): Linear(in_features=768, out_features=768, bias=True)\n",
       "              (LayerNorm): LayerNorm((768,), eps=1e-12, elementwise_affine=True)\n",
       "              (dropout): Dropout(p=0.1, inplace=False)\n",
       "            )\n",
       "          )\n",
       "          (intermediate): BertIntermediate(\n",
       "            (dense): Linear(in_features=768, out_features=3072, bias=True)\n",
       "            (intermediate_act_fn): GELUActivation()\n",
       "          )\n",
       "          (output): BertOutput(\n",
       "            (dense): Linear(in_features=3072, out_features=768, bias=True)\n",
       "            (LayerNorm): LayerNorm((768,), eps=1e-12, elementwise_affine=True)\n",
       "            (dropout): Dropout(p=0.1, inplace=False)\n",
       "          )\n",
       "        )\n",
       "        (7): BertLayer(\n",
       "          (attention): BertAttention(\n",
       "            (self): BertSelfAttention(\n",
       "              (query): Linear(in_features=768, out_features=768, bias=True)\n",
       "              (key): Linear(in_features=768, out_features=768, bias=True)\n",
       "              (value): Linear(in_features=768, out_features=768, bias=True)\n",
       "              (dropout): Dropout(p=0.1, inplace=False)\n",
       "            )\n",
       "            (output): BertSelfOutput(\n",
       "              (dense): Linear(in_features=768, out_features=768, bias=True)\n",
       "              (LayerNorm): LayerNorm((768,), eps=1e-12, elementwise_affine=True)\n",
       "              (dropout): Dropout(p=0.1, inplace=False)\n",
       "            )\n",
       "          )\n",
       "          (intermediate): BertIntermediate(\n",
       "            (dense): Linear(in_features=768, out_features=3072, bias=True)\n",
       "            (intermediate_act_fn): GELUActivation()\n",
       "          )\n",
       "          (output): BertOutput(\n",
       "            (dense): Linear(in_features=3072, out_features=768, bias=True)\n",
       "            (LayerNorm): LayerNorm((768,), eps=1e-12, elementwise_affine=True)\n",
       "            (dropout): Dropout(p=0.1, inplace=False)\n",
       "          )\n",
       "        )\n",
       "        (8): BertLayer(\n",
       "          (attention): BertAttention(\n",
       "            (self): BertSelfAttention(\n",
       "              (query): Linear(in_features=768, out_features=768, bias=True)\n",
       "              (key): Linear(in_features=768, out_features=768, bias=True)\n",
       "              (value): Linear(in_features=768, out_features=768, bias=True)\n",
       "              (dropout): Dropout(p=0.1, inplace=False)\n",
       "            )\n",
       "            (output): BertSelfOutput(\n",
       "              (dense): Linear(in_features=768, out_features=768, bias=True)\n",
       "              (LayerNorm): LayerNorm((768,), eps=1e-12, elementwise_affine=True)\n",
       "              (dropout): Dropout(p=0.1, inplace=False)\n",
       "            )\n",
       "          )\n",
       "          (intermediate): BertIntermediate(\n",
       "            (dense): Linear(in_features=768, out_features=3072, bias=True)\n",
       "            (intermediate_act_fn): GELUActivation()\n",
       "          )\n",
       "          (output): BertOutput(\n",
       "            (dense): Linear(in_features=3072, out_features=768, bias=True)\n",
       "            (LayerNorm): LayerNorm((768,), eps=1e-12, elementwise_affine=True)\n",
       "            (dropout): Dropout(p=0.1, inplace=False)\n",
       "          )\n",
       "        )\n",
       "        (9): BertLayer(\n",
       "          (attention): BertAttention(\n",
       "            (self): BertSelfAttention(\n",
       "              (query): Linear(in_features=768, out_features=768, bias=True)\n",
       "              (key): Linear(in_features=768, out_features=768, bias=True)\n",
       "              (value): Linear(in_features=768, out_features=768, bias=True)\n",
       "              (dropout): Dropout(p=0.1, inplace=False)\n",
       "            )\n",
       "            (output): BertSelfOutput(\n",
       "              (dense): Linear(in_features=768, out_features=768, bias=True)\n",
       "              (LayerNorm): LayerNorm((768,), eps=1e-12, elementwise_affine=True)\n",
       "              (dropout): Dropout(p=0.1, inplace=False)\n",
       "            )\n",
       "          )\n",
       "          (intermediate): BertIntermediate(\n",
       "            (dense): Linear(in_features=768, out_features=3072, bias=True)\n",
       "            (intermediate_act_fn): GELUActivation()\n",
       "          )\n",
       "          (output): BertOutput(\n",
       "            (dense): Linear(in_features=3072, out_features=768, bias=True)\n",
       "            (LayerNorm): LayerNorm((768,), eps=1e-12, elementwise_affine=True)\n",
       "            (dropout): Dropout(p=0.1, inplace=False)\n",
       "          )\n",
       "        )\n",
       "        (10): BertLayer(\n",
       "          (attention): BertAttention(\n",
       "            (self): BertSelfAttention(\n",
       "              (query): Linear(in_features=768, out_features=768, bias=True)\n",
       "              (key): Linear(in_features=768, out_features=768, bias=True)\n",
       "              (value): Linear(in_features=768, out_features=768, bias=True)\n",
       "              (dropout): Dropout(p=0.1, inplace=False)\n",
       "            )\n",
       "            (output): BertSelfOutput(\n",
       "              (dense): Linear(in_features=768, out_features=768, bias=True)\n",
       "              (LayerNorm): LayerNorm((768,), eps=1e-12, elementwise_affine=True)\n",
       "              (dropout): Dropout(p=0.1, inplace=False)\n",
       "            )\n",
       "          )\n",
       "          (intermediate): BertIntermediate(\n",
       "            (dense): Linear(in_features=768, out_features=3072, bias=True)\n",
       "            (intermediate_act_fn): GELUActivation()\n",
       "          )\n",
       "          (output): BertOutput(\n",
       "            (dense): Linear(in_features=3072, out_features=768, bias=True)\n",
       "            (LayerNorm): LayerNorm((768,), eps=1e-12, elementwise_affine=True)\n",
       "            (dropout): Dropout(p=0.1, inplace=False)\n",
       "          )\n",
       "        )\n",
       "        (11): BertLayer(\n",
       "          (attention): BertAttention(\n",
       "            (self): BertSelfAttention(\n",
       "              (query): Linear(in_features=768, out_features=768, bias=True)\n",
       "              (key): Linear(in_features=768, out_features=768, bias=True)\n",
       "              (value): Linear(in_features=768, out_features=768, bias=True)\n",
       "              (dropout): Dropout(p=0.1, inplace=False)\n",
       "            )\n",
       "            (output): BertSelfOutput(\n",
       "              (dense): Linear(in_features=768, out_features=768, bias=True)\n",
       "              (LayerNorm): LayerNorm((768,), eps=1e-12, elementwise_affine=True)\n",
       "              (dropout): Dropout(p=0.1, inplace=False)\n",
       "            )\n",
       "          )\n",
       "          (intermediate): BertIntermediate(\n",
       "            (dense): Linear(in_features=768, out_features=3072, bias=True)\n",
       "            (intermediate_act_fn): GELUActivation()\n",
       "          )\n",
       "          (output): BertOutput(\n",
       "            (dense): Linear(in_features=3072, out_features=768, bias=True)\n",
       "            (LayerNorm): LayerNorm((768,), eps=1e-12, elementwise_affine=True)\n",
       "            (dropout): Dropout(p=0.1, inplace=False)\n",
       "          )\n",
       "        )\n",
       "      )\n",
       "    )\n",
       "    (pooler): BertPooler(\n",
       "      (dense): Linear(in_features=768, out_features=768, bias=True)\n",
       "      (activation): Tanh()\n",
       "    )\n",
       "  )\n",
       "  (dropout): Dropout(p=0.1, inplace=False)\n",
       "  (classifier): Linear(in_features=768, out_features=2, bias=True)\n",
       ")"
      ]
     },
     "execution_count": 7,
     "metadata": {},
     "output_type": "execute_result"
    }
   ],
   "source": [
    "from transformers import AutoModelForSequenceClassification\n",
    "fineTunedModel = AutoModelForSequenceClassification.from_pretrained(\"gchhablani/bert-base-cased-finetuned-sst2\")\n",
    "fineTunedModel.cuda()"
   ]
  },
  {
   "cell_type": "code",
   "execution_count": 8,
   "id": "eb5abdb7",
   "metadata": {
    "collapsed": true
   },
   "outputs": [
    {
     "name": "stderr",
     "output_type": "stream",
     "text": [
      "Some weights of the model checkpoint at bert-base-cased were not used when initializing BertForSequenceClassification: ['cls.seq_relationship.bias', 'cls.predictions.decoder.weight', 'cls.predictions.transform.dense.bias', 'cls.predictions.transform.LayerNorm.weight', 'cls.predictions.bias', 'cls.seq_relationship.weight', 'cls.predictions.transform.LayerNorm.bias', 'cls.predictions.transform.dense.weight']\n",
      "- This IS expected if you are initializing BertForSequenceClassification from the checkpoint of a model trained on another task or with another architecture (e.g. initializing a BertForSequenceClassification model from a BertForPreTraining model).\n",
      "- This IS NOT expected if you are initializing BertForSequenceClassification from the checkpoint of a model that you expect to be exactly identical (initializing a BertForSequenceClassification model from a BertForSequenceClassification model).\n",
      "Some weights of BertForSequenceClassification were not initialized from the model checkpoint at bert-base-cased and are newly initialized: ['classifier.bias', 'classifier.weight']\n",
      "You should probably TRAIN this model on a down-stream task to be able to use it for predictions and inference.\n"
     ]
    },
    {
     "data": {
      "text/plain": [
       "BertForSequenceClassification(\n",
       "  (bert): BertModel(\n",
       "    (embeddings): BertEmbeddings(\n",
       "      (word_embeddings): Embedding(28996, 768, padding_idx=0)\n",
       "      (position_embeddings): Embedding(512, 768)\n",
       "      (token_type_embeddings): Embedding(2, 768)\n",
       "      (LayerNorm): LayerNorm((768,), eps=1e-12, elementwise_affine=True)\n",
       "      (dropout): Dropout(p=0.1, inplace=False)\n",
       "    )\n",
       "    (encoder): BertEncoder(\n",
       "      (layer): ModuleList(\n",
       "        (0): BertLayer(\n",
       "          (attention): BertAttention(\n",
       "            (self): BertSelfAttention(\n",
       "              (query): Linear(in_features=768, out_features=768, bias=True)\n",
       "              (key): Linear(in_features=768, out_features=768, bias=True)\n",
       "              (value): Linear(in_features=768, out_features=768, bias=True)\n",
       "              (dropout): Dropout(p=0.1, inplace=False)\n",
       "            )\n",
       "            (output): BertSelfOutput(\n",
       "              (dense): Linear(in_features=768, out_features=768, bias=True)\n",
       "              (LayerNorm): LayerNorm((768,), eps=1e-12, elementwise_affine=True)\n",
       "              (dropout): Dropout(p=0.1, inplace=False)\n",
       "            )\n",
       "          )\n",
       "          (intermediate): BertIntermediate(\n",
       "            (dense): Linear(in_features=768, out_features=3072, bias=True)\n",
       "            (intermediate_act_fn): GELUActivation()\n",
       "          )\n",
       "          (output): BertOutput(\n",
       "            (dense): Linear(in_features=3072, out_features=768, bias=True)\n",
       "            (LayerNorm): LayerNorm((768,), eps=1e-12, elementwise_affine=True)\n",
       "            (dropout): Dropout(p=0.1, inplace=False)\n",
       "          )\n",
       "        )\n",
       "        (1): BertLayer(\n",
       "          (attention): BertAttention(\n",
       "            (self): BertSelfAttention(\n",
       "              (query): Linear(in_features=768, out_features=768, bias=True)\n",
       "              (key): Linear(in_features=768, out_features=768, bias=True)\n",
       "              (value): Linear(in_features=768, out_features=768, bias=True)\n",
       "              (dropout): Dropout(p=0.1, inplace=False)\n",
       "            )\n",
       "            (output): BertSelfOutput(\n",
       "              (dense): Linear(in_features=768, out_features=768, bias=True)\n",
       "              (LayerNorm): LayerNorm((768,), eps=1e-12, elementwise_affine=True)\n",
       "              (dropout): Dropout(p=0.1, inplace=False)\n",
       "            )\n",
       "          )\n",
       "          (intermediate): BertIntermediate(\n",
       "            (dense): Linear(in_features=768, out_features=3072, bias=True)\n",
       "            (intermediate_act_fn): GELUActivation()\n",
       "          )\n",
       "          (output): BertOutput(\n",
       "            (dense): Linear(in_features=3072, out_features=768, bias=True)\n",
       "            (LayerNorm): LayerNorm((768,), eps=1e-12, elementwise_affine=True)\n",
       "            (dropout): Dropout(p=0.1, inplace=False)\n",
       "          )\n",
       "        )\n",
       "        (2): BertLayer(\n",
       "          (attention): BertAttention(\n",
       "            (self): BertSelfAttention(\n",
       "              (query): Linear(in_features=768, out_features=768, bias=True)\n",
       "              (key): Linear(in_features=768, out_features=768, bias=True)\n",
       "              (value): Linear(in_features=768, out_features=768, bias=True)\n",
       "              (dropout): Dropout(p=0.1, inplace=False)\n",
       "            )\n",
       "            (output): BertSelfOutput(\n",
       "              (dense): Linear(in_features=768, out_features=768, bias=True)\n",
       "              (LayerNorm): LayerNorm((768,), eps=1e-12, elementwise_affine=True)\n",
       "              (dropout): Dropout(p=0.1, inplace=False)\n",
       "            )\n",
       "          )\n",
       "          (intermediate): BertIntermediate(\n",
       "            (dense): Linear(in_features=768, out_features=3072, bias=True)\n",
       "            (intermediate_act_fn): GELUActivation()\n",
       "          )\n",
       "          (output): BertOutput(\n",
       "            (dense): Linear(in_features=3072, out_features=768, bias=True)\n",
       "            (LayerNorm): LayerNorm((768,), eps=1e-12, elementwise_affine=True)\n",
       "            (dropout): Dropout(p=0.1, inplace=False)\n",
       "          )\n",
       "        )\n",
       "        (3): BertLayer(\n",
       "          (attention): BertAttention(\n",
       "            (self): BertSelfAttention(\n",
       "              (query): Linear(in_features=768, out_features=768, bias=True)\n",
       "              (key): Linear(in_features=768, out_features=768, bias=True)\n",
       "              (value): Linear(in_features=768, out_features=768, bias=True)\n",
       "              (dropout): Dropout(p=0.1, inplace=False)\n",
       "            )\n",
       "            (output): BertSelfOutput(\n",
       "              (dense): Linear(in_features=768, out_features=768, bias=True)\n",
       "              (LayerNorm): LayerNorm((768,), eps=1e-12, elementwise_affine=True)\n",
       "              (dropout): Dropout(p=0.1, inplace=False)\n",
       "            )\n",
       "          )\n",
       "          (intermediate): BertIntermediate(\n",
       "            (dense): Linear(in_features=768, out_features=3072, bias=True)\n",
       "            (intermediate_act_fn): GELUActivation()\n",
       "          )\n",
       "          (output): BertOutput(\n",
       "            (dense): Linear(in_features=3072, out_features=768, bias=True)\n",
       "            (LayerNorm): LayerNorm((768,), eps=1e-12, elementwise_affine=True)\n",
       "            (dropout): Dropout(p=0.1, inplace=False)\n",
       "          )\n",
       "        )\n",
       "        (4): BertLayer(\n",
       "          (attention): BertAttention(\n",
       "            (self): BertSelfAttention(\n",
       "              (query): Linear(in_features=768, out_features=768, bias=True)\n",
       "              (key): Linear(in_features=768, out_features=768, bias=True)\n",
       "              (value): Linear(in_features=768, out_features=768, bias=True)\n",
       "              (dropout): Dropout(p=0.1, inplace=False)\n",
       "            )\n",
       "            (output): BertSelfOutput(\n",
       "              (dense): Linear(in_features=768, out_features=768, bias=True)\n",
       "              (LayerNorm): LayerNorm((768,), eps=1e-12, elementwise_affine=True)\n",
       "              (dropout): Dropout(p=0.1, inplace=False)\n",
       "            )\n",
       "          )\n",
       "          (intermediate): BertIntermediate(\n",
       "            (dense): Linear(in_features=768, out_features=3072, bias=True)\n",
       "            (intermediate_act_fn): GELUActivation()\n",
       "          )\n",
       "          (output): BertOutput(\n",
       "            (dense): Linear(in_features=3072, out_features=768, bias=True)\n",
       "            (LayerNorm): LayerNorm((768,), eps=1e-12, elementwise_affine=True)\n",
       "            (dropout): Dropout(p=0.1, inplace=False)\n",
       "          )\n",
       "        )\n",
       "        (5): BertLayer(\n",
       "          (attention): BertAttention(\n",
       "            (self): BertSelfAttention(\n",
       "              (query): Linear(in_features=768, out_features=768, bias=True)\n",
       "              (key): Linear(in_features=768, out_features=768, bias=True)\n",
       "              (value): Linear(in_features=768, out_features=768, bias=True)\n",
       "              (dropout): Dropout(p=0.1, inplace=False)\n",
       "            )\n",
       "            (output): BertSelfOutput(\n",
       "              (dense): Linear(in_features=768, out_features=768, bias=True)\n",
       "              (LayerNorm): LayerNorm((768,), eps=1e-12, elementwise_affine=True)\n",
       "              (dropout): Dropout(p=0.1, inplace=False)\n",
       "            )\n",
       "          )\n",
       "          (intermediate): BertIntermediate(\n",
       "            (dense): Linear(in_features=768, out_features=3072, bias=True)\n",
       "            (intermediate_act_fn): GELUActivation()\n",
       "          )\n",
       "          (output): BertOutput(\n",
       "            (dense): Linear(in_features=3072, out_features=768, bias=True)\n",
       "            (LayerNorm): LayerNorm((768,), eps=1e-12, elementwise_affine=True)\n",
       "            (dropout): Dropout(p=0.1, inplace=False)\n",
       "          )\n",
       "        )\n",
       "        (6): BertLayer(\n",
       "          (attention): BertAttention(\n",
       "            (self): BertSelfAttention(\n",
       "              (query): Linear(in_features=768, out_features=768, bias=True)\n",
       "              (key): Linear(in_features=768, out_features=768, bias=True)\n",
       "              (value): Linear(in_features=768, out_features=768, bias=True)\n",
       "              (dropout): Dropout(p=0.1, inplace=False)\n",
       "            )\n",
       "            (output): BertSelfOutput(\n",
       "              (dense): Linear(in_features=768, out_features=768, bias=True)\n",
       "              (LayerNorm): LayerNorm((768,), eps=1e-12, elementwise_affine=True)\n",
       "              (dropout): Dropout(p=0.1, inplace=False)\n",
       "            )\n",
       "          )\n",
       "          (intermediate): BertIntermediate(\n",
       "            (dense): Linear(in_features=768, out_features=3072, bias=True)\n",
       "            (intermediate_act_fn): GELUActivation()\n",
       "          )\n",
       "          (output): BertOutput(\n",
       "            (dense): Linear(in_features=3072, out_features=768, bias=True)\n",
       "            (LayerNorm): LayerNorm((768,), eps=1e-12, elementwise_affine=True)\n",
       "            (dropout): Dropout(p=0.1, inplace=False)\n",
       "          )\n",
       "        )\n",
       "        (7): BertLayer(\n",
       "          (attention): BertAttention(\n",
       "            (self): BertSelfAttention(\n",
       "              (query): Linear(in_features=768, out_features=768, bias=True)\n",
       "              (key): Linear(in_features=768, out_features=768, bias=True)\n",
       "              (value): Linear(in_features=768, out_features=768, bias=True)\n",
       "              (dropout): Dropout(p=0.1, inplace=False)\n",
       "            )\n",
       "            (output): BertSelfOutput(\n",
       "              (dense): Linear(in_features=768, out_features=768, bias=True)\n",
       "              (LayerNorm): LayerNorm((768,), eps=1e-12, elementwise_affine=True)\n",
       "              (dropout): Dropout(p=0.1, inplace=False)\n",
       "            )\n",
       "          )\n",
       "          (intermediate): BertIntermediate(\n",
       "            (dense): Linear(in_features=768, out_features=3072, bias=True)\n",
       "            (intermediate_act_fn): GELUActivation()\n",
       "          )\n",
       "          (output): BertOutput(\n",
       "            (dense): Linear(in_features=3072, out_features=768, bias=True)\n",
       "            (LayerNorm): LayerNorm((768,), eps=1e-12, elementwise_affine=True)\n",
       "            (dropout): Dropout(p=0.1, inplace=False)\n",
       "          )\n",
       "        )\n",
       "        (8): BertLayer(\n",
       "          (attention): BertAttention(\n",
       "            (self): BertSelfAttention(\n",
       "              (query): Linear(in_features=768, out_features=768, bias=True)\n",
       "              (key): Linear(in_features=768, out_features=768, bias=True)\n",
       "              (value): Linear(in_features=768, out_features=768, bias=True)\n",
       "              (dropout): Dropout(p=0.1, inplace=False)\n",
       "            )\n",
       "            (output): BertSelfOutput(\n",
       "              (dense): Linear(in_features=768, out_features=768, bias=True)\n",
       "              (LayerNorm): LayerNorm((768,), eps=1e-12, elementwise_affine=True)\n",
       "              (dropout): Dropout(p=0.1, inplace=False)\n",
       "            )\n",
       "          )\n",
       "          (intermediate): BertIntermediate(\n",
       "            (dense): Linear(in_features=768, out_features=3072, bias=True)\n",
       "            (intermediate_act_fn): GELUActivation()\n",
       "          )\n",
       "          (output): BertOutput(\n",
       "            (dense): Linear(in_features=3072, out_features=768, bias=True)\n",
       "            (LayerNorm): LayerNorm((768,), eps=1e-12, elementwise_affine=True)\n",
       "            (dropout): Dropout(p=0.1, inplace=False)\n",
       "          )\n",
       "        )\n",
       "        (9): BertLayer(\n",
       "          (attention): BertAttention(\n",
       "            (self): BertSelfAttention(\n",
       "              (query): Linear(in_features=768, out_features=768, bias=True)\n",
       "              (key): Linear(in_features=768, out_features=768, bias=True)\n",
       "              (value): Linear(in_features=768, out_features=768, bias=True)\n",
       "              (dropout): Dropout(p=0.1, inplace=False)\n",
       "            )\n",
       "            (output): BertSelfOutput(\n",
       "              (dense): Linear(in_features=768, out_features=768, bias=True)\n",
       "              (LayerNorm): LayerNorm((768,), eps=1e-12, elementwise_affine=True)\n",
       "              (dropout): Dropout(p=0.1, inplace=False)\n",
       "            )\n",
       "          )\n",
       "          (intermediate): BertIntermediate(\n",
       "            (dense): Linear(in_features=768, out_features=3072, bias=True)\n",
       "            (intermediate_act_fn): GELUActivation()\n",
       "          )\n",
       "          (output): BertOutput(\n",
       "            (dense): Linear(in_features=3072, out_features=768, bias=True)\n",
       "            (LayerNorm): LayerNorm((768,), eps=1e-12, elementwise_affine=True)\n",
       "            (dropout): Dropout(p=0.1, inplace=False)\n",
       "          )\n",
       "        )\n",
       "        (10): BertLayer(\n",
       "          (attention): BertAttention(\n",
       "            (self): BertSelfAttention(\n",
       "              (query): Linear(in_features=768, out_features=768, bias=True)\n",
       "              (key): Linear(in_features=768, out_features=768, bias=True)\n",
       "              (value): Linear(in_features=768, out_features=768, bias=True)\n",
       "              (dropout): Dropout(p=0.1, inplace=False)\n",
       "            )\n",
       "            (output): BertSelfOutput(\n",
       "              (dense): Linear(in_features=768, out_features=768, bias=True)\n",
       "              (LayerNorm): LayerNorm((768,), eps=1e-12, elementwise_affine=True)\n",
       "              (dropout): Dropout(p=0.1, inplace=False)\n",
       "            )\n",
       "          )\n",
       "          (intermediate): BertIntermediate(\n",
       "            (dense): Linear(in_features=768, out_features=3072, bias=True)\n",
       "            (intermediate_act_fn): GELUActivation()\n",
       "          )\n",
       "          (output): BertOutput(\n",
       "            (dense): Linear(in_features=3072, out_features=768, bias=True)\n",
       "            (LayerNorm): LayerNorm((768,), eps=1e-12, elementwise_affine=True)\n",
       "            (dropout): Dropout(p=0.1, inplace=False)\n",
       "          )\n",
       "        )\n",
       "        (11): BertLayer(\n",
       "          (attention): BertAttention(\n",
       "            (self): BertSelfAttention(\n",
       "              (query): Linear(in_features=768, out_features=768, bias=True)\n",
       "              (key): Linear(in_features=768, out_features=768, bias=True)\n",
       "              (value): Linear(in_features=768, out_features=768, bias=True)\n",
       "              (dropout): Dropout(p=0.1, inplace=False)\n",
       "            )\n",
       "            (output): BertSelfOutput(\n",
       "              (dense): Linear(in_features=768, out_features=768, bias=True)\n",
       "              (LayerNorm): LayerNorm((768,), eps=1e-12, elementwise_affine=True)\n",
       "              (dropout): Dropout(p=0.1, inplace=False)\n",
       "            )\n",
       "          )\n",
       "          (intermediate): BertIntermediate(\n",
       "            (dense): Linear(in_features=768, out_features=3072, bias=True)\n",
       "            (intermediate_act_fn): GELUActivation()\n",
       "          )\n",
       "          (output): BertOutput(\n",
       "            (dense): Linear(in_features=3072, out_features=768, bias=True)\n",
       "            (LayerNorm): LayerNorm((768,), eps=1e-12, elementwise_affine=True)\n",
       "            (dropout): Dropout(p=0.1, inplace=False)\n",
       "          )\n",
       "        )\n",
       "      )\n",
       "    )\n",
       "    (pooler): BertPooler(\n",
       "      (dense): Linear(in_features=768, out_features=768, bias=True)\n",
       "      (activation): Tanh()\n",
       "    )\n",
       "  )\n",
       "  (dropout): Dropout(p=0.1, inplace=False)\n",
       "  (classifier): Linear(in_features=768, out_features=2, bias=True)\n",
       ")"
      ]
     },
     "execution_count": 8,
     "metadata": {},
     "output_type": "execute_result"
    }
   ],
   "source": [
    "preTrainedModel = AutoModelForSequenceClassification.from_pretrained(\"bert-base-cased\",\n",
    "                                                      num_labels = 2,\n",
    "                                                      output_attentions = True,\n",
    "                                                      output_hidden_states = True,)\n",
    "preTrainedModel.cuda()"
   ]
  },
  {
   "cell_type": "markdown",
   "id": "95067354",
   "metadata": {},
   "source": [
    "### Forming dataloaders"
   ]
  },
  {
   "cell_type": "code",
   "execution_count": null,
   "id": "438d8704",
   "metadata": {},
   "outputs": [],
   "source": [
    "tokenised_dataset = tokenizer(dataset['train']['sentence'], padding=True, return_tensors='pt')\n",
    "input_ids = tokenised_dataset['input_ids']\n",
    "token_type_ids = tokenised_dataset['token_type_ids']\n",
    "attention_masks = tokenised_dataset['attention_mask']\n",
    "labels = torch.tensor(dataset['train']['label'])\n",
    "\n",
    "# Set the batch size.  \n",
    "batch_size = 16 \n",
    "\n",
    "# Create the DataLoader.\n",
    "train_data = TensorDataset(input_ids, token_type_ids, attention_masks, labels)\n",
    "train_sampler = SequentialSampler(train_data)\n",
    "train_dataloader = DataLoader(train_data, sampler=train_sampler, batch_size=batch_size)"
   ]
  },
  {
   "cell_type": "code",
   "execution_count": 9,
   "id": "8a18b09f",
   "metadata": {},
   "outputs": [],
   "source": [
    "tokenised_dataset = tokenizer(dataset['test']['sentence'], padding=True, return_tensors='pt')\n",
    "input_ids = tokenised_dataset['input_ids']\n",
    "token_type_ids = tokenised_dataset['token_type_ids']\n",
    "attention_masks = tokenised_dataset['attention_mask']\n",
    "labels = torch.tensor(dataset['test']['label'])\n",
    "\n",
    "# Set the batch size.  \n",
    "batch_size = 16 \n",
    "\n",
    "# Create the DataLoader.\n",
    "test_data = TensorDataset(input_ids, token_type_ids, attention_masks, labels)\n",
    "test_sampler = SequentialSampler(test_data)\n",
    "test_dataloader = DataLoader(test_data, sampler=test_sampler, batch_size=batch_size)"
   ]
  },
  {
   "cell_type": "code",
   "execution_count": null,
   "id": "1493164c",
   "metadata": {},
   "outputs": [],
   "source": []
  },
  {
   "cell_type": "code",
   "execution_count": 10,
   "id": "2e448fbb",
   "metadata": {},
   "outputs": [],
   "source": [
    "def getLabels(model, data_loader):\n",
    "    predictions = []\n",
    "    for batch in data_loader:\n",
    "        batch = tuple(t.to(device) for t in batch)\n",
    "        b_input_ids, b_token_type_ids, b_input_mask, b_labels = batch\n",
    "  \n",
    "        with torch.no_grad():\n",
    "            results = model(b_input_ids, token_type_ids=b_token_type_ids, attention_mask=b_input_mask, return_dict=True)\n",
    "            logits = results.logits\n",
    "            pred = torch.argmax(logits, dim = 1)\n",
    "            predictions.extend(pred.tolist())\n",
    "    return predictions"
   ]
  },
  {
   "cell_type": "code",
   "execution_count": 11,
   "id": "9e0eaf31",
   "metadata": {},
   "outputs": [],
   "source": [
    "import numpy as np\n",
    "import pandas as pd\n",
    "predictions = getLabels(fineTunedModel, test_dataloader)\n",
    "filename = 'fSST-2.tsv'\n",
    "result = pd.DataFrame(predictions, columns=['prediction'])\n",
    "result.insert(0, 'index', range(0, len(result)))\n",
    "result.to_csv(filename, sep='\\t', index=False)"
   ]
  },
  {
   "cell_type": "markdown",
   "id": "ae0884db",
   "metadata": {},
   "source": [
    "### Getting CLS hidden states for all layers [13, number of sampes, 768] to check layer-wise accuracy"
   ]
  },
  {
   "cell_type": "code",
   "execution_count": 20,
   "id": "e176e852",
   "metadata": {},
   "outputs": [],
   "source": [
    "def getCLSHiddenStates(model, prediction_dataloader):\n",
    "    model.eval()\n",
    "    totalHiddenStates = [0]*13\n",
    "    flag = True\n",
    "    \n",
    "    for batch in prediction_dataloader:\n",
    "        # Add batch to GPU\n",
    "        batch = tuple(t.to(device) for t in batch)\n",
    "  \n",
    "        # Unpack the inputs from our dataloader\n",
    "        b_input_ids, b_token_type_ids, b_input_mask, b_labels = batch\n",
    "  \n",
    "        with torch.no_grad():\n",
    "            result = model(b_input_ids,\n",
    "                           token_type_ids=None,\n",
    "                           attention_mask=b_input_mask,\n",
    "                           output_hidden_states = True,\n",
    "                           return_dict=True)\n",
    "            \n",
    "        hidden_states = result.hidden_states\n",
    "        if flag == True:\n",
    "            for i in range(len(hidden_states)):\n",
    "                totalHiddenStates[i] = hidden_states[i][:,0,:].to(\"cpu\")\n",
    "            flag = False\n",
    "        else:\n",
    "            for i in range(len(hidden_states)):\n",
    "                temp = hidden_states[i][:,0,:].to(\"cpu\")\n",
    "                totalHiddenStates[i] = torch.cat((totalHiddenStates[i], temp), 0)   \n",
    "    return totalHiddenStates"
   ]
  },
  {
   "cell_type": "code",
   "execution_count": 21,
   "id": "528ddd51",
   "metadata": {
    "collapsed": true
   },
   "outputs": [
    {
     "name": "stdout",
     "output_type": "stream",
     "text": [
      "0\n",
      "1\n",
      "2\n",
      "3\n",
      "4\n",
      "5\n",
      "6\n"
     ]
    },
    {
     "data": {
      "text/plain": [
       "torch.Size([67349, 768])"
      ]
     },
     "execution_count": 21,
     "metadata": {},
     "output_type": "execute_result"
    }
   ],
   "source": [
    "num_rows = dataset['train'].num_rows\n",
    "hiddenStates = [0]*13\n",
    "flag = True\n",
    "for i in range(0, num_rows//10000 +1):\n",
    "    print(i)\n",
    "    st = i*10000\n",
    "    if(i==num_rows//10000):\n",
    "        end = num_rows\n",
    "    else:\n",
    "        end = (i+1)*10000\n",
    "    tokenised_dataset = tokenizer(train_s[st:end], padding=True, return_tensors='pt')\n",
    "    input_ids = tokenised_dataset['input_ids']\n",
    "    token_type_ids = tokenised_dataset['token_type_ids']\n",
    "    attention_masks = tokenised_dataset['attention_mask']\n",
    "    labels = torch.tensor(dataset['train']['label'][st:end])\n",
    "  \n",
    "    \n",
    "    batch_size = 16 \n",
    "    train_data = TensorDataset(input_ids, token_type_ids, attention_masks, labels)\n",
    "    train_sampler = SequentialSampler(train_data)\n",
    "    train_dataloader = DataLoader(train_data, sampler=train_sampler, batch_size=batch_size)\n",
    "    \n",
    "    hS = getCLSHiddenStates(preTrainedModel, train_dataloader)\n",
    "    if flag==True:\n",
    "        for j in range(13):\n",
    "            hiddenStates[j] = hS[j]\n",
    "        flag = False\n",
    "    else:\n",
    "        for j in range(13):\n",
    "            hiddenStates[j] = torch.cat((hiddenStates[j], hS[j]), dim = 0)\n",
    "\n",
    "preTrainedCLSHiddenStatesTrain = torch.stack(hiddenStates, dim = 0)\n",
    "#torch.save(preTrainedCLSHiddenStatesTrain, 'preTrainedCLSHiddenStatesTrain_sst2.pt')\n",
    "preTrainedCLSHiddenStatesTrain.shape"
   ]
  },
  {
   "cell_type": "code",
   "execution_count": null,
   "id": "676b42a7",
   "metadata": {},
   "outputs": [],
   "source": [
    "num_rows = dataset['train'].num_rows\n",
    "hiddenStates = [0]*13\n",
    "flag = True\n",
    "for i in range(0, num_rows//10000 +1):\n",
    "    print(i)\n",
    "    st = i*10000\n",
    "    if(i==num_rows//10000):\n",
    "        end = num_rows\n",
    "    else:\n",
    "        end = (i+1)*10000\n",
    "    tokenised_dataset = tokenizer(train_s[st:end], padding=True, return_tensors='pt')\n",
    "    input_ids = tokenised_dataset['input_ids']\n",
    "    token_type_ids = tokenised_dataset['token_type_ids']\n",
    "    attention_masks = tokenised_dataset['attention_mask']\n",
    "    labels = torch.tensor(dataset['train']['label'][st:end])\n",
    "  \n",
    "    \n",
    "    batch_size = 16 \n",
    "    train_data = TensorDataset(input_ids, token_type_ids, attention_masks, labels)\n",
    "    train_sampler = SequentialSampler(train_data)\n",
    "    train_dataloader = DataLoader(train_data, sampler=train_sampler, batch_size=batch_size)\n",
    "    \n",
    "    hS = getCLSHiddenStates(fineTunedModel, train_dataloader)\n",
    "    if flag==True:\n",
    "        for j in range(13):\n",
    "            hiddenStates[j] = hS[j]\n",
    "        flag = False\n",
    "    else:\n",
    "        for j in range(13):\n",
    "            hiddenStates[j] = torch.cat((hiddenStates[j], hS[j]), dim = 0)\n",
    "\n",
    "fineTunedCLSHiddenStatesTrain = torch.stack(hiddenStates, dim = 0)\n",
    "#torch.save(fineTunedCLSHiddenStatesTrain, 'fineTunedCLSHiddenStatesTrain_sst2.pt')\n",
    "fineTunedCLSHiddenStatesTrain.shape"
   ]
  },
  {
   "cell_type": "code",
   "execution_count": 23,
   "id": "99c293a0",
   "metadata": {},
   "outputs": [
    {
     "data": {
      "text/plain": [
       "torch.Size([67349, 768])"
      ]
     },
     "execution_count": 23,
     "metadata": {},
     "output_type": "execute_result"
    }
   ],
   "source": [
    "fineTunedCLSHiddenStatesTrain = hiddenStates\n",
    "#torch.save(fineTunedCLSHiddenStatesTrain, 'fineTunedCLSHiddenStatesTrain_qqp.pt')\n",
    "fineTunedCLSHiddenStatesTrain.shape"
   ]
  },
  {
   "cell_type": "code",
   "execution_count": 28,
   "id": "b57d2185",
   "metadata": {},
   "outputs": [
    {
     "data": {
      "text/plain": [
       "torch.Size([1821, 768])"
      ]
     },
     "execution_count": 28,
     "metadata": {},
     "output_type": "execute_result"
    }
   ],
   "source": [
    "hiddenStates = getCLSHiddenStates(preTrainedModel, test_dataloader)\n",
    "preTrainedCLSHiddenStatesTest = hiddenStates\n",
    "#torch.save(preTrainedCLSHiddenStatesTest, 'preTrainedCLSHiddenStatesTest_sst2.pt')\n",
    "preTrainedCLSHiddenStatesTest.shape"
   ]
  },
  {
   "cell_type": "code",
   "execution_count": 29,
   "id": "b1b939bb",
   "metadata": {},
   "outputs": [
    {
     "data": {
      "text/plain": [
       "torch.Size([1821, 768])"
      ]
     },
     "execution_count": 29,
     "metadata": {},
     "output_type": "execute_result"
    }
   ],
   "source": [
    "hiddenStates = getCLSHiddenStates(fineTunedModel, test_dataloader)\n",
    "fineTunedCLSHiddenStatesTest = hiddenStates\n",
    "#torch.save(fineTunedCLSHiddenStatesTest_noNouns, 'fineTunedCLSHiddenStatesTest_sst2.pt')\n",
    "fineTunedCLSHiddenStatesTest.shape"
   ]
  },
  {
   "cell_type": "markdown",
   "id": "55af5b38",
   "metadata": {},
   "source": [
    "### Forming logistic regressions at each layer to find the layer-wise accuracy for pre-trained and fine-tuned model"
   ]
  },
  {
   "cell_type": "code",
   "execution_count": 21,
   "id": "f0432e9f",
   "metadata": {},
   "outputs": [],
   "source": [
    "sc_x = StandardScaler()\n",
    "for i in range(13):\n",
    "    xtrain = sc_x.fit_transform(preTrainedCLSHiddenStatesTrain[i])\n",
    "    xtest = sc_x.fit_transform(preTrainedCLSHiddenStatesTest[i])\n",
    "    logreg = LogisticRegression(max_iter=1000)\n",
    "    logreg.fit(xtrain, dataset['train']['label']) \n",
    "    \n",
    "    preTrain_pred=logreg.predict(xtest)\n",
    "    filename = 'p{0}/SST-2.tsv'.format(i)\n",
    "    result = pd.DataFrame(preTrain_pred, columns=['prediction'])\n",
    "    result.insert(0, 'index', range(0, len(result)))\n",
    "    result.to_csv(filename, sep='\\t', index=False)\n",
    "    \n",
    "    \n",
    "    xtrain = sc_x.fit_transform(fineTunedCLSHiddenStatesTrain[i]) \n",
    "    xtest = sc_x.fit_transform(fineTunedCLSHiddenStatesTest[i])\n",
    "    logreg = LogisticRegression(max_iter=1000)\n",
    "    logreg.fit(xtrain, dataset['train']['label'])\n",
    "    \n",
    "    fineTuned_pred=logreg.predict(xtest)\n",
    "    filename = 'f{0}/SST-2.tsv'.format(i)\n",
    "    result = pd.DataFrame(fineTuned_pred, columns=['prediction'])\n",
    "    result.insert(0, 'index', range(0, len(result)))\n",
    "    result.to_csv(filename, sep='\\t', index=False)"
   ]
  },
  {
   "cell_type": "markdown",
   "id": "70ee631c",
   "metadata": {},
   "source": [
    "### Finding the accuracy of the final layer using the classifier of the fine-tuned model"
   ]
  },
  {
   "cell_type": "code",
   "execution_count": 22,
   "id": "48eed55a",
   "metadata": {},
   "outputs": [],
   "source": [
    "params = list(fineTunedModel.named_parameters())\n",
    "dense = torch.nn.Linear(768, 768,device=device, bias = True)\n",
    "activation = torch.nn.Tanh()\n",
    "dropout = torch.nn.Dropout(p=0.1)\n",
    "classifier = torch.nn.Linear(in_features=768, out_features=2,  bias = True)\n",
    "with torch.no_grad():\n",
    "    dense.weight = params[-4][1]\n",
    "    dense.bias = params[-3][1]\n",
    "    classifier.weight = params[-2][1]\n",
    "    classifier.bias = params[-1][1]\n",
    "\n",
    "pooled_output = activation(dense(fineTunedCLSHiddenStatesTest[-1,:,:].to('cuda:0')))\n",
    "dropout_op = dropout(pooled_output)\n",
    "logits = classifier(dropout_op)\n",
    "predictions = torch.argmax(logits, dim = 1)"
   ]
  },
  {
   "cell_type": "code",
   "execution_count": 23,
   "id": "bdd5b8f8",
   "metadata": {},
   "outputs": [],
   "source": [
    "predictions = predictions.to('cpu')\n",
    "filename = 'SST-2.tsv'\n",
    "result = pd.DataFrame(predictions, columns=['prediction'])\n",
    "result.insert(0, 'index', range(0, len(result)))\n",
    "result.to_csv(filename, sep='\\t', index=False)"
   ]
  },
  {
   "cell_type": "code",
   "execution_count": null,
   "id": "8facb3c4",
   "metadata": {},
   "outputs": [],
   "source": []
  },
  {
   "cell_type": "markdown",
   "id": "2d714566",
   "metadata": {},
   "source": [
    "### Obtaining hidden states to find the CKA metric between the pre-trained and fine-tuned model on test dataset"
   ]
  },
  {
   "cell_type": "code",
   "execution_count": 24,
   "id": "00aabcba",
   "metadata": {},
   "outputs": [],
   "source": [
    "def getHiddenStates(model, prediction_dataloader):\n",
    "    model.eval()\n",
    "    totalHiddenStates = [0]*13\n",
    "    flag = True\n",
    "    for batch in prediction_dataloader:\n",
    "        # Add batch to GPU\n",
    "        batch = tuple(t.to(device) for t in batch)\n",
    "  \n",
    "        # Unpack the inputs from our dataloader\n",
    "        b_input_ids, b_token_type_ids, b_input_mask, b_labels = batch\n",
    "  \n",
    "        with torch.no_grad():\n",
    "            result = model(b_input_ids,\n",
    "                           token_type_ids=None,\n",
    "                           attention_mask=b_input_mask,\n",
    "                           output_hidden_states = True,\n",
    "                           return_dict=True)\n",
    "            \n",
    "        hidden_states = result.hidden_states\n",
    "        if flag == True:\n",
    "            for i in range(len(hidden_states)):\n",
    "                totalHiddenStates[i] = hidden_states[i].to(\"cpu\").mean(dim = 1)\n",
    "            flag = False\n",
    "        else:\n",
    "            for i in range(len(hidden_states)):\n",
    "                temp = hidden_states[i].to(\"cpu\").mean(dim = 1)\n",
    "                totalHiddenStates[i] = torch.cat((totalHiddenStates[i], temp), 0)   \n",
    "    return totalHiddenStates     "
   ]
  },
  {
   "cell_type": "code",
   "execution_count": 25,
   "id": "455892b6",
   "metadata": {},
   "outputs": [
    {
     "data": {
      "text/plain": [
       "torch.Size([13, 1821, 768])"
      ]
     },
     "execution_count": 25,
     "metadata": {},
     "output_type": "execute_result"
    }
   ],
   "source": [
    "hiddenStates = getHiddenStates(preTrainedModel, test_dataloader)\n",
    "preTrainedHiddenStates = torch.stack(hiddenStates, dim = 0)\n",
    "#torch.save(preTrainedHiddenStates, 'preTrainedHiddenStates_sst2.pt')\n",
    "preTrainedHiddenStates.shape"
   ]
  },
  {
   "cell_type": "code",
   "execution_count": 26,
   "id": "45813bfc",
   "metadata": {},
   "outputs": [
    {
     "data": {
      "text/plain": [
       "torch.Size([13, 1821, 768])"
      ]
     },
     "execution_count": 26,
     "metadata": {},
     "output_type": "execute_result"
    }
   ],
   "source": [
    "hiddenStates = getHiddenStates(fineTunedModel, test_dataloader)\n",
    "fineTunedHiddenStates = torch.stack(hiddenStates, dim = 0)\n",
    "#torch.save(fineTunedHiddenStates, 'fineTunedHiddenStates_sst2.pt')\n",
    "fineTunedHiddenStates.shape"
   ]
  },
  {
   "cell_type": "code",
   "execution_count": 27,
   "id": "34e1923f",
   "metadata": {},
   "outputs": [],
   "source": [
    "from CKA import CKA, CudaCKA\n",
    "cuda_cka = CudaCKA(device)"
   ]
  },
  {
   "cell_type": "code",
   "execution_count": 28,
   "id": "e4b0ef48",
   "metadata": {},
   "outputs": [],
   "source": [
    "cka_matrix = torch.empty((13, 13))\n",
    "for i in range(13):\n",
    "    for j in range(13):\n",
    "        X = preTrainedHiddenStates[i].to(device)\n",
    "        Y = fineTunedHiddenStates[j].to(device)\n",
    "        cka_matrix[i][j] = cuda_cka.linear_CKA(X, Y)\n",
    "#torch.save(cka_matrix, 'sst2-ckaMatrix.pt')\n",
    "cka_matrix = cka_matrix.numpy()"
   ]
  },
  {
   "cell_type": "code",
   "execution_count": null,
   "id": "18d26018",
   "metadata": {
    "scrolled": false
   },
   "outputs": [],
   "source": [
    "import matplotlib.pyplot as plt\n",
    "import numpy as np\n",
    "\n",
    "\n",
    "\n",
    "fig, ax = plt.subplots(figsize=(10, 8))\n",
    "im = ax.imshow(cka_matrix, cmap=\"inferno\", vmin=0.0, vmax=1.0)\n",
    "\n",
    "plt.xticks(np.arange(0,13), fontsize = 14)\n",
    "plt.yticks(np.arange(0,13), fontsize = 14)\n",
    "\n",
    "cka_matrix = np.round(cka_matrix, 2)\n",
    "for x in range(13):\n",
    "    for y in range(13):\n",
    "        plt.annotate(str(cka_matrix[x][y]), xy=(y, x), horizontalalignment='center', verticalalignment='center', fontsize=13)\n",
    "\n",
    "plt.ylabel('Pre-trained BERT', fontsize = 17)\n",
    "plt.xlabel('Fine-tuned BERT', fontsize = 17)\n",
    "\n",
    "#fig.colorbar(im)\n",
    "\n",
    "plt.tight_layout()\n",
    "\n",
    "plt.show()\n",
    "\n",
    "#plt.savefig('SST-2_preTrained_fineTuned.pdf',  bbox_inches='tight')\n",
    "#plt.savefig('SST-2_preTrained_fineTuned.jpg',  bbox_inches='tight')"
   ]
  },
  {
   "cell_type": "code",
   "execution_count": null,
   "id": "ee566e3c",
   "metadata": {},
   "outputs": [],
   "source": []
  },
  {
   "cell_type": "markdown",
   "id": "b98ced51",
   "metadata": {},
   "source": [
    "### STIR"
   ]
  },
  {
   "cell_type": "code",
   "execution_count": 3,
   "id": "4bf074e0",
   "metadata": {},
   "outputs": [
    {
     "name": "stdout",
     "output_type": "stream",
     "text": [
      "torch.Size([13, 1821, 768]) torch.Size([13, 1821, 768])\n"
     ]
    }
   ],
   "source": [
    "preTrainedHiddenStates = torch.load('./preTrainedHiddenStates_sst2.pt').to(device)\n",
    "fineTunedHiddenStates  = torch.load('./fineTunedHiddenStates_sst2.pt').to(device)\n",
    "print(preTrainedHiddenStates.shape,fineTunedHiddenStates.shape)"
   ]
  },
  {
   "cell_type": "code",
   "execution_count": 4,
   "id": "ea71269f",
   "metadata": {
    "scrolled": true
   },
   "outputs": [],
   "source": [
    "distinm1 = []\n",
    "distinm2 = []\n",
    "for i in range(13):\n",
    "    distinm1.append(torch.cdist(preTrainedHiddenStates[i], preTrainedHiddenStates[i]))\n",
    "    distinm2.append(torch.cdist(fineTunedHiddenStates[i], fineTunedHiddenStates[i]))"
   ]
  },
  {
   "cell_type": "code",
   "execution_count": 5,
   "id": "33af4b74",
   "metadata": {},
   "outputs": [],
   "source": [
    "for i in range(13):\n",
    "    for j in range(distinm1[0].shape[0]):\n",
    "        distinm1[i][j][j] = 100000.0\n",
    "        distinm2[i][j][j] = 100000.0"
   ]
  },
  {
   "cell_type": "code",
   "execution_count": 6,
   "id": "a4f1d8fb",
   "metadata": {},
   "outputs": [],
   "source": [
    "num_rows = preTrainedHiddenStates.shape[1]\n",
    "minDistIndForm1 = []\n",
    "for i in range(13):\n",
    "    temp = []\n",
    "    for j in range(num_rows):\n",
    "        temp.append(torch.argmin(distinm1[i][j]))\n",
    "    minDistIndForm1.append(temp)\n",
    "    \n",
    "minDistIndForm2 = []\n",
    "for i in range(13):\n",
    "    temp = []\n",
    "    for j in range(num_rows):\n",
    "        temp.append(torch.argmin(distinm2[i][j]))\n",
    "    minDistIndForm2.append(temp)"
   ]
  },
  {
   "cell_type": "code",
   "execution_count": 7,
   "id": "9c4ba400",
   "metadata": {},
   "outputs": [],
   "source": [
    "from CKA import CKA, CudaCKA\n",
    "cuda_cka = CudaCKA(device)"
   ]
  },
  {
   "cell_type": "code",
   "execution_count": 10,
   "id": "8eeb44d5",
   "metadata": {},
   "outputs": [],
   "source": [
    "import random\n",
    "def calculate(noOfSamples, noOfTimes):\n",
    "    STIRm2m1 = []\n",
    "    STIRm1m2 = []\n",
    "    CKA = []\n",
    "    for i in range(13):\n",
    "        stirm2m1 = 0\n",
    "        stirm1m2 = 0\n",
    "        cka = 0\n",
    "        for j in range(noOfTimes):\n",
    "            num_list = random.sample(range(0, num_rows), noOfSamples)\n",
    "            X = []\n",
    "            X_ = []\n",
    "            Y = []\n",
    "            Y_ = []\n",
    "            for k in range(len(num_list)):\n",
    "                X.append(fineTunedHiddenStates[i][num_list[k]])\n",
    "                X_.append(fineTunedHiddenStates[i][minDistIndForm1[i][num_list[k]]])\n",
    "                Y.append(preTrainedHiddenStates[i][num_list[k]])\n",
    "                Y_.append(preTrainedHiddenStates[i][minDistIndForm2[i][num_list[k]]])\n",
    "                \n",
    "            X = torch.stack(X, dim = 0)\n",
    "            X_ = torch.stack(X_, dim = 0)\n",
    "            Y = torch.stack(Y, dim = 0)\n",
    "            Y_ = torch.stack(Y_, dim = 0)\n",
    "            \n",
    "            stirm2m1 = stirm2m1 + cuda_cka.linear_CKA(X, X_)\n",
    "            stirm1m2 = stirm1m2 + cuda_cka.linear_CKA(Y, Y_)\n",
    "            cka = cka + cuda_cka.linear_CKA(Y, X)\n",
    "        \n",
    "        STIRm2m1.append(stirm2m1/noOfTimes)\n",
    "        STIRm1m2.append(stirm1m2/noOfTimes)\n",
    "        CKA.append(cka/noOfTimes)\n",
    "    return STIRm2m1, STIRm1m2, CKA"
   ]
  },
  {
   "cell_type": "code",
   "execution_count": 11,
   "id": "2e9c35a9",
   "metadata": {},
   "outputs": [],
   "source": [
    "STIRm2m1, STIRm1m2, CKA = calculate(num_rows//2, 20)"
   ]
  },
  {
   "cell_type": "code",
   "execution_count": 12,
   "id": "02848bf7",
   "metadata": {},
   "outputs": [],
   "source": [
    "STIRm2m1 = torch.stack(STIRm2m1, dim = 0)\n",
    "STIRm1m2 = torch.stack(STIRm1m2,dim = 0)\n",
    "CKA = torch.stack(CKA, dim = 0)"
   ]
  },
  {
   "cell_type": "code",
   "execution_count": 13,
   "id": "a1db5a05",
   "metadata": {},
   "outputs": [],
   "source": [
    "STIRm2m1 = STIRm2m1.to(\"cpu\")\n",
    "STIRm2m1 = STIRm2m1.numpy()\n",
    "STIRm1m2 = STIRm1m2.to(\"cpu\")\n",
    "STIRm1m2 = STIRm1m2.numpy()\n",
    "CKA = CKA .to(\"cpu\")\n",
    "CKA = CKA .numpy()"
   ]
  },
  {
   "cell_type": "code",
   "execution_count": 14,
   "id": "df1507d7",
   "metadata": {},
   "outputs": [
    {
     "name": "stdout",
     "output_type": "stream",
     "text": [
      "STIRm2m1: [0.99338883 0.975769   0.9307553  0.9191861  0.89499635 0.8257434\n",
      " 0.7566971  0.68214387 0.5824626  0.36684075 0.28045017 0.24026899\n",
      " 0.24635683]\n",
      "STIRm1m2: [0.99335617 0.97374135 0.929573   0.916683   0.88047427 0.7792632\n",
      " 0.7221131  0.6934799  0.6211273  0.54723984 0.4351077  0.39416084\n",
      " 0.31508932]\n",
      "CKA: [0.99999875 0.9987583  0.9917032  0.9903614  0.97698706 0.9328828\n",
      " 0.9046883  0.8712171  0.8088601  0.4858152  0.24788252 0.20091882\n",
      " 0.1536989 ]\n"
     ]
    }
   ],
   "source": [
    "print('STIRm2m1:', STIRm2m1)\n",
    "print('STIRm1m2:', STIRm1m2)\n",
    "print('CKA:', CKA)"
   ]
  },
  {
   "cell_type": "code",
   "execution_count": 11,
   "id": "87f25638",
   "metadata": {},
   "outputs": [
    {
     "data": {
      "image/png": "[encoded data removed]",
      "text/plain": [
       "<Figure size 1000x800 with 1 Axes>"
      ]
     },
     "metadata": {},
     "output_type": "display_data"
    }
   ],
   "source": [
    "import numpy as np\n",
    "import matplotlib.pyplot as plt\n",
    "\n",
    "xs = np.arange(13)\n",
    "plt.rcParams[\"figure.figsize\"] = [10,8]\n",
    "\n",
    "series = np.array(STIRm2m1)\n",
    "smask = np.isfinite(series)\n",
    "plt.plot(xs[smask], series[smask], linestyle='-', marker='s', markersize=10, color='green')\n",
    "\n",
    "series = np.array(STIRm1m2)\n",
    "smask = np.isfinite(series)\n",
    "plt.plot(xs[smask], series[smask], linestyle='-', marker='o', markersize=10, color='blue')\n",
    "\n",
    "series = np.array(CKA)\n",
    "smask = np.isfinite(series)\n",
    "plt.plot(xs[smask], series[smask], linestyle='-', marker='p', markersize=10, color='red')\n",
    "\n",
    "plt.legend(['STIR(Fine-tuned|Pre-trained)', 'STIR(Pre-trained|Fine-tuned)', 'CKA(Pre-trained, Fine-tuned)'], fontsize=18)\n",
    "plt.xlabel('Layer Depth', fontsize = 19, fontweight = 'bold')\n",
    "plt.ylabel('CKA/STIR', fontsize = 19, fontweight ='bold')\n",
    "\n",
    "plt.grid(True)\n",
    "plt.xticks(fontsize=17)\n",
    "plt.yticks(fontsize=17)\n",
    "#plt.tight_layout()\n",
    "#plt.show()\n",
    "plt.savefig('SST2 STIR.pdf', bbox_inches='tight')\n",
    "plt.savefig('SST2 STIR.jpg', bbox_inches='tight')"
   ]
  },
  {
   "cell_type": "code",
   "execution_count": null,
   "id": "07a51b9f",
   "metadata": {},
   "outputs": [],
   "source": []
  }
 ],
 "metadata": {
  "kernelspec": {
   "display_name": "Python 3 (ipykernel)",
   "language": "python",
   "name": "python3"
  },
  "language_info": {
   "codemirror_mode": {
    "name": "ipython",
    "version": 3
   },
   "file_extension": ".py",
   "mimetype": "text/x-python",
   "name": "python",
   "nbconvert_exporter": "python",
   "pygments_lexer": "ipython3",
   "version": "3.9.13"
  }
 },
 "nbformat": 4,
 "nbformat_minor": 5
}
