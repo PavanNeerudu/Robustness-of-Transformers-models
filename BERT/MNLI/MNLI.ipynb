{
 "cells": [
  {
   "cell_type": "markdown",
   "id": "cbea5371",
   "metadata": {},
   "source": [
    "### MNLI task is to classify relationships between pairs of sentences as contradication, entailment or neutral."
   ]
  },
  {
   "cell_type": "markdown",
   "id": "ddf28fdf",
   "metadata": {},
   "source": [
    "### Importing the required libraries"
   ]
  },
  {
   "cell_type": "code",
   "execution_count": null,
   "id": "6700e71b",
   "metadata": {},
   "outputs": [],
   "source": [
    "import pickle\n",
    "import torch\n",
    "import numpy as np\n",
    "import pandas as pd\n",
    "from datasets import load_dataset\n",
    "from torch.utils.data import TensorDataset, random_split\n",
    "from torch.utils.data import DataLoader, RandomSampler, SequentialSampler\n",
    "from transformers import AutoTokenizer\n",
    "from transformers import AutoModelForSequenceClassification\n",
    "from sklearn.preprocessing import StandardScaler\n",
    "from sklearn.linear_model import LogisticRegression\n",
    "import matplotlib.pyplot as plt"
   ]
  },
  {
   "cell_type": "markdown",
   "id": "87ae124d",
   "metadata": {},
   "source": [
    "### Checking if gpu is available"
   ]
  },
  {
   "cell_type": "code",
   "execution_count": 1,
   "id": "5f88d053",
   "metadata": {},
   "outputs": [
    {
     "name": "stdout",
     "output_type": "stream",
     "text": [
      "There are 1 GPU(s) available.\n",
      "We will use the GPU: NVIDIA RTX A4000\n"
     ]
    }
   ],
   "source": [
    "import torch\n",
    "\n",
    "if torch.cuda.is_available():       \n",
    "    device = torch.device(\"cuda\")\n",
    "    print('There are %d GPU(s) available.' % torch.cuda.device_count())\n",
    "    print('We will use the GPU:', torch.cuda.get_device_name(0))\n",
    "else:\n",
    "    print('No GPU available, using the CPU instead.')\n",
    "    device = torch.device(\"cpu\")"
   ]
  },
  {
   "cell_type": "markdown",
   "id": "a5ffdceb",
   "metadata": {},
   "source": [
    "### Loading the dataset"
   ]
  },
  {
   "cell_type": "code",
   "execution_count": 2,
   "id": "718d1161",
   "metadata": {},
   "outputs": [
    {
     "name": "stderr",
     "output_type": "stream",
     "text": [
      "Found cached dataset glue (C:/Users/NIT/.cache/huggingface/datasets/glue/mnli/1.0.0/dacbe3125aa31d7f70367a07a8a9e72a5a0bfeb5fc42e75c9db75b96da6053ad)\n"
     ]
    },
    {
     "data": {
      "application/vnd.jupyter.widget-view+json": {
       "model_id": "990194c1618a44e3b8c7a95df1569a18",
       "version_major": 2,
       "version_minor": 0
      },
      "text/plain": [
       "  0%|          | 0/5 [00:00<?, ?it/s]"
      ]
     },
     "metadata": {},
     "output_type": "display_data"
    },
    {
     "data": {
      "text/plain": [
       "DatasetDict({\n",
       "    train: Dataset({\n",
       "        features: ['premise', 'hypothesis', 'label', 'idx'],\n",
       "        num_rows: 392702\n",
       "    })\n",
       "    validation_matched: Dataset({\n",
       "        features: ['premise', 'hypothesis', 'label', 'idx'],\n",
       "        num_rows: 9815\n",
       "    })\n",
       "    validation_mismatched: Dataset({\n",
       "        features: ['premise', 'hypothesis', 'label', 'idx'],\n",
       "        num_rows: 9832\n",
       "    })\n",
       "    test_matched: Dataset({\n",
       "        features: ['premise', 'hypothesis', 'label', 'idx'],\n",
       "        num_rows: 9796\n",
       "    })\n",
       "    test_mismatched: Dataset({\n",
       "        features: ['premise', 'hypothesis', 'label', 'idx'],\n",
       "        num_rows: 9847\n",
       "    })\n",
       "})"
      ]
     },
     "execution_count": 2,
     "metadata": {},
     "output_type": "execute_result"
    }
   ],
   "source": [
    "from datasets import load_dataset\n",
    "dataset = load_dataset('glue', 'mnli')\n",
    "dataset"
   ]
  },
  {
   "cell_type": "markdown",
   "id": "77d7406b",
   "metadata": {},
   "source": [
    "### Using the tokenizer from huggingface"
   ]
  },
  {
   "cell_type": "code",
   "execution_count": 4,
   "id": "bed31e45",
   "metadata": {},
   "outputs": [],
   "source": [
    "from transformers import AutoTokenizer\n",
    "\n",
    "tokenizer = AutoTokenizer.from_pretrained(\"gchhablani/bert-base-cased-finetuned-mnli\")"
   ]
  },
  {
   "cell_type": "markdown",
   "id": "c17549e3",
   "metadata": {},
   "source": [
    "### Loading the pre-trained and fine-tuned models from huggingface and moving them to device"
   ]
  },
  {
   "cell_type": "code",
   "execution_count": 7,
   "id": "eb5abdb7",
   "metadata": {
    "collapsed": true
   },
   "outputs": [
    {
     "name": "stderr",
     "output_type": "stream",
     "text": [
      "Some weights of the model checkpoint at bert-base-cased were not used when initializing BertForSequenceClassification: ['cls.predictions.transform.LayerNorm.weight', 'cls.seq_relationship.bias', 'cls.predictions.transform.dense.bias', 'cls.predictions.transform.LayerNorm.bias', 'cls.predictions.transform.dense.weight', 'cls.predictions.decoder.weight', 'cls.predictions.bias', 'cls.seq_relationship.weight']\n",
      "- This IS expected if you are initializing BertForSequenceClassification from the checkpoint of a model trained on another task or with another architecture (e.g. initializing a BertForSequenceClassification model from a BertForPreTraining model).\n",
      "- This IS NOT expected if you are initializing BertForSequenceClassification from the checkpoint of a model that you expect to be exactly identical (initializing a BertForSequenceClassification model from a BertForSequenceClassification model).\n",
      "Some weights of BertForSequenceClassification were not initialized from the model checkpoint at bert-base-cased and are newly initialized: ['classifier.weight', 'classifier.bias']\n",
      "You should probably TRAIN this model on a down-stream task to be able to use it for predictions and inference.\n"
     ]
    },
    {
     "data": {
      "text/plain": [
       "BertForSequenceClassification(\n",
       "  (bert): BertModel(\n",
       "    (embeddings): BertEmbeddings(\n",
       "      (word_embeddings): Embedding(28996, 768, padding_idx=0)\n",
       "      (position_embeddings): Embedding(512, 768)\n",
       "      (token_type_embeddings): Embedding(2, 768)\n",
       "      (LayerNorm): LayerNorm((768,), eps=1e-12, elementwise_affine=True)\n",
       "      (dropout): Dropout(p=0.1, inplace=False)\n",
       "    )\n",
       "    (encoder): BertEncoder(\n",
       "      (layer): ModuleList(\n",
       "        (0): BertLayer(\n",
       "          (attention): BertAttention(\n",
       "            (self): BertSelfAttention(\n",
       "              (query): Linear(in_features=768, out_features=768, bias=True)\n",
       "              (key): Linear(in_features=768, out_features=768, bias=True)\n",
       "              (value): Linear(in_features=768, out_features=768, bias=True)\n",
       "              (dropout): Dropout(p=0.1, inplace=False)\n",
       "            )\n",
       "            (output): BertSelfOutput(\n",
       "              (dense): Linear(in_features=768, out_features=768, bias=True)\n",
       "              (LayerNorm): LayerNorm((768,), eps=1e-12, elementwise_affine=True)\n",
       "              (dropout): Dropout(p=0.1, inplace=False)\n",
       "            )\n",
       "          )\n",
       "          (intermediate): BertIntermediate(\n",
       "            (dense): Linear(in_features=768, out_features=3072, bias=True)\n",
       "            (intermediate_act_fn): GELUActivation()\n",
       "          )\n",
       "          (output): BertOutput(\n",
       "            (dense): Linear(in_features=3072, out_features=768, bias=True)\n",
       "            (LayerNorm): LayerNorm((768,), eps=1e-12, elementwise_affine=True)\n",
       "            (dropout): Dropout(p=0.1, inplace=False)\n",
       "          )\n",
       "        )\n",
       "        (1): BertLayer(\n",
       "          (attention): BertAttention(\n",
       "            (self): BertSelfAttention(\n",
       "              (query): Linear(in_features=768, out_features=768, bias=True)\n",
       "              (key): Linear(in_features=768, out_features=768, bias=True)\n",
       "              (value): Linear(in_features=768, out_features=768, bias=True)\n",
       "              (dropout): Dropout(p=0.1, inplace=False)\n",
       "            )\n",
       "            (output): BertSelfOutput(\n",
       "              (dense): Linear(in_features=768, out_features=768, bias=True)\n",
       "              (LayerNorm): LayerNorm((768,), eps=1e-12, elementwise_affine=True)\n",
       "              (dropout): Dropout(p=0.1, inplace=False)\n",
       "            )\n",
       "          )\n",
       "          (intermediate): BertIntermediate(\n",
       "            (dense): Linear(in_features=768, out_features=3072, bias=True)\n",
       "            (intermediate_act_fn): GELUActivation()\n",
       "          )\n",
       "          (output): BertOutput(\n",
       "            (dense): Linear(in_features=3072, out_features=768, bias=True)\n",
       "            (LayerNorm): LayerNorm((768,), eps=1e-12, elementwise_affine=True)\n",
       "            (dropout): Dropout(p=0.1, inplace=False)\n",
       "          )\n",
       "        )\n",
       "        (2): BertLayer(\n",
       "          (attention): BertAttention(\n",
       "            (self): BertSelfAttention(\n",
       "              (query): Linear(in_features=768, out_features=768, bias=True)\n",
       "              (key): Linear(in_features=768, out_features=768, bias=True)\n",
       "              (value): Linear(in_features=768, out_features=768, bias=True)\n",
       "              (dropout): Dropout(p=0.1, inplace=False)\n",
       "            )\n",
       "            (output): BertSelfOutput(\n",
       "              (dense): Linear(in_features=768, out_features=768, bias=True)\n",
       "              (LayerNorm): LayerNorm((768,), eps=1e-12, elementwise_affine=True)\n",
       "              (dropout): Dropout(p=0.1, inplace=False)\n",
       "            )\n",
       "          )\n",
       "          (intermediate): BertIntermediate(\n",
       "            (dense): Linear(in_features=768, out_features=3072, bias=True)\n",
       "            (intermediate_act_fn): GELUActivation()\n",
       "          )\n",
       "          (output): BertOutput(\n",
       "            (dense): Linear(in_features=3072, out_features=768, bias=True)\n",
       "            (LayerNorm): LayerNorm((768,), eps=1e-12, elementwise_affine=True)\n",
       "            (dropout): Dropout(p=0.1, inplace=False)\n",
       "          )\n",
       "        )\n",
       "        (3): BertLayer(\n",
       "          (attention): BertAttention(\n",
       "            (self): BertSelfAttention(\n",
       "              (query): Linear(in_features=768, out_features=768, bias=True)\n",
       "              (key): Linear(in_features=768, out_features=768, bias=True)\n",
       "              (value): Linear(in_features=768, out_features=768, bias=True)\n",
       "              (dropout): Dropout(p=0.1, inplace=False)\n",
       "            )\n",
       "            (output): BertSelfOutput(\n",
       "              (dense): Linear(in_features=768, out_features=768, bias=True)\n",
       "              (LayerNorm): LayerNorm((768,), eps=1e-12, elementwise_affine=True)\n",
       "              (dropout): Dropout(p=0.1, inplace=False)\n",
       "            )\n",
       "          )\n",
       "          (intermediate): BertIntermediate(\n",
       "            (dense): Linear(in_features=768, out_features=3072, bias=True)\n",
       "            (intermediate_act_fn): GELUActivation()\n",
       "          )\n",
       "          (output): BertOutput(\n",
       "            (dense): Linear(in_features=3072, out_features=768, bias=True)\n",
       "            (LayerNorm): LayerNorm((768,), eps=1e-12, elementwise_affine=True)\n",
       "            (dropout): Dropout(p=0.1, inplace=False)\n",
       "          )\n",
       "        )\n",
       "        (4): BertLayer(\n",
       "          (attention): BertAttention(\n",
       "            (self): BertSelfAttention(\n",
       "              (query): Linear(in_features=768, out_features=768, bias=True)\n",
       "              (key): Linear(in_features=768, out_features=768, bias=True)\n",
       "              (value): Linear(in_features=768, out_features=768, bias=True)\n",
       "              (dropout): Dropout(p=0.1, inplace=False)\n",
       "            )\n",
       "            (output): BertSelfOutput(\n",
       "              (dense): Linear(in_features=768, out_features=768, bias=True)\n",
       "              (LayerNorm): LayerNorm((768,), eps=1e-12, elementwise_affine=True)\n",
       "              (dropout): Dropout(p=0.1, inplace=False)\n",
       "            )\n",
       "          )\n",
       "          (intermediate): BertIntermediate(\n",
       "            (dense): Linear(in_features=768, out_features=3072, bias=True)\n",
       "            (intermediate_act_fn): GELUActivation()\n",
       "          )\n",
       "          (output): BertOutput(\n",
       "            (dense): Linear(in_features=3072, out_features=768, bias=True)\n",
       "            (LayerNorm): LayerNorm((768,), eps=1e-12, elementwise_affine=True)\n",
       "            (dropout): Dropout(p=0.1, inplace=False)\n",
       "          )\n",
       "        )\n",
       "        (5): BertLayer(\n",
       "          (attention): BertAttention(\n",
       "            (self): BertSelfAttention(\n",
       "              (query): Linear(in_features=768, out_features=768, bias=True)\n",
       "              (key): Linear(in_features=768, out_features=768, bias=True)\n",
       "              (value): Linear(in_features=768, out_features=768, bias=True)\n",
       "              (dropout): Dropout(p=0.1, inplace=False)\n",
       "            )\n",
       "            (output): BertSelfOutput(\n",
       "              (dense): Linear(in_features=768, out_features=768, bias=True)\n",
       "              (LayerNorm): LayerNorm((768,), eps=1e-12, elementwise_affine=True)\n",
       "              (dropout): Dropout(p=0.1, inplace=False)\n",
       "            )\n",
       "          )\n",
       "          (intermediate): BertIntermediate(\n",
       "            (dense): Linear(in_features=768, out_features=3072, bias=True)\n",
       "            (intermediate_act_fn): GELUActivation()\n",
       "          )\n",
       "          (output): BertOutput(\n",
       "            (dense): Linear(in_features=3072, out_features=768, bias=True)\n",
       "            (LayerNorm): LayerNorm((768,), eps=1e-12, elementwise_affine=True)\n",
       "            (dropout): Dropout(p=0.1, inplace=False)\n",
       "          )\n",
       "        )\n",
       "        (6): BertLayer(\n",
       "          (attention): BertAttention(\n",
       "            (self): BertSelfAttention(\n",
       "              (query): Linear(in_features=768, out_features=768, bias=True)\n",
       "              (key): Linear(in_features=768, out_features=768, bias=True)\n",
       "              (value): Linear(in_features=768, out_features=768, bias=True)\n",
       "              (dropout): Dropout(p=0.1, inplace=False)\n",
       "            )\n",
       "            (output): BertSelfOutput(\n",
       "              (dense): Linear(in_features=768, out_features=768, bias=True)\n",
       "              (LayerNorm): LayerNorm((768,), eps=1e-12, elementwise_affine=True)\n",
       "              (dropout): Dropout(p=0.1, inplace=False)\n",
       "            )\n",
       "          )\n",
       "          (intermediate): BertIntermediate(\n",
       "            (dense): Linear(in_features=768, out_features=3072, bias=True)\n",
       "            (intermediate_act_fn): GELUActivation()\n",
       "          )\n",
       "          (output): BertOutput(\n",
       "            (dense): Linear(in_features=3072, out_features=768, bias=True)\n",
       "            (LayerNorm): LayerNorm((768,), eps=1e-12, elementwise_affine=True)\n",
       "            (dropout): Dropout(p=0.1, inplace=False)\n",
       "          )\n",
       "        )\n",
       "        (7): BertLayer(\n",
       "          (attention): BertAttention(\n",
       "            (self): BertSelfAttention(\n",
       "              (query): Linear(in_features=768, out_features=768, bias=True)\n",
       "              (key): Linear(in_features=768, out_features=768, bias=True)\n",
       "              (value): Linear(in_features=768, out_features=768, bias=True)\n",
       "              (dropout): Dropout(p=0.1, inplace=False)\n",
       "            )\n",
       "            (output): BertSelfOutput(\n",
       "              (dense): Linear(in_features=768, out_features=768, bias=True)\n",
       "              (LayerNorm): LayerNorm((768,), eps=1e-12, elementwise_affine=True)\n",
       "              (dropout): Dropout(p=0.1, inplace=False)\n",
       "            )\n",
       "          )\n",
       "          (intermediate): BertIntermediate(\n",
       "            (dense): Linear(in_features=768, out_features=3072, bias=True)\n",
       "            (intermediate_act_fn): GELUActivation()\n",
       "          )\n",
       "          (output): BertOutput(\n",
       "            (dense): Linear(in_features=3072, out_features=768, bias=True)\n",
       "            (LayerNorm): LayerNorm((768,), eps=1e-12, elementwise_affine=True)\n",
       "            (dropout): Dropout(p=0.1, inplace=False)\n",
       "          )\n",
       "        )\n",
       "        (8): BertLayer(\n",
       "          (attention): BertAttention(\n",
       "            (self): BertSelfAttention(\n",
       "              (query): Linear(in_features=768, out_features=768, bias=True)\n",
       "              (key): Linear(in_features=768, out_features=768, bias=True)\n",
       "              (value): Linear(in_features=768, out_features=768, bias=True)\n",
       "              (dropout): Dropout(p=0.1, inplace=False)\n",
       "            )\n",
       "            (output): BertSelfOutput(\n",
       "              (dense): Linear(in_features=768, out_features=768, bias=True)\n",
       "              (LayerNorm): LayerNorm((768,), eps=1e-12, elementwise_affine=True)\n",
       "              (dropout): Dropout(p=0.1, inplace=False)\n",
       "            )\n",
       "          )\n",
       "          (intermediate): BertIntermediate(\n",
       "            (dense): Linear(in_features=768, out_features=3072, bias=True)\n",
       "            (intermediate_act_fn): GELUActivation()\n",
       "          )\n",
       "          (output): BertOutput(\n",
       "            (dense): Linear(in_features=3072, out_features=768, bias=True)\n",
       "            (LayerNorm): LayerNorm((768,), eps=1e-12, elementwise_affine=True)\n",
       "            (dropout): Dropout(p=0.1, inplace=False)\n",
       "          )\n",
       "        )\n",
       "        (9): BertLayer(\n",
       "          (attention): BertAttention(\n",
       "            (self): BertSelfAttention(\n",
       "              (query): Linear(in_features=768, out_features=768, bias=True)\n",
       "              (key): Linear(in_features=768, out_features=768, bias=True)\n",
       "              (value): Linear(in_features=768, out_features=768, bias=True)\n",
       "              (dropout): Dropout(p=0.1, inplace=False)\n",
       "            )\n",
       "            (output): BertSelfOutput(\n",
       "              (dense): Linear(in_features=768, out_features=768, bias=True)\n",
       "              (LayerNorm): LayerNorm((768,), eps=1e-12, elementwise_affine=True)\n",
       "              (dropout): Dropout(p=0.1, inplace=False)\n",
       "            )\n",
       "          )\n",
       "          (intermediate): BertIntermediate(\n",
       "            (dense): Linear(in_features=768, out_features=3072, bias=True)\n",
       "            (intermediate_act_fn): GELUActivation()\n",
       "          )\n",
       "          (output): BertOutput(\n",
       "            (dense): Linear(in_features=3072, out_features=768, bias=True)\n",
       "            (LayerNorm): LayerNorm((768,), eps=1e-12, elementwise_affine=True)\n",
       "            (dropout): Dropout(p=0.1, inplace=False)\n",
       "          )\n",
       "        )\n",
       "        (10): BertLayer(\n",
       "          (attention): BertAttention(\n",
       "            (self): BertSelfAttention(\n",
       "              (query): Linear(in_features=768, out_features=768, bias=True)\n",
       "              (key): Linear(in_features=768, out_features=768, bias=True)\n",
       "              (value): Linear(in_features=768, out_features=768, bias=True)\n",
       "              (dropout): Dropout(p=0.1, inplace=False)\n",
       "            )\n",
       "            (output): BertSelfOutput(\n",
       "              (dense): Linear(in_features=768, out_features=768, bias=True)\n",
       "              (LayerNorm): LayerNorm((768,), eps=1e-12, elementwise_affine=True)\n",
       "              (dropout): Dropout(p=0.1, inplace=False)\n",
       "            )\n",
       "          )\n",
       "          (intermediate): BertIntermediate(\n",
       "            (dense): Linear(in_features=768, out_features=3072, bias=True)\n",
       "            (intermediate_act_fn): GELUActivation()\n",
       "          )\n",
       "          (output): BertOutput(\n",
       "            (dense): Linear(in_features=3072, out_features=768, bias=True)\n",
       "            (LayerNorm): LayerNorm((768,), eps=1e-12, elementwise_affine=True)\n",
       "            (dropout): Dropout(p=0.1, inplace=False)\n",
       "          )\n",
       "        )\n",
       "        (11): BertLayer(\n",
       "          (attention): BertAttention(\n",
       "            (self): BertSelfAttention(\n",
       "              (query): Linear(in_features=768, out_features=768, bias=True)\n",
       "              (key): Linear(in_features=768, out_features=768, bias=True)\n",
       "              (value): Linear(in_features=768, out_features=768, bias=True)\n",
       "              (dropout): Dropout(p=0.1, inplace=False)\n",
       "            )\n",
       "            (output): BertSelfOutput(\n",
       "              (dense): Linear(in_features=768, out_features=768, bias=True)\n",
       "              (LayerNorm): LayerNorm((768,), eps=1e-12, elementwise_affine=True)\n",
       "              (dropout): Dropout(p=0.1, inplace=False)\n",
       "            )\n",
       "          )\n",
       "          (intermediate): BertIntermediate(\n",
       "            (dense): Linear(in_features=768, out_features=3072, bias=True)\n",
       "            (intermediate_act_fn): GELUActivation()\n",
       "          )\n",
       "          (output): BertOutput(\n",
       "            (dense): Linear(in_features=3072, out_features=768, bias=True)\n",
       "            (LayerNorm): LayerNorm((768,), eps=1e-12, elementwise_affine=True)\n",
       "            (dropout): Dropout(p=0.1, inplace=False)\n",
       "          )\n",
       "        )\n",
       "      )\n",
       "    )\n",
       "    (pooler): BertPooler(\n",
       "      (dense): Linear(in_features=768, out_features=768, bias=True)\n",
       "      (activation): Tanh()\n",
       "    )\n",
       "  )\n",
       "  (dropout): Dropout(p=0.1, inplace=False)\n",
       "  (classifier): Linear(in_features=768, out_features=3, bias=True)\n",
       ")"
      ]
     },
     "execution_count": 7,
     "metadata": {},
     "output_type": "execute_result"
    }
   ],
   "source": [
    "preTrainedModel = AutoModelForSequenceClassification.from_pretrained(\"bert-base-cased\",\n",
    "                                                      num_labels = 3,\n",
    "                                                      output_attentions = True,\n",
    "                                                      output_hidden_states = True,)\n",
    "preTrainedModel.cuda()"
   ]
  },
  {
   "cell_type": "code",
   "execution_count": 6,
   "id": "74989858",
   "metadata": {
    "collapsed": true
   },
   "outputs": [
    {
     "data": {
      "text/plain": [
       "BertForSequenceClassification(\n",
       "  (bert): BertModel(\n",
       "    (embeddings): BertEmbeddings(\n",
       "      (word_embeddings): Embedding(28996, 768, padding_idx=0)\n",
       "      (position_embeddings): Embedding(512, 768)\n",
       "      (token_type_embeddings): Embedding(2, 768)\n",
       "      (LayerNorm): LayerNorm((768,), eps=1e-12, elementwise_affine=True)\n",
       "      (dropout): Dropout(p=0.1, inplace=False)\n",
       "    )\n",
       "    (encoder): BertEncoder(\n",
       "      (layer): ModuleList(\n",
       "        (0): BertLayer(\n",
       "          (attention): BertAttention(\n",
       "            (self): BertSelfAttention(\n",
       "              (query): Linear(in_features=768, out_features=768, bias=True)\n",
       "              (key): Linear(in_features=768, out_features=768, bias=True)\n",
       "              (value): Linear(in_features=768, out_features=768, bias=True)\n",
       "              (dropout): Dropout(p=0.1, inplace=False)\n",
       "            )\n",
       "            (output): BertSelfOutput(\n",
       "              (dense): Linear(in_features=768, out_features=768, bias=True)\n",
       "              (LayerNorm): LayerNorm((768,), eps=1e-12, elementwise_affine=True)\n",
       "              (dropout): Dropout(p=0.1, inplace=False)\n",
       "            )\n",
       "          )\n",
       "          (intermediate): BertIntermediate(\n",
       "            (dense): Linear(in_features=768, out_features=3072, bias=True)\n",
       "            (intermediate_act_fn): GELUActivation()\n",
       "          )\n",
       "          (output): BertOutput(\n",
       "            (dense): Linear(in_features=3072, out_features=768, bias=True)\n",
       "            (LayerNorm): LayerNorm((768,), eps=1e-12, elementwise_affine=True)\n",
       "            (dropout): Dropout(p=0.1, inplace=False)\n",
       "          )\n",
       "        )\n",
       "        (1): BertLayer(\n",
       "          (attention): BertAttention(\n",
       "            (self): BertSelfAttention(\n",
       "              (query): Linear(in_features=768, out_features=768, bias=True)\n",
       "              (key): Linear(in_features=768, out_features=768, bias=True)\n",
       "              (value): Linear(in_features=768, out_features=768, bias=True)\n",
       "              (dropout): Dropout(p=0.1, inplace=False)\n",
       "            )\n",
       "            (output): BertSelfOutput(\n",
       "              (dense): Linear(in_features=768, out_features=768, bias=True)\n",
       "              (LayerNorm): LayerNorm((768,), eps=1e-12, elementwise_affine=True)\n",
       "              (dropout): Dropout(p=0.1, inplace=False)\n",
       "            )\n",
       "          )\n",
       "          (intermediate): BertIntermediate(\n",
       "            (dense): Linear(in_features=768, out_features=3072, bias=True)\n",
       "            (intermediate_act_fn): GELUActivation()\n",
       "          )\n",
       "          (output): BertOutput(\n",
       "            (dense): Linear(in_features=3072, out_features=768, bias=True)\n",
       "            (LayerNorm): LayerNorm((768,), eps=1e-12, elementwise_affine=True)\n",
       "            (dropout): Dropout(p=0.1, inplace=False)\n",
       "          )\n",
       "        )\n",
       "        (2): BertLayer(\n",
       "          (attention): BertAttention(\n",
       "            (self): BertSelfAttention(\n",
       "              (query): Linear(in_features=768, out_features=768, bias=True)\n",
       "              (key): Linear(in_features=768, out_features=768, bias=True)\n",
       "              (value): Linear(in_features=768, out_features=768, bias=True)\n",
       "              (dropout): Dropout(p=0.1, inplace=False)\n",
       "            )\n",
       "            (output): BertSelfOutput(\n",
       "              (dense): Linear(in_features=768, out_features=768, bias=True)\n",
       "              (LayerNorm): LayerNorm((768,), eps=1e-12, elementwise_affine=True)\n",
       "              (dropout): Dropout(p=0.1, inplace=False)\n",
       "            )\n",
       "          )\n",
       "          (intermediate): BertIntermediate(\n",
       "            (dense): Linear(in_features=768, out_features=3072, bias=True)\n",
       "            (intermediate_act_fn): GELUActivation()\n",
       "          )\n",
       "          (output): BertOutput(\n",
       "            (dense): Linear(in_features=3072, out_features=768, bias=True)\n",
       "            (LayerNorm): LayerNorm((768,), eps=1e-12, elementwise_affine=True)\n",
       "            (dropout): Dropout(p=0.1, inplace=False)\n",
       "          )\n",
       "        )\n",
       "        (3): BertLayer(\n",
       "          (attention): BertAttention(\n",
       "            (self): BertSelfAttention(\n",
       "              (query): Linear(in_features=768, out_features=768, bias=True)\n",
       "              (key): Linear(in_features=768, out_features=768, bias=True)\n",
       "              (value): Linear(in_features=768, out_features=768, bias=True)\n",
       "              (dropout): Dropout(p=0.1, inplace=False)\n",
       "            )\n",
       "            (output): BertSelfOutput(\n",
       "              (dense): Linear(in_features=768, out_features=768, bias=True)\n",
       "              (LayerNorm): LayerNorm((768,), eps=1e-12, elementwise_affine=True)\n",
       "              (dropout): Dropout(p=0.1, inplace=False)\n",
       "            )\n",
       "          )\n",
       "          (intermediate): BertIntermediate(\n",
       "            (dense): Linear(in_features=768, out_features=3072, bias=True)\n",
       "            (intermediate_act_fn): GELUActivation()\n",
       "          )\n",
       "          (output): BertOutput(\n",
       "            (dense): Linear(in_features=3072, out_features=768, bias=True)\n",
       "            (LayerNorm): LayerNorm((768,), eps=1e-12, elementwise_affine=True)\n",
       "            (dropout): Dropout(p=0.1, inplace=False)\n",
       "          )\n",
       "        )\n",
       "        (4): BertLayer(\n",
       "          (attention): BertAttention(\n",
       "            (self): BertSelfAttention(\n",
       "              (query): Linear(in_features=768, out_features=768, bias=True)\n",
       "              (key): Linear(in_features=768, out_features=768, bias=True)\n",
       "              (value): Linear(in_features=768, out_features=768, bias=True)\n",
       "              (dropout): Dropout(p=0.1, inplace=False)\n",
       "            )\n",
       "            (output): BertSelfOutput(\n",
       "              (dense): Linear(in_features=768, out_features=768, bias=True)\n",
       "              (LayerNorm): LayerNorm((768,), eps=1e-12, elementwise_affine=True)\n",
       "              (dropout): Dropout(p=0.1, inplace=False)\n",
       "            )\n",
       "          )\n",
       "          (intermediate): BertIntermediate(\n",
       "            (dense): Linear(in_features=768, out_features=3072, bias=True)\n",
       "            (intermediate_act_fn): GELUActivation()\n",
       "          )\n",
       "          (output): BertOutput(\n",
       "            (dense): Linear(in_features=3072, out_features=768, bias=True)\n",
       "            (LayerNorm): LayerNorm((768,), eps=1e-12, elementwise_affine=True)\n",
       "            (dropout): Dropout(p=0.1, inplace=False)\n",
       "          )\n",
       "        )\n",
       "        (5): BertLayer(\n",
       "          (attention): BertAttention(\n",
       "            (self): BertSelfAttention(\n",
       "              (query): Linear(in_features=768, out_features=768, bias=True)\n",
       "              (key): Linear(in_features=768, out_features=768, bias=True)\n",
       "              (value): Linear(in_features=768, out_features=768, bias=True)\n",
       "              (dropout): Dropout(p=0.1, inplace=False)\n",
       "            )\n",
       "            (output): BertSelfOutput(\n",
       "              (dense): Linear(in_features=768, out_features=768, bias=True)\n",
       "              (LayerNorm): LayerNorm((768,), eps=1e-12, elementwise_affine=True)\n",
       "              (dropout): Dropout(p=0.1, inplace=False)\n",
       "            )\n",
       "          )\n",
       "          (intermediate): BertIntermediate(\n",
       "            (dense): Linear(in_features=768, out_features=3072, bias=True)\n",
       "            (intermediate_act_fn): GELUActivation()\n",
       "          )\n",
       "          (output): BertOutput(\n",
       "            (dense): Linear(in_features=3072, out_features=768, bias=True)\n",
       "            (LayerNorm): LayerNorm((768,), eps=1e-12, elementwise_affine=True)\n",
       "            (dropout): Dropout(p=0.1, inplace=False)\n",
       "          )\n",
       "        )\n",
       "        (6): BertLayer(\n",
       "          (attention): BertAttention(\n",
       "            (self): BertSelfAttention(\n",
       "              (query): Linear(in_features=768, out_features=768, bias=True)\n",
       "              (key): Linear(in_features=768, out_features=768, bias=True)\n",
       "              (value): Linear(in_features=768, out_features=768, bias=True)\n",
       "              (dropout): Dropout(p=0.1, inplace=False)\n",
       "            )\n",
       "            (output): BertSelfOutput(\n",
       "              (dense): Linear(in_features=768, out_features=768, bias=True)\n",
       "              (LayerNorm): LayerNorm((768,), eps=1e-12, elementwise_affine=True)\n",
       "              (dropout): Dropout(p=0.1, inplace=False)\n",
       "            )\n",
       "          )\n",
       "          (intermediate): BertIntermediate(\n",
       "            (dense): Linear(in_features=768, out_features=3072, bias=True)\n",
       "            (intermediate_act_fn): GELUActivation()\n",
       "          )\n",
       "          (output): BertOutput(\n",
       "            (dense): Linear(in_features=3072, out_features=768, bias=True)\n",
       "            (LayerNorm): LayerNorm((768,), eps=1e-12, elementwise_affine=True)\n",
       "            (dropout): Dropout(p=0.1, inplace=False)\n",
       "          )\n",
       "        )\n",
       "        (7): BertLayer(\n",
       "          (attention): BertAttention(\n",
       "            (self): BertSelfAttention(\n",
       "              (query): Linear(in_features=768, out_features=768, bias=True)\n",
       "              (key): Linear(in_features=768, out_features=768, bias=True)\n",
       "              (value): Linear(in_features=768, out_features=768, bias=True)\n",
       "              (dropout): Dropout(p=0.1, inplace=False)\n",
       "            )\n",
       "            (output): BertSelfOutput(\n",
       "              (dense): Linear(in_features=768, out_features=768, bias=True)\n",
       "              (LayerNorm): LayerNorm((768,), eps=1e-12, elementwise_affine=True)\n",
       "              (dropout): Dropout(p=0.1, inplace=False)\n",
       "            )\n",
       "          )\n",
       "          (intermediate): BertIntermediate(\n",
       "            (dense): Linear(in_features=768, out_features=3072, bias=True)\n",
       "            (intermediate_act_fn): GELUActivation()\n",
       "          )\n",
       "          (output): BertOutput(\n",
       "            (dense): Linear(in_features=3072, out_features=768, bias=True)\n",
       "            (LayerNorm): LayerNorm((768,), eps=1e-12, elementwise_affine=True)\n",
       "            (dropout): Dropout(p=0.1, inplace=False)\n",
       "          )\n",
       "        )\n",
       "        (8): BertLayer(\n",
       "          (attention): BertAttention(\n",
       "            (self): BertSelfAttention(\n",
       "              (query): Linear(in_features=768, out_features=768, bias=True)\n",
       "              (key): Linear(in_features=768, out_features=768, bias=True)\n",
       "              (value): Linear(in_features=768, out_features=768, bias=True)\n",
       "              (dropout): Dropout(p=0.1, inplace=False)\n",
       "            )\n",
       "            (output): BertSelfOutput(\n",
       "              (dense): Linear(in_features=768, out_features=768, bias=True)\n",
       "              (LayerNorm): LayerNorm((768,), eps=1e-12, elementwise_affine=True)\n",
       "              (dropout): Dropout(p=0.1, inplace=False)\n",
       "            )\n",
       "          )\n",
       "          (intermediate): BertIntermediate(\n",
       "            (dense): Linear(in_features=768, out_features=3072, bias=True)\n",
       "            (intermediate_act_fn): GELUActivation()\n",
       "          )\n",
       "          (output): BertOutput(\n",
       "            (dense): Linear(in_features=3072, out_features=768, bias=True)\n",
       "            (LayerNorm): LayerNorm((768,), eps=1e-12, elementwise_affine=True)\n",
       "            (dropout): Dropout(p=0.1, inplace=False)\n",
       "          )\n",
       "        )\n",
       "        (9): BertLayer(\n",
       "          (attention): BertAttention(\n",
       "            (self): BertSelfAttention(\n",
       "              (query): Linear(in_features=768, out_features=768, bias=True)\n",
       "              (key): Linear(in_features=768, out_features=768, bias=True)\n",
       "              (value): Linear(in_features=768, out_features=768, bias=True)\n",
       "              (dropout): Dropout(p=0.1, inplace=False)\n",
       "            )\n",
       "            (output): BertSelfOutput(\n",
       "              (dense): Linear(in_features=768, out_features=768, bias=True)\n",
       "              (LayerNorm): LayerNorm((768,), eps=1e-12, elementwise_affine=True)\n",
       "              (dropout): Dropout(p=0.1, inplace=False)\n",
       "            )\n",
       "          )\n",
       "          (intermediate): BertIntermediate(\n",
       "            (dense): Linear(in_features=768, out_features=3072, bias=True)\n",
       "            (intermediate_act_fn): GELUActivation()\n",
       "          )\n",
       "          (output): BertOutput(\n",
       "            (dense): Linear(in_features=3072, out_features=768, bias=True)\n",
       "            (LayerNorm): LayerNorm((768,), eps=1e-12, elementwise_affine=True)\n",
       "            (dropout): Dropout(p=0.1, inplace=False)\n",
       "          )\n",
       "        )\n",
       "        (10): BertLayer(\n",
       "          (attention): BertAttention(\n",
       "            (self): BertSelfAttention(\n",
       "              (query): Linear(in_features=768, out_features=768, bias=True)\n",
       "              (key): Linear(in_features=768, out_features=768, bias=True)\n",
       "              (value): Linear(in_features=768, out_features=768, bias=True)\n",
       "              (dropout): Dropout(p=0.1, inplace=False)\n",
       "            )\n",
       "            (output): BertSelfOutput(\n",
       "              (dense): Linear(in_features=768, out_features=768, bias=True)\n",
       "              (LayerNorm): LayerNorm((768,), eps=1e-12, elementwise_affine=True)\n",
       "              (dropout): Dropout(p=0.1, inplace=False)\n",
       "            )\n",
       "          )\n",
       "          (intermediate): BertIntermediate(\n",
       "            (dense): Linear(in_features=768, out_features=3072, bias=True)\n",
       "            (intermediate_act_fn): GELUActivation()\n",
       "          )\n",
       "          (output): BertOutput(\n",
       "            (dense): Linear(in_features=3072, out_features=768, bias=True)\n",
       "            (LayerNorm): LayerNorm((768,), eps=1e-12, elementwise_affine=True)\n",
       "            (dropout): Dropout(p=0.1, inplace=False)\n",
       "          )\n",
       "        )\n",
       "        (11): BertLayer(\n",
       "          (attention): BertAttention(\n",
       "            (self): BertSelfAttention(\n",
       "              (query): Linear(in_features=768, out_features=768, bias=True)\n",
       "              (key): Linear(in_features=768, out_features=768, bias=True)\n",
       "              (value): Linear(in_features=768, out_features=768, bias=True)\n",
       "              (dropout): Dropout(p=0.1, inplace=False)\n",
       "            )\n",
       "            (output): BertSelfOutput(\n",
       "              (dense): Linear(in_features=768, out_features=768, bias=True)\n",
       "              (LayerNorm): LayerNorm((768,), eps=1e-12, elementwise_affine=True)\n",
       "              (dropout): Dropout(p=0.1, inplace=False)\n",
       "            )\n",
       "          )\n",
       "          (intermediate): BertIntermediate(\n",
       "            (dense): Linear(in_features=768, out_features=3072, bias=True)\n",
       "            (intermediate_act_fn): GELUActivation()\n",
       "          )\n",
       "          (output): BertOutput(\n",
       "            (dense): Linear(in_features=3072, out_features=768, bias=True)\n",
       "            (LayerNorm): LayerNorm((768,), eps=1e-12, elementwise_affine=True)\n",
       "            (dropout): Dropout(p=0.1, inplace=False)\n",
       "          )\n",
       "        )\n",
       "      )\n",
       "    )\n",
       "    (pooler): BertPooler(\n",
       "      (dense): Linear(in_features=768, out_features=768, bias=True)\n",
       "      (activation): Tanh()\n",
       "    )\n",
       "  )\n",
       "  (dropout): Dropout(p=0.1, inplace=False)\n",
       "  (classifier): Linear(in_features=768, out_features=3, bias=True)\n",
       ")"
      ]
     },
     "execution_count": 6,
     "metadata": {},
     "output_type": "execute_result"
    }
   ],
   "source": [
    "from transformers import AutoModelForSequenceClassification\n",
    "fineTunedModel = AutoModelForSequenceClassification.from_pretrained(\"gchhablani/bert-base-cased-finetuned-mnli\")\n",
    "fineTunedModel.cuda()"
   ]
  },
  {
   "cell_type": "code",
   "execution_count": null,
   "id": "3769e8c1",
   "metadata": {},
   "outputs": [],
   "source": [
    "train_premise = dataset['train']['premise']\n",
    "train_hypothesis = dataset['train']['hypothesis']"
   ]
  },
  {
   "cell_type": "code",
   "execution_count": 8,
   "id": "cffa00bf",
   "metadata": {},
   "outputs": [],
   "source": [
    "def getCLSHiddenStates(model, prediction_dataloader):\n",
    "    model.eval()\n",
    "    totalHiddenStates = [0]*13\n",
    "    flag = True\n",
    "    for batch in prediction_dataloader:\n",
    "        batch = tuple(t.to(device) for t in batch)\n",
    "  \n",
    "        # Unpack the inputs from our dataloader\n",
    "        b_input_ids, b_token_type_ids, b_input_mask, b_labels = batch\n",
    "  \n",
    "        with torch.no_grad():\n",
    "            result = model(b_input_ids,\n",
    "                           token_type_ids=b_token_type_ids,\n",
    "                           attention_mask=b_input_mask,\n",
    "                           output_hidden_states = True,\n",
    "                           return_dict=True)\n",
    "            \n",
    "        hidden_states = result.hidden_states\n",
    "        if flag == True:\n",
    "            for i in range(len(hidden_states)):\n",
    "                totalHiddenStates[i] = hidden_states[i][:,0,:].to(\"cpu\")\n",
    "            flag = False\n",
    "        else:\n",
    "            for i in range(len(hidden_states)):\n",
    "                temp = hidden_states[i][:,0,:].to(\"cpu\")\n",
    "                totalHiddenStates[i] = torch.cat((totalHiddenStates[i], temp), 0)\n",
    "    return totalHiddenStates     "
   ]
  },
  {
   "cell_type": "code",
   "execution_count": null,
   "id": "8b80a0b0",
   "metadata": {
    "scrolled": true
   },
   "outputs": [],
   "source": [
    "num_rows = dataset['train'].num_rows\n",
    "hiddenStates = [0]*13\n",
    "flag = True\n",
    "for i in range(0, num_rows//10000 +1):\n",
    "    print(i)\n",
    "    st = i*10000\n",
    "    if(i==num_rows//10000):\n",
    "        end = num_rows\n",
    "    else:\n",
    "        end = (i+1)*10000\n",
    "    tokenised_dataset = tokenizer(train_premise[st:end], \n",
    "                                  train_hypothesis[st:end], truncation = True, padding=True, return_tensors='pt')\n",
    "    input_ids = tokenised_dataset['input_ids']\n",
    "    token_type_ids = tokenised_dataset['token_type_ids']\n",
    "    attention_masks = tokenised_dataset['attention_mask']\n",
    "    labels = torch.tensor(dataset['train']['label'][st:end])\n",
    "  \n",
    "    \n",
    "    batch_size = 16 \n",
    "    train_data = TensorDataset(input_ids, token_type_ids, attention_masks, labels)\n",
    "    train_sampler = SequentialSampler(train_data)\n",
    "    train_dataloader = DataLoader(train_data, sampler=train_sampler, batch_size=batch_size)\n",
    "    \n",
    "    hS = getCLSHiddenStates(preTrainedModel, train_dataloader)\n",
    "    if flag==True:\n",
    "        for j in range(13):\n",
    "            hiddenStates[j] = hS[j]\n",
    "        flag = False\n",
    "    else:\n",
    "        for j in range(13):\n",
    "            hiddenStates[j] = torch.cat((hiddenStates[j], hS[j]), dim = 0)\n",
    "\n",
    "preTrainedCLSHiddenStatesTrain = torch.stack(hiddenStates, dim = 0)\n",
    "#torch.save(preTrainedCLSHiddenStatesTrain, 'preTrainedCLSHiddenStatesTrain_mnli.pt')\n",
    "preTrainedCLSHiddenStatesTrain.shape"
   ]
  },
  {
   "cell_type": "code",
   "execution_count": null,
   "id": "513a3707",
   "metadata": {
    "scrolled": true
   },
   "outputs": [],
   "source": [
    "num_rows = dataset['train'].num_rows\n",
    "hiddenStates = [0]*13\n",
    "flag = True\n",
    "for i in range(0, num_rows//10000 +1):\n",
    "    print(i)\n",
    "    st = i*10000\n",
    "    if(i==num_rows//10000):\n",
    "        end = num_rows\n",
    "    else:\n",
    "        end = (i+1)*10000\n",
    "    tokenised_dataset = tokenizer(train_premise[st:end], \n",
    "                                  train_hypothesis[st:end], truncation = True, padding=True, return_tensors='pt')\n",
    "    input_ids = tokenised_dataset['input_ids']\n",
    "    token_type_ids = tokenised_dataset['token_type_ids']\n",
    "    attention_masks = tokenised_dataset['attention_mask']\n",
    "    labels = torch.tensor(dataset['train']['label'][st:end])\n",
    "  \n",
    "    \n",
    "    batch_size = 16 \n",
    "    train_data = TensorDataset(input_ids, token_type_ids, attention_masks, labels)\n",
    "    train_sampler = SequentialSampler(train_data)\n",
    "    train_dataloader = DataLoader(train_data, sampler=train_sampler, batch_size=batch_size)\n",
    "    \n",
    "    hS = getCLSHiddenStates(fineTunedModel, train_dataloader)\n",
    "    if flag==True:\n",
    "        for j in range(13):\n",
    "            hiddenStates[j] = hS[j]\n",
    "        flag = False\n",
    "    else:\n",
    "        for j in range(13):\n",
    "            hiddenStates[j] = torch.cat((hiddenStates[j], hS[j]), dim = 0)\n",
    "\n",
    "fineTunedCLSHiddenStatesTrain = torch.stack(hiddenStates, dim = 0)\n",
    "#torch.save(preTrainedCLSHiddenStatesTrain, 'preTrainedCLSHiddenStatesTrain_mnli.pt')\n",
    "fineTunedCLSHiddenStatesTrain.shape"
   ]
  },
  {
   "cell_type": "markdown",
   "id": "50b7057f",
   "metadata": {},
   "source": [
    "### Forming dataloaders"
   ]
  },
  {
   "cell_type": "code",
   "execution_count": 14,
   "id": "3a2246f9",
   "metadata": {},
   "outputs": [],
   "source": [
    "tokenised_dataset = tokenizer(dataset['test_matched']['premise'], dataset['test_matched']['hypothesis'], truncation = True, padding=True, return_tensors='pt')\n",
    "input_ids = tokenised_dataset['input_ids']\n",
    "token_type_ids = tokenised_dataset['token_type_ids']\n",
    "attention_masks = tokenised_dataset['attention_mask']\n",
    "labels = torch.tensor(dataset['test_matched']['label'])\n",
    "\n",
    "# Set the batch size.  \n",
    "batch_size = 16 \n",
    "\n",
    "# Create the DataLoader.\n",
    "test_data1 = TensorDataset(input_ids, token_type_ids, attention_masks, labels)\n",
    "test_sampler1 = SequentialSampler(test_data1)\n",
    "test_dataloader1 = DataLoader(test_data1, sampler=test_sampler1, batch_size=batch_size)"
   ]
  },
  {
   "cell_type": "code",
   "execution_count": 15,
   "id": "278141cb",
   "metadata": {},
   "outputs": [],
   "source": [
    "tokenised_dataset = tokenizer(dataset['test_mismatched']['premise'], dataset['test_mismatched']['hypothesis'], truncation=True, padding=True, return_tensors='pt')\n",
    "input_ids = tokenised_dataset['input_ids']\n",
    "token_type_ids = tokenised_dataset['token_type_ids']\n",
    "attention_masks = tokenised_dataset['attention_mask']\n",
    "labels = torch.tensor(dataset['test_mismatched']['label'])\n",
    "\n",
    "# Set the batch size.  \n",
    "batch_size = 16 \n",
    "\n",
    "# Create the DataLoader.\n",
    "test_data2 = TensorDataset(input_ids, token_type_ids, attention_masks, labels)\n",
    "test_sampler2 = SequentialSampler(test_data2)\n",
    "test_dataloader2 = DataLoader(test_data2, sampler=test_sampler2, batch_size=batch_size)"
   ]
  },
  {
   "cell_type": "code",
   "execution_count": 16,
   "id": "70f67234",
   "metadata": {},
   "outputs": [
    {
     "name": "stderr",
     "output_type": "stream",
     "text": [
      "Found cached dataset glue (C:/Users/NIT/.cache/huggingface/datasets/glue/ax/1.0.0/dacbe3125aa31d7f70367a07a8a9e72a5a0bfeb5fc42e75c9db75b96da6053ad)\n"
     ]
    },
    {
     "data": {
      "application/vnd.jupyter.widget-view+json": {
       "model_id": "bc26225aa01946d38837054f2eb6cb6f",
       "version_major": 2,
       "version_minor": 0
      },
      "text/plain": [
       "  0%|          | 0/1 [00:00<?, ?it/s]"
      ]
     },
     "metadata": {},
     "output_type": "display_data"
    },
    {
     "data": {
      "text/plain": [
       "DatasetDict({\n",
       "    test: Dataset({\n",
       "        features: ['premise', 'hypothesis', 'label', 'idx'],\n",
       "        num_rows: 1104\n",
       "    })\n",
       "})"
      ]
     },
     "execution_count": 16,
     "metadata": {},
     "output_type": "execute_result"
    }
   ],
   "source": [
    "dataset2 = load_dataset('glue', 'ax')\n",
    "dataset2"
   ]
  },
  {
   "cell_type": "code",
   "execution_count": null,
   "id": "36633835",
   "metadata": {},
   "outputs": [],
   "source": [
    "testax_premise = dataset2['test']['premise']\n",
    "testax_hypothesis = dataset2['test']['hypothesis']"
   ]
  },
  {
   "cell_type": "code",
   "execution_count": 18,
   "id": "a1891b50",
   "metadata": {},
   "outputs": [],
   "source": [
    "tokenised_dataset = tokenizer(testax_premise, testax_hypothesis, truncation = True,  padding=True, return_tensors='pt')\n",
    "input_ids = tokenised_dataset['input_ids']\n",
    "token_type_ids = tokenised_dataset['token_type_ids']\n",
    "attention_masks = tokenised_dataset['attention_mask']\n",
    "labels = torch.tensor(dataset2['test']['label'])\n",
    "\n",
    "# Set the batch size.  \n",
    "batch_size = 16 \n",
    "\n",
    "# Create the DataLoader.\n",
    "test_data3 = TensorDataset(input_ids, token_type_ids, attention_masks, labels)\n",
    "test_sampler3 = SequentialSampler(test_data3)\n",
    "test_dataloader3 = DataLoader(test_data3, sampler=test_sampler3, batch_size=batch_size)"
   ]
  },
  {
   "cell_type": "code",
   "execution_count": 17,
   "id": "a4b75718",
   "metadata": {},
   "outputs": [
    {
     "data": {
      "text/plain": [
       "torch.Size([9796, 768])"
      ]
     },
     "execution_count": 17,
     "metadata": {},
     "output_type": "execute_result"
    }
   ],
   "source": [
    "hiddenStates = getCLSHiddenStates(preTrainedModel, test_dataloader1)\n",
    "preTrainedCLSHiddenStatesTestm = torch.stack(hiddenStates, dim = 0)\n",
    "#torch.save(preTrainedCLSHiddenStatesTestm, 'preTrainedCLSHiddenStatesTest_mnli-m.pt')\n",
    "preTrainedCLSHiddenStatesTestm.shape"
   ]
  },
  {
   "cell_type": "code",
   "execution_count": 18,
   "id": "6cb75d15",
   "metadata": {},
   "outputs": [
    {
     "data": {
      "text/plain": [
       "torch.Size([9796, 768])"
      ]
     },
     "execution_count": 18,
     "metadata": {},
     "output_type": "execute_result"
    }
   ],
   "source": [
    "hiddenStates = getCLSHiddenStates(fineTunedModel, test_dataloader1)\n",
    "fineTunedCLSHiddenStatesTestm = torch.stack(hiddenStates, dim = 0)\n",
    "#torch.save(fineTunedCLSHiddenStatesTestm, 'fineTunedCLSHiddenStatesTest_mnli-m.pt')\n",
    "fineTunedCLSHiddenStatesTestm.shape"
   ]
  },
  {
   "cell_type": "code",
   "execution_count": 19,
   "id": "d4bc606e",
   "metadata": {},
   "outputs": [
    {
     "data": {
      "text/plain": [
       "torch.Size([9847, 768])"
      ]
     },
     "execution_count": 19,
     "metadata": {},
     "output_type": "execute_result"
    }
   ],
   "source": [
    "hiddenStates = getCLSHiddenStates(preTrainedModel, test_dataloader2)\n",
    "preTrainedCLSHiddenStatesTestmm = torch.stack(hiddenStates, dim = 0)\n",
    "#torch.save(preTrainedCLSHiddenStatesTestmm, 'preTrainedCLSHiddenStatesTest_mnli-mm.pt')\n",
    "preTrainedCLSHiddenStatesTestmm.shape"
   ]
  },
  {
   "cell_type": "code",
   "execution_count": 20,
   "id": "e7f71cf8",
   "metadata": {},
   "outputs": [
    {
     "data": {
      "text/plain": [
       "torch.Size([9847, 768])"
      ]
     },
     "execution_count": 20,
     "metadata": {},
     "output_type": "execute_result"
    }
   ],
   "source": [
    "hiddenStates = getCLSHiddenStates(fineTunedModel, test_dataloader2)\n",
    "fineTunedCLSHiddenStatesTestmm = torch.stack(hiddenStates, dim = 0)\n",
    "#torch.save(fineTunedCLSHiddenStatesTestmm, 'fineTunedCLSHiddenStatesTest_mnli-mm.pt')\n",
    "fineTunedCLSHiddenStatesTestmm.shape"
   ]
  },
  {
   "cell_type": "code",
   "execution_count": 21,
   "id": "970c15d8",
   "metadata": {},
   "outputs": [
    {
     "data": {
      "text/plain": [
       "torch.Size([1104, 768])"
      ]
     },
     "execution_count": 21,
     "metadata": {},
     "output_type": "execute_result"
    }
   ],
   "source": [
    "hiddenStates = getCLSHiddenStates(preTrainedModel, test_dataloader3)\n",
    "preTrainedCLSHiddenStatesTestax = torch.stack(hiddenStates, dim = 0)\n",
    "#torch.save(preTrainedCLSHiddenStatesTestax, 'preTrainedCLSHiddenStatesTest_mnli-ax.pt')\n",
    "preTrainedCLSHiddenStatesTestax.shape"
   ]
  },
  {
   "cell_type": "code",
   "execution_count": 22,
   "id": "70dd99ef",
   "metadata": {},
   "outputs": [
    {
     "data": {
      "text/plain": [
       "torch.Size([1104, 768])"
      ]
     },
     "execution_count": 22,
     "metadata": {},
     "output_type": "execute_result"
    }
   ],
   "source": [
    "hiddenStates = getCLSHiddenStates(fineTunedModel, test_dataloader3)\n",
    "fineTunedCLSHiddenStatesTestax = torch.stack(hiddenStates, dim = 0)\n",
    "#torch.save(fineTunedCLSHiddenStatesTestax, 'fineTunedCLSHiddenStatesTest_mnli-ax.pt')\n",
    "fineTunedCLSHiddenStatesTestax.shape"
   ]
  },
  {
   "cell_type": "code",
   "execution_count": null,
   "id": "6f9360c8",
   "metadata": {},
   "outputs": [],
   "source": []
  },
  {
   "cell_type": "code",
   "execution_count": 22,
   "id": "29ccd367",
   "metadata": {},
   "outputs": [],
   "source": [
    "def getLabels(model, data_loader):\n",
    "    predictions = []\n",
    "    for batch in data_loader:\n",
    "        batch = tuple(t.to(device) for t in batch)\n",
    "        b_input_ids, b_token_type_ids, b_input_mask, b_labels = batch\n",
    "  \n",
    "        with torch.no_grad():\n",
    "            results = model(b_input_ids, token_type_ids=b_token_type_ids, attention_mask=b_input_mask, return_dict=True)\n",
    "            logits = results.logits\n",
    "            pred = torch.argmax(logits, dim = 1)\n",
    "            pPred = []\n",
    "            for j in range(len(pred)):\n",
    "                if pred[j]==0:\n",
    "                    pPred.append('entailment')\n",
    "                elif(pred[j]==1):\n",
    "                    pPred.append('neutral')\n",
    "                else:\n",
    "                    pPred.append('contradiction')\n",
    "            predictions.extend(pPred)\n",
    "    return predictions"
   ]
  },
  {
   "cell_type": "code",
   "execution_count": 26,
   "id": "7111a52b",
   "metadata": {},
   "outputs": [],
   "source": [
    "import numpy as np\n",
    "import pandas as pd\n",
    "predictions = getLabels(fineTunedModel, test_dataloader3)\n",
    "filename = 'AX.tsv'\n",
    "result = pd.DataFrame(predictions, columns=['prediction'])\n",
    "result.insert(0, 'index', range(0, len(result)))\n",
    "result.to_csv(filename, sep='\\t', index=False)"
   ]
  },
  {
   "cell_type": "markdown",
   "id": "60a1db05",
   "metadata": {},
   "source": [
    "### Forming logistic regressions at each layer to find the layer-wise accuracy for pre-trained and fine-tuned model"
   ]
  },
  {
   "cell_type": "code",
   "execution_count": null,
   "id": "734bb9cc",
   "metadata": {
    "scrolled": true
   },
   "outputs": [],
   "source": [
    "import numpy as np\n",
    "import pandas as pd\n",
    "from sklearn.preprocessing import StandardScaler\n",
    "from sklearn.linear_model import LogisticRegression\n",
    "sc_x = StandardScaler()\n",
    "for i in range(13):\n",
    "    xtrain = sc_x.fit_transform(preTrainedCLSHiddenStatesTrain[i])\n",
    "    logreg = LogisticRegression(multi_class='multinomial', solver='lbfgs', max_iter=1000)\n",
    "    logreg.fit(xtrain, dataset['train']['label'])\n",
    "    \n",
    "    xtest = sc_x.fit_transform(preTrainedCLSHiddenStatesTestm[i])\n",
    "    preTrain_pred=logreg.predict(xtest)\n",
    "    pPred = []\n",
    "    for j in range(len(preTrain_pred)):\n",
    "        if preTrain_pred[j]==0:\n",
    "            pPred.append('entailment')\n",
    "        elif(preTrain_pred[j]==1):\n",
    "            pPred.append('neutral')\n",
    "        else:\n",
    "            pPred.append('contradiction')\n",
    "\n",
    "    filename = 'p{0}/MNLI-m.tsv'.format(i)\n",
    "    result = pd.DataFrame(pPred, columns=['prediction'])\n",
    "    result.insert(0, 'index', range(0, len(result)))\n",
    "    result.to_csv(filename, sep='\\t', index=False)\n",
    "    \n",
    "\n",
    "    \n",
    "    xtest = sc_x.fit_transform(preTrainedCLSHiddenStatesTestmm[i])\n",
    "    preTrain_pred=logreg.predict(xtest)\n",
    "    pPred = []\n",
    "    for j in range(len(preTrain_pred)):\n",
    "        if preTrain_pred[j]==0:\n",
    "            pPred.append('entailment')\n",
    "        elif(preTrain_pred[j]==1):\n",
    "            pPred.append('neutral')\n",
    "        else:\n",
    "            pPred.append('contradiction')\n",
    "    filename = 'p{0}/MNLI-mm.tsv'.format(i)\n",
    "    result = pd.DataFrame(pPred, columns=['prediction'])\n",
    "    result.insert(0, 'index', range(0, len(result)))\n",
    "    result.to_csv(filename, sep='\\t', index=False)\n",
    "    \n",
    "    \n",
    "    xtest = sc_x.fit_transform(preTrainedCLSHiddenStatesTestax[i])\n",
    "    preTrain_pred=logreg.predict(xtest)\n",
    "    pPred = []\n",
    "    for j in range(len(preTrain_pred)):\n",
    "        if preTrain_pred[j]==0:\n",
    "            pPred.append('entailment')\n",
    "        elif(preTrain_pred[j]==1):\n",
    "            pPred.append('neutral')\n",
    "        else:\n",
    "            pPred.append('contradiction')\n",
    "    filename = 'p{0}/AX.tsv'.format(i)\n",
    "    result = pd.DataFrame(pPred, columns=['prediction'])\n",
    "    result.insert(0, 'index', range(0, len(result)))\n",
    "    result.to_csv(filename, sep='\\t', index=False)"
   ]
  },
  {
   "cell_type": "code",
   "execution_count": null,
   "id": "1e8cb177",
   "metadata": {},
   "outputs": [],
   "source": [
    "for i in range(13):    \n",
    "    xtrain = sc_x.fit_transform(fineTunedCLSHiddenStatesTrain[i]) \n",
    "    logreg = LogisticRegression(multi_class='multinomial', solver='lbfgs', max_iter=1000)\n",
    "    logreg.fit(xtrain, dataset['train']['label'])\n",
    "    \n",
    "    xtest = sc_x.fit_transform(fineTunedCLSHiddenStatesTestm[i])\n",
    "    fineTune_pred=logreg.predict(xtest)\n",
    "    fPred = []\n",
    "    for j in range(len(fineTune_pred)):\n",
    "        if fineTune_pred[j]==0:\n",
    "            fPred.append('entailment')\n",
    "        elif(fineTune_pred[j]==1):\n",
    "            fPred.append('neutral')\n",
    "        else:\n",
    "            fPred.append('contradiction')\n",
    "    filename = 'f{0}/MNLI-m.tsv'.format(i)\n",
    "    result = pd.DataFrame(fPred, columns=['prediction'])\n",
    "    result.insert(0, 'index', range(0, len(result)))\n",
    "    result.to_csv(filename, sep='\\t', index=False)\n",
    "    \n",
    "    \n",
    "    xtest = sc_x.fit_transform(fineTunedCLSHiddenStatesTestmm[i])\n",
    "    fineTune_pred=logreg.predict(xtest)\n",
    "    fPred = []\n",
    "    for j in range(len(fineTune_pred)):\n",
    "        if fineTune_pred[j]==0:\n",
    "            fPred.append('entailment')\n",
    "        elif(fineTune_pred[j]==1):\n",
    "            fPred.append('neutral')\n",
    "        else:\n",
    "            fPred.append('contradiction')\n",
    "    filename = 'f{0}/MNLI-mm.tsv'.format(i)\n",
    "    result = pd.DataFrame(fPred, columns=['prediction'])\n",
    "    result.insert(0, 'index', range(0, len(result)))\n",
    "    result.to_csv(filename, sep='\\t', index=False)\n",
    "    \n",
    "    \n",
    "    xtest = sc_x.fit_transform(fineTunedCLSHiddenStatesTestax[i])\n",
    "    fineTune_pred=logreg.predict(xtest)\n",
    "    fPred = []\n",
    "    for j in range(len(fineTune_pred)):\n",
    "        if fineTune_pred[j]==0:\n",
    "            fPred.append('entailment')\n",
    "        elif(fineTune_pred[j]==1):\n",
    "            fPred.append('neutral')\n",
    "        else:\n",
    "            fPred.append('contradiction')\n",
    "    filename = 'f{0}/AX.tsv'.format(i)\n",
    "    result = pd.DataFrame(fPred, columns=['prediction'])\n",
    "    result.insert(0, 'index', range(0, len(result)))\n",
    "    result.to_csv(filename, sep='\\t', index=False)"
   ]
  },
  {
   "cell_type": "markdown",
   "id": "0ada42ea",
   "metadata": {},
   "source": [
    "### Finding the accuracy of the final layer using the classifier of the fine-tuned model"
   ]
  },
  {
   "cell_type": "code",
   "execution_count": null,
   "id": "b71f9857",
   "metadata": {},
   "outputs": [],
   "source": [
    "params = list(fineTunedModel.named_parameters())\n",
    "dense = torch.nn.Linear(768, 768,device=device, bias = True)\n",
    "activation = torch.nn.Tanh()\n",
    "dropout = torch.nn.Dropout(p=0.1)\n",
    "classifier = torch.nn.Linear(in_features=768, out_features=3,  bias = True)\n",
    "with torch.no_grad():\n",
    "    dense.weight = params[-4][1]\n",
    "    dense.bias = params[-3][1]\n",
    "    classifier.weight = params[-2][1]\n",
    "    classifier.bias = params[-1][1]"
   ]
  },
  {
   "cell_type": "code",
   "execution_count": null,
   "id": "49c014ae",
   "metadata": {},
   "outputs": [],
   "source": [
    "pooled_output = activation(dense(fineTunedCLSHiddenStatesTestm[-1].to('cuda:0')))\n",
    "dropout_op = dropout(pooled_output)\n",
    "logits = classifier(dropout_op)\n",
    "predictions = torch.argmax(logits, dim = 1)"
   ]
  },
  {
   "cell_type": "code",
   "execution_count": null,
   "id": "836d7e5f",
   "metadata": {},
   "outputs": [],
   "source": [
    "import pandas as pd\n",
    "predictions = predictions.to('cpu')\n",
    "Pred = []\n",
    "for j in range(len(predictions)):\n",
    "    if predictions[j]==0:\n",
    "        Pred.append('entailment')\n",
    "    elif(predictions[j]==1):\n",
    "        Pred.append('neutral')\n",
    "    else:\n",
    "        Pred.append('contradiction')\n",
    "\n",
    "filename = 'MNLI-m.tsv'\n",
    "result = pd.DataFrame(Pred, columns=['prediction'])\n",
    "result.insert(0, 'index', range(0, len(result)))\n",
    "result.to_csv(filename, sep='\\t', index=False)"
   ]
  },
  {
   "cell_type": "code",
   "execution_count": null,
   "id": "ca517234",
   "metadata": {},
   "outputs": [],
   "source": [
    "import pandas as pd\n",
    "predictions = predictions.to('cpu')\n",
    "Pred = []\n",
    "for j in range(len(predictions)):\n",
    "    if predictions[j]==0:\n",
    "        Pred.append('entailment')\n",
    "    elif(predictions[j]==1):\n",
    "        Pred.append('neutral')\n",
    "    else:\n",
    "        Pred.append('contradiction')\n",
    "\n",
    "filename = 'passiveAX.tsv'\n",
    "result = pd.DataFrame(Pred, columns=['prediction'])\n",
    "result.insert(0, 'index', range(0, len(result)))\n",
    "result.to_csv(filename, sep='\\t', index=False)"
   ]
  },
  {
   "cell_type": "code",
   "execution_count": null,
   "id": "a1bcbdf9",
   "metadata": {},
   "outputs": [],
   "source": []
  },
  {
   "cell_type": "markdown",
   "id": "352bd81a",
   "metadata": {},
   "source": [
    "### Obtaining hidden states to find the CKA metric between the pre-trained and fine-tuned model on test dataset"
   ]
  },
  {
   "cell_type": "code",
   "execution_count": null,
   "id": "d319f193",
   "metadata": {},
   "outputs": [],
   "source": [
    "def getHiddenStates(model, prediction_dataloader):\n",
    "    model.eval()\n",
    "    totalHiddenStates = [0]*13\n",
    "    flag = True\n",
    "    for batch in prediction_dataloader:\n",
    "        # Add batch to GPU\n",
    "        batch = tuple(t.to(device) for t in batch)\n",
    "  \n",
    "        # Unpack the inputs from our dataloader\n",
    "        b_input_ids, b_token_type_ids, b_input_mask, b_labels = batch\n",
    "  \n",
    "        with torch.no_grad():\n",
    "            result = model(b_input_ids,\n",
    "                           token_type_ids=b_token_type_ids,\n",
    "                           attention_mask=b_input_mask,\n",
    "                           output_hidden_states = True,\n",
    "                           return_dict=True)\n",
    "            \n",
    "        hidden_states = result.hidden_states\n",
    "        if flag == True:\n",
    "            for i in range(len(hidden_states)):\n",
    "                totalHiddenStates[i] = hidden_states[i].to(\"cpu\").mean(dim = 1)\n",
    "            flag = False\n",
    "        else:\n",
    "            for i in range(len(hidden_states)):\n",
    "                temp = hidden_states[i].to(\"cpu\").mean(dim = 1)\n",
    "                totalHiddenStates[i] = torch.cat((totalHiddenStates[i], temp), 0)   \n",
    "    return totalHiddenStates     "
   ]
  },
  {
   "cell_type": "code",
   "execution_count": null,
   "id": "7d8967d4",
   "metadata": {},
   "outputs": [],
   "source": [
    "hiddenStates = getHiddenStates(preTrainedModel, test_dataloader1)\n",
    "preTrainedHiddenStates_m = torch.stack(hiddenStates, dim = 0)\n",
    "#torch.save(preTrainedHiddenStates_m, 'preTrainedHiddenStates_mnli-m.pt')\n",
    "preTrainedHiddenStates_m.shape"
   ]
  },
  {
   "cell_type": "code",
   "execution_count": null,
   "id": "4b28a14f",
   "metadata": {},
   "outputs": [],
   "source": [
    "hiddenStates = getHiddenStates(fineTunedModel, test_dataloader1)\n",
    "fineTunedHiddenStates_m = torch.stack(hiddenStates, dim = 0)\n",
    "#torch.save(fineTunedHiddenStates_m, 'fineTunedHiddenStates_mnli-m.pt')\n",
    "fineTunedHiddenStates_m.shape"
   ]
  },
  {
   "cell_type": "code",
   "execution_count": null,
   "id": "f6c58459",
   "metadata": {},
   "outputs": [],
   "source": [
    "hiddenStates = getHiddenStates(preTrainedModel, test_dataloader2)\n",
    "preTrainedHiddenStates_mm = torch.stack(hiddenStates, dim = 0)\n",
    "#torch.save(preTrainedHiddenStates_mm, 'preTrainedHiddenStates_mnli-mm.pt')\n",
    "preTrainedHiddenStates_mm.shape"
   ]
  },
  {
   "cell_type": "code",
   "execution_count": null,
   "id": "940bed55",
   "metadata": {},
   "outputs": [],
   "source": [
    "hiddenStates = getHiddenStates(fineTunedModel, test_dataloader2)\n",
    "fineTunedHiddenStates_mm = torch.stack(hiddenStates, dim = 0)\n",
    "#torch.save(fineTunedHiddenStates_mm, 'fineTunedHiddenStates_mnli-mm.pt')\n",
    "fineTunedHiddenStates_mm.shape"
   ]
  },
  {
   "cell_type": "code",
   "execution_count": null,
   "id": "a7875a15",
   "metadata": {},
   "outputs": [],
   "source": [
    "hiddenStates = getHiddenStates(preTrainedModel, test_dataloader3)\n",
    "preTrainedHiddenStates_ax = torch.stack(hiddenStates, dim = 0)\n",
    "#torch.save(preTrainedHiddenStates_ax, 'preTrainedHiddenStates_mnli-ax.pt')\n",
    "preTrainedHiddenStates_ax.shape"
   ]
  },
  {
   "cell_type": "code",
   "execution_count": null,
   "id": "838fc06a",
   "metadata": {},
   "outputs": [],
   "source": [
    "hiddenStates = getHiddenStates(fineTunedModel, test_dataloader3)\n",
    "fineTunedHiddenStates_ax = torch.stack(hiddenStates, dim = 0)\n",
    "#torch.save(fineTunedHiddenStates_ax, 'fineTunedHiddenStates_mnli-ax.pt')\n",
    "fineTunedHiddenStates_ax.shape"
   ]
  },
  {
   "cell_type": "code",
   "execution_count": null,
   "id": "3bc0f889",
   "metadata": {},
   "outputs": [],
   "source": []
  },
  {
   "cell_type": "code",
   "execution_count": null,
   "id": "2706489f",
   "metadata": {},
   "outputs": [],
   "source": [
    "from CKA import CKA, CudaCKA\n",
    "cuda_cka = CudaCKA(device)"
   ]
  },
  {
   "cell_type": "code",
   "execution_count": null,
   "id": "8b0b9e7c",
   "metadata": {},
   "outputs": [],
   "source": [
    "cka_matrix = torch.empty((13, 13))\n",
    "for i in range(13):\n",
    "    for j in range(13):\n",
    "        X = preTrainedHiddenStates_m[i].to(device)\n",
    "        Y = fineTunedHiddenStates_m[j].to(device)\n",
    "        cka_matrix[i][j] = cuda_cka.linear_CKA(X, Y)\n",
    "#torch.save(cka_matrix, 'ckaMatrix.pt')\n",
    "cka_matrix = cka_matrix.numpy()"
   ]
  },
  {
   "cell_type": "code",
   "execution_count": null,
   "id": "760792dd",
   "metadata": {},
   "outputs": [],
   "source": [
    "import matplotlib.pyplot as plt\n",
    "import numpy as np\n",
    "\n",
    "fig, ax = plt.subplots(figsize=(10, 8))\n",
    "im = ax.imshow(cka_matrix, cmap=\"inferno\", vmin=0.0, vmax=1.0)\n",
    "\n",
    "plt.xticks(np.arange(0,13), fontsize = 14)\n",
    "plt.yticks(np.arange(0,13), fontsize = 14)\n",
    "\n",
    "cka_matrix = np.round(cka_matrix, 2)\n",
    "for x in range(13):\n",
    "    for y in range(13):\n",
    "        plt.annotate(str(cka_matrix[x][y]), xy=(y, x), horizontalalignment='center', verticalalignment='center', fontsize=13)\n",
    "\n",
    "plt.ylabel('Pre-trained BERT', fontsize = 17)\n",
    "plt.xlabel('Fine-tuned BERT', fontsize = 17)\n",
    "\n",
    "#fig.colorbar(im)\n",
    "\n",
    "plt.tight_layout()\n",
    "\n",
    "#plt.show()\n",
    "\n",
    "plt.savefig('MultiNLI-Matched_preTrained_fineTuned.pdf',  bbox_inches='tight')\n",
    "plt.savefig('MultiNLI-Matched_preTrained_fineTuned.jpg',  bbox_inches='tight')"
   ]
  },
  {
   "cell_type": "code",
   "execution_count": null,
   "id": "81d7bfe2",
   "metadata": {},
   "outputs": [],
   "source": [
    "cka_matrix = torch.empty((13, 13))\n",
    "for i in range(13):\n",
    "    for j in range(13):\n",
    "        X = preTrainedHiddenStates_mm[i].to(device)\n",
    "        Y = fineTunedHiddenStates_mm[j].to(device)\n",
    "        cka_matrix[i][j] = cuda_cka.linear_CKA(X, Y)\n",
    "#torch.save(cka_matrix, 'ckaMatrix.pt')\n",
    "cka_matrix = cka_matrix.numpy()"
   ]
  },
  {
   "cell_type": "code",
   "execution_count": null,
   "id": "24e08eb7",
   "metadata": {},
   "outputs": [],
   "source": [
    "import matplotlib.pyplot as plt\n",
    "import numpy as np\n",
    "\n",
    "fig, ax = plt.subplots(figsize=(10, 8))\n",
    "im = ax.imshow(cka_matrix, cmap=\"inferno\", vmin=0.0, vmax=1.0)\n",
    "\n",
    "plt.xticks(np.arange(0,13), fontsize = 14)\n",
    "plt.yticks(np.arange(0,13), fontsize = 14)\n",
    "\n",
    "cka_matrix = np.round(cka_matrix, 2)\n",
    "for x in range(13):\n",
    "    for y in range(13):\n",
    "        plt.annotate(str(cka_matrix[x][y]), xy=(y, x), horizontalalignment='center', verticalalignment='center', fontsize=13)\n",
    "\n",
    "plt.ylabel('Pre-trained BERT', fontsize = 17)\n",
    "plt.xlabel('Fine-tuned BERT', fontsize = 17)\n",
    "\n",
    "#fig.colorbar(im)\n",
    "\n",
    "plt.tight_layout()\n",
    "\n",
    "#plt.show()\n",
    "\n",
    "plt.savefig('MultiNLI-Mis-Matched_preTrained_fineTuned.pdf',  bbox_inches='tight')\n",
    "plt.savefig('MultiNLI-Mis-Matched_preTrained_fineTuned.jpg',  bbox_inches='tight')"
   ]
  },
  {
   "cell_type": "code",
   "execution_count": null,
   "id": "82a5cfc4",
   "metadata": {},
   "outputs": [],
   "source": [
    "cka_matrix = torch.empty((13, 13))\n",
    "for i in range(13):\n",
    "    for j in range(13):\n",
    "        X = preTrainedHiddenStates_ax[i].to(device)\n",
    "        Y = fineTunedHiddenStates_ax[j].to(device)\n",
    "        cka_matrix[i][j] = cuda_cka.linear_CKA(X, Y)\n",
    "#torch.save(cka_matrix, 'ckaMatrix.pt')\n",
    "cka_matrix = cka_matrix.numpy()"
   ]
  },
  {
   "cell_type": "code",
   "execution_count": null,
   "id": "47054227",
   "metadata": {},
   "outputs": [],
   "source": [
    "import matplotlib.pyplot as plt\n",
    "import numpy as np\n",
    "\n",
    "fig, ax = plt.subplots(figsize=(10, 8))\n",
    "im = ax.imshow(cka_matrix, cmap=\"inferno\", vmin=0.0, vmax=1.0)\n",
    "\n",
    "plt.xticks(np.arange(0,13), fontsize = 14)\n",
    "plt.yticks(np.arange(0,13), fontsize = 14)\n",
    "\n",
    "cka_matrix = np.round(cka_matrix, 2)\n",
    "for x in range(13):\n",
    "    for y in range(13):\n",
    "        plt.annotate(str(cka_matrix[x][y]), xy=(y, x), horizontalalignment='center', verticalalignment='center', fontsize=13)\n",
    "\n",
    "plt.ylabel('Pre-trained BERT', fontsize = 17)\n",
    "plt.xlabel('Fine-tuned BERT', fontsize = 17)\n",
    "\n",
    "#fig.colorbar(im)\n",
    "\n",
    "plt.tight_layout()\n",
    "\n",
    "#plt.show()\n",
    "\n",
    "plt.savefig('AX_preTrained_fineTuned.pdf',  bbox_inches='tight')\n",
    "plt.savefig('AX_preTrained_fineTuned.jpg',  bbox_inches='tight')"
   ]
  },
  {
   "cell_type": "code",
   "execution_count": null,
   "id": "53148a64",
   "metadata": {},
   "outputs": [],
   "source": []
  },
  {
   "cell_type": "markdown",
   "id": "2bde66d0",
   "metadata": {},
   "source": [
    "### STIR"
   ]
  },
  {
   "cell_type": "code",
   "execution_count": 19,
   "id": "c1ea2dec",
   "metadata": {},
   "outputs": [],
   "source": [
    "preTrainedHiddenStates = torch.load('./preTrainedHiddenStates_mnli-ax.pt').to(device)\n",
    "fineTunedHiddenStates  = torch.load('./fineTunedHiddenStates_mnli-ax.pt').to(device)"
   ]
  },
  {
   "cell_type": "code",
   "execution_count": 20,
   "id": "e7e35572",
   "metadata": {},
   "outputs": [
    {
     "name": "stdout",
     "output_type": "stream",
     "text": [
      "torch.Size([13, 1104, 768]) torch.Size([13, 1104, 768])\n"
     ]
    }
   ],
   "source": [
    "print(preTrainedHiddenStates.shape,fineTunedHiddenStates.shape)"
   ]
  },
  {
   "cell_type": "code",
   "execution_count": 21,
   "id": "b4478a3c",
   "metadata": {},
   "outputs": [],
   "source": [
    "distinm1 = []\n",
    "distinm2 = []\n",
    "for i in range(13):\n",
    "    distinm1.append(torch.cdist(preTrainedHiddenStates[i], preTrainedHiddenStates[i]))\n",
    "    distinm2.append(torch.cdist(fineTunedHiddenStates[i], fineTunedHiddenStates[i]))"
   ]
  },
  {
   "cell_type": "code",
   "execution_count": 22,
   "id": "2e1180f5",
   "metadata": {},
   "outputs": [],
   "source": [
    "for i in range(13):\n",
    "    for j in range(distinm1[0].shape[0]):\n",
    "        distinm1[i][j][j] = 100000.0\n",
    "        distinm2[i][j][j] = 100000.0"
   ]
  },
  {
   "cell_type": "code",
   "execution_count": 23,
   "id": "05b46b49",
   "metadata": {},
   "outputs": [],
   "source": [
    "num_rows = preTrainedHiddenStates.shape[1]\n",
    "minDistIndForm1 = []\n",
    "for i in range(13):\n",
    "    temp = []\n",
    "    for j in range(num_rows):\n",
    "        temp.append(torch.argmin(distinm1[i][j]))\n",
    "    minDistIndForm1.append(temp)\n",
    "    \n",
    "minDistIndForm2 = []\n",
    "for i in range(13):\n",
    "    temp = []\n",
    "    for j in range(num_rows):\n",
    "        temp.append(torch.argmin(distinm2[i][j]))\n",
    "    minDistIndForm2.append(temp)"
   ]
  },
  {
   "cell_type": "code",
   "execution_count": 24,
   "id": "e4de29e7",
   "metadata": {},
   "outputs": [],
   "source": [
    "from CKA import CKA, CudaCKA\n",
    "cuda_cka = CudaCKA(device)"
   ]
  },
  {
   "cell_type": "code",
   "execution_count": 25,
   "id": "6db69219",
   "metadata": {},
   "outputs": [],
   "source": [
    "import random\n",
    "def calculate(noOfSamples, noOfTimes):\n",
    "    STIRm2m1 = []\n",
    "    STIRm1m2 = []\n",
    "    CKA = []\n",
    "    for i in range(13):\n",
    "        stirm2m1 = 0\n",
    "        stirm1m2 = 0\n",
    "        cka = 0\n",
    "        for j in range(noOfTimes):\n",
    "            num_list = random.sample(range(0, num_rows), noOfSamples)\n",
    "            X = []\n",
    "            X_ = []\n",
    "            Y = []\n",
    "            Y_ = []\n",
    "            for k in range(len(num_list)):\n",
    "                X.append(fineTunedHiddenStates[i][num_list[k]])\n",
    "                X_.append(fineTunedHiddenStates[i][minDistIndForm1[i][num_list[k]]])\n",
    "                Y.append(preTrainedHiddenStates[i][num_list[k]])\n",
    "                Y_.append(preTrainedHiddenStates[i][minDistIndForm2[i][num_list[k]]])\n",
    "                \n",
    "            X = torch.stack(X, dim = 0)\n",
    "            X_ = torch.stack(X_, dim = 0)\n",
    "            Y = torch.stack(Y, dim = 0)\n",
    "            Y_ = torch.stack(Y_, dim = 0)\n",
    "            \n",
    "            stirm2m1 = stirm2m1 + cuda_cka.linear_CKA(X, X_)\n",
    "            stirm1m2 = stirm1m2 + cuda_cka.linear_CKA(Y, Y_)\n",
    "            cka = cka + cuda_cka.linear_CKA(Y, X)\n",
    "        \n",
    "        STIRm2m1.append(stirm2m1/noOfTimes)\n",
    "        STIRm1m2.append(stirm1m2/noOfTimes)\n",
    "        CKA.append(cka/noOfTimes)\n",
    "    return STIRm2m1, STIRm1m2, CKA"
   ]
  },
  {
   "cell_type": "code",
   "execution_count": 26,
   "id": "db370008",
   "metadata": {},
   "outputs": [],
   "source": [
    "STIRm2m1, STIRm1m2, CKA = calculate(num_rows//2, 20)"
   ]
  },
  {
   "cell_type": "code",
   "execution_count": 27,
   "id": "7b292d58",
   "metadata": {},
   "outputs": [],
   "source": [
    "STIRm2m1 = torch.stack(STIRm2m1, dim = 0)\n",
    "STIRm1m2 = torch.stack(STIRm1m2,dim = 0)\n",
    "CKA = torch.stack(CKA, dim = 0)"
   ]
  },
  {
   "cell_type": "code",
   "execution_count": 28,
   "id": "2b0c3365",
   "metadata": {},
   "outputs": [],
   "source": [
    "STIRm2m1 = STIRm2m1.to(\"cpu\")\n",
    "STIRm2m1 = STIRm2m1.numpy()\n",
    "STIRm1m2 = STIRm1m2.to(\"cpu\")\n",
    "STIRm1m2 = STIRm1m2.numpy()\n",
    "CKA = CKA .to(\"cpu\")\n",
    "CKA = CKA .numpy()"
   ]
  },
  {
   "cell_type": "code",
   "execution_count": 33,
   "id": "eb0f22ab",
   "metadata": {},
   "outputs": [
    {
     "name": "stdout",
     "output_type": "stream",
     "text": [
      "MultiNLI Matched: \n",
      "STIRm2m1: [0.98041785 0.9792513  0.95152473 0.9429107  0.95042974 0.9302541\n",
      " 0.900427   0.8464845  0.8260652  0.8047795  0.740901   0.60085076\n",
      " 0.09877233]\n",
      "STIRm1m2: [0.9802734  0.98260164 0.95885843 0.95170516 0.9561742  0.9560696\n",
      " 0.9557374  0.953673   0.95236903 0.9454916  0.9296031  0.88883364\n",
      " 0.5621771 ]\n",
      "CKA: [0.9999943  0.9744178  0.9329721  0.94144803 0.933718   0.91172045\n",
      " 0.8779851  0.83821833 0.8104092  0.77089    0.68687505 0.56582785\n",
      " 0.06700876]\n"
     ]
    }
   ],
   "source": [
    "print('MultiNLI Matched: ')\n",
    "print('STIRm2m1:', STIRm2m1)\n",
    "print('STIRm1m2:', STIRm1m2)\n",
    "print('CKA:', CKA)"
   ]
  },
  {
   "cell_type": "code",
   "execution_count": 17,
   "id": "febf5372",
   "metadata": {},
   "outputs": [
    {
     "name": "stdout",
     "output_type": "stream",
     "text": [
      "MultiNLI Mis-Matched: \n",
      "STIRm2m1: [0.9792304  0.9756118  0.94952804 0.9365913  0.94396    0.92171043\n",
      " 0.88090354 0.8125022  0.793868   0.7732425  0.71282995 0.5576588\n",
      " 0.09430637]\n",
      "STIRm1m2: [0.9790072  0.97980636 0.95791525 0.9494359  0.9507338  0.9489395\n",
      " 0.94679844 0.94559205 0.94545835 0.93818754 0.9205944  0.869924\n",
      " 0.53024954]\n",
      "CKA: [0.9999943  0.97138053 0.93726057 0.94368076 0.93860906 0.92115444\n",
      " 0.8821905  0.82639456 0.80338526 0.76416296 0.6835911  0.5600915\n",
      " 0.07605956]\n"
     ]
    }
   ],
   "source": [
    "print('MultiNLI Mis-Matched: ')\n",
    "print('STIRm2m1:', STIRm2m1)\n",
    "print('STIRm1m2:', STIRm1m2)\n",
    "print('CKA:', CKA)"
   ]
  },
  {
   "cell_type": "code",
   "execution_count": 29,
   "id": "2479f7c0",
   "metadata": {
    "scrolled": true
   },
   "outputs": [
    {
     "name": "stdout",
     "output_type": "stream",
     "text": [
      "AX: \n",
      "STIRm2m1: [0.9992385  0.9976229  0.9971987  0.99713105 0.9955953  0.9942026\n",
      " 0.98739034 0.9796667  0.9740187  0.9720046  0.9635213  0.9179037\n",
      " 0.44487333]\n",
      "STIRm1m2: [0.9992404  0.9975626  0.99690306 0.9971735  0.99577045 0.9949276\n",
      " 0.992567   0.9909205  0.98961955 0.98875344 0.9872759  0.98308176\n",
      " 0.87677824]\n",
      "CKA: [0.9999942  0.99582845 0.98032427 0.98080206 0.97052    0.9222913\n",
      " 0.8808608  0.8406852  0.8208451  0.8040043  0.7921142  0.71190184\n",
      " 0.22462793]\n"
     ]
    }
   ],
   "source": [
    "print('AX: ')\n",
    "print('STIRm2m1:', STIRm2m1)\n",
    "print('STIRm1m2:', STIRm1m2)\n",
    "print('CKA:', CKA)"
   ]
  },
  {
   "cell_type": "code",
   "execution_count": 6,
   "id": "f3573201",
   "metadata": {},
   "outputs": [
    {
     "data": {
      "image/png": "[encoded data removed]",
      "text/plain": [
       "<Figure size 1000x800 with 1 Axes>"
      ]
     },
     "metadata": {},
     "output_type": "display_data"
    }
   ],
   "source": [
    "import numpy as np\n",
    "import matplotlib.pyplot as plt\n",
    "\n",
    "xs = np.arange(13)\n",
    "plt.rcParams[\"figure.figsize\"] = [10,8]\n",
    "\n",
    "series = np.array(STIRm2m1)\n",
    "smask = np.isfinite(series)\n",
    "plt.plot(xs[smask], series[smask], linestyle='-', marker='s', markersize=10, color='green')\n",
    "\n",
    "series = np.array(STIRm1m2)\n",
    "smask = np.isfinite(series)\n",
    "plt.plot(xs[smask], series[smask], linestyle='-', marker='o', markersize=10, color='blue')\n",
    "\n",
    "series = np.array(CKA)\n",
    "smask = np.isfinite(series)\n",
    "plt.plot(xs[smask], series[smask], linestyle='-', marker='p', markersize=10, color='red')\n",
    "\n",
    "plt.legend(['STIR(Fine-tuned|Pre-trained)', 'STIR(Pre-trained|Fine-tuned)', 'CKA(Pre-trained, Fine-tuned)'], fontsize=18)\n",
    "plt.xlabel('Layer Depth', fontsize = 19, fontweight = 'bold')\n",
    "plt.ylabel('CKA/STIR', fontsize = 19, fontweight ='bold')\n",
    "\n",
    "plt.grid(True)\n",
    "plt.xticks(fontsize=17)\n",
    "plt.yticks(fontsize=17)\n",
    "#plt.tight_layout()\n",
    "#plt.show()\n",
    "plt.savefig('AX STIR.pdf', bbox_inches='tight')\n",
    "plt.savefig('AX STIR.jpg', bbox_inches='tight')"
   ]
  },
  {
   "cell_type": "code",
   "execution_count": null,
   "id": "ffef228f",
   "metadata": {},
   "outputs": [],
   "source": []
  }
 ],
 "metadata": {
  "kernelspec": {
   "display_name": "Python 3 (ipykernel)",
   "language": "python",
   "name": "python3"
  },
  "language_info": {
   "codemirror_mode": {
    "name": "ipython",
    "version": 3
   },
   "file_extension": ".py",
   "mimetype": "text/x-python",
   "name": "python",
   "nbconvert_exporter": "python",
   "pygments_lexer": "ipython3",
   "version": "3.9.13"
  }
 },
 "nbformat": 4,
 "nbformat_minor": 5
}
